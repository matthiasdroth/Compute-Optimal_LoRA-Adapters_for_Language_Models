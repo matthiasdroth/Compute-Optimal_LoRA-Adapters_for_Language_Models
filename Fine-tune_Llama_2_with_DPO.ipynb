{
 "cells": [
  {
   "cell_type": "markdown",
   "id": "7f172b9e-e1e4-4a17-b14d-96589b0cd0f0",
   "metadata": {},
   "source": [
    "# Fine-tune Llama 2 with DPO"
   ]
  },
  {
   "cell_type": "code",
   "execution_count": 4,
   "id": "3532cb44-c7c2-4c68-8e30-90dfb708be68",
   "metadata": {},
   "outputs": [
    {
     "name": "stderr",
     "output_type": "stream",
     "text": [
      "/home/matthias/Desktop/Compute-Optimal_LoRA_Adapters_for_Causal-LM/env/lib/python3.11/site-packages/tqdm/auto.py:21: TqdmWarning: IProgress not found. Please update jupyter and ipywidgets. See https://ipywidgets.readthedocs.io/en/stable/user_install.html\n",
      "  from .autonotebook import tqdm as notebook_tqdm\n",
      "Downloading readme: 100%|███████████████████████| 737/737 [00:00<00:00, 325kB/s]\n",
      "Resolving data files: 100%|█████████████████████| 20/20 [00:00<00:00, 51.82it/s]\n",
      "Downloading data: 100%|██████████████████████| 315M/315M [02:07<00:00, 2.48MB/s]\n",
      "Downloading data: 100%|██████████████████████| 313M/313M [02:00<00:00, 2.61MB/s]\n",
      "Downloading data: 100%|██████████████████████| 313M/313M [02:06<00:00, 2.47MB/s]\n",
      "Downloading data: 100%|██████████████████████| 314M/314M [02:05<00:00, 2.51MB/s]\n",
      "Downloading data: 100%|██████████████████████| 315M/315M [02:08<00:00, 2.44MB/s]\n",
      "Downloading data: 100%|██████████████████████| 313M/313M [02:04<00:00, 2.51MB/s]\n",
      "Downloading data: 100%|██████████████████████| 314M/314M [02:06<00:00, 2.49MB/s]\n",
      "Downloading data: 100%|██████████████████████| 312M/312M [02:38<00:00, 1.97MB/s]\n",
      "Downloading data: 100%|██████████████████████| 314M/314M [02:00<00:00, 2.60MB/s]\n",
      "Downloading data: 100%|██████████████████████| 312M/312M [02:02<00:00, 2.56MB/s]\n",
      "Downloading data: 100%|██████████████████████| 313M/313M [02:05<00:00, 2.50MB/s]\n",
      "Downloading data: 100%|██████████████████████| 314M/314M [02:02<00:00, 2.56MB/s]\n",
      "Downloading data: 100%|██████████████████████| 312M/312M [02:02<00:00, 2.54MB/s]\n",
      "Downloading data: 100%|██████████████████████| 313M/313M [02:01<00:00, 2.57MB/s]\n",
      "Downloading data: 100%|██████████████████████| 312M/312M [02:03<00:00, 2.53MB/s]\n",
      "Downloading data: 100%|██████████████████████| 313M/313M [02:06<00:00, 2.48MB/s]\n",
      "Downloading data: 100%|██████████████████████| 313M/313M [02:06<00:00, 2.46MB/s]\n",
      "Downloading data: 100%|██████████████████████| 314M/314M [02:16<00:00, 2.30MB/s]\n",
      "Downloading data: 100%|██████████████████████| 312M/312M [02:13<00:00, 2.33MB/s]\n",
      "Downloading data: 100%|██████████████████████| 313M/313M [02:09<00:00, 2.43MB/s]\n",
      "Generating train split: 7435908 examples [00:23, 315901.42 examples/s]\n",
      "Map: 100%|█████████████████| 7435908/7435908 [01:06<00:00, 111641.38 examples/s]\n"
     ]
    },
    {
     "data": {
      "text/plain": [
       "Dataset({\n",
       "    features: ['qid', 'question', 'date', 'metadata', 'response_j', 'response_k'],\n",
       "    num_rows: 7435908\n",
       "})"
      ]
     },
     "execution_count": 4,
     "metadata": {},
     "output_type": "execute_result"
    }
   ],
   "source": [
    "from datasets import load_dataset\n",
    "\n",
    "def return_prompt_and_responses(samples):# -> Dict[str, str, str]:\n",
    "    return {\n",
    "        \"prompt\": [\n",
    "            \"Question: \" + question + \"\\n\\nAnswer: \"\n",
    "            for question in samples[\"question\"]\n",
    "        ],\n",
    "        \"chosen\": samples[\"response_j\"],   # rated better than k\n",
    "        \"rejected\": samples[\"response_k\"], # rated worse than j\n",
    "    }\n",
    "dataset = load_dataset(\n",
    "    \"lvwerra/stack-exchange-paired\",\n",
    "    split=\"train\",\n",
    "    data_dir=\"data/rl\"\n",
    ")\n",
    "original_columns = dataset.column_names\n",
    "dataset.map(\n",
    "    return_prompt_and_responses,\n",
    "    batched=True,\n",
    "    remove_columns=original_columns\n",
    ")\n",
    "dataset"
   ]
  },
  {
   "cell_type": "code",
   "execution_count": null,
   "id": "15c3fe9c-cb0a-4f33-99d3-8a2c7c1ac5d2",
   "metadata": {},
   "outputs": [],
   "source": [
    "from transformers import DPOTrainer\n",
    "dpo_trainer = DPOTrainer(\n",
    "    model,                 # base model from SFT pipeline\n",
    "    model_ref,             # typically a copy of the SFT trained base model\n",
    "    beta=0.1,              # temperature hyperparameter of DPO\n",
    "    train_dataset=dataset, # dataset prepared above\n",
    "    tokenizer=tokenizer,   # tokenizer\n",
    "    args=training_args,    # training arguments e.g. batch size, lr, etc.\n",
    ")\n",
    "dpo_trainer"
   ]
  }
 ],
 "metadata": {
  "kernelspec": {
   "display_name": "Python 3 (ipykernel)",
   "language": "python",
   "name": "python3"
  },
  "language_info": {
   "codemirror_mode": {
    "name": "ipython",
    "version": 3
   },
   "file_extension": ".py",
   "mimetype": "text/x-python",
   "name": "python",
   "nbconvert_exporter": "python",
   "pygments_lexer": "ipython3",
   "version": "3.11.3"
  }
 },
 "nbformat": 4,
 "nbformat_minor": 5
}
