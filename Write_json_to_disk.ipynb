{
 "cells": [
  {
   "cell_type": "code",
   "execution_count": 1,
   "id": "753f6432-a8b3-4558-a0ae-fd1b3143ad25",
   "metadata": {},
   "outputs": [
    {
     "data": {
      "text/plain": [
       "'DONE'"
      ]
     },
     "execution_count": 1,
     "metadata": {},
     "output_type": "execute_result"
    }
   ],
   "source": [
    "import json \n",
    "\t\n",
    "# Define student_details dictionary\n",
    "student_details ={ \n",
    "\t\"name\" : \"sathiyajith\", \n",
    "\t\"rollno\" : 56, \n",
    "\t\"cgpa\" : 8.6, \n",
    "\t\"phonenumber\" : \"9976770500\"\n",
    "} \n",
    "\t\n",
    "# Convert and write JSON object to file\n",
    "with open(\"sample.json\", \"w\") as outfile: \n",
    "\tjson.dump(student_details, outfile)\n",
    "\n",
    "\"DONE\""
   ]
  },
  {
   "cell_type": "code",
   "execution_count": 2,
   "id": "1e1d5a54-30d1-493b-8e78-a7f96100e96b",
   "metadata": {},
   "outputs": [
    {
     "name": "stdout",
     "output_type": "stream",
     "text": [
      " 1_ner\n",
      " 2_summarization\n",
      " 3_causallm\n",
      " 7.2-Token_classification_conll.ipynb\n",
      " 7.2-Token_classification_conll_LoRA.ipynb\n",
      " 7.2-Token_classification_default.ipynb\n",
      " 7.2-Token_classification_edits_22.ipynb\n",
      " 7.2-Token_classification_edits.ipynb\n",
      " Blenderbot\n",
      " Data\n",
      " enneo\n",
      " env\n",
      " LLaMA\n",
      " logs\n",
      " LoRA_for_token_classification.ipynb\n",
      " ner\n",
      "'Organizing_Hyperparameter_Sweeps_in_PyTorch_with_W&B.ipynb'\n",
      " __pycache__\n",
      " PyTorch_GPU-Check.ipynb\n",
      " README.md\n",
      " requirements.txt\n",
      " sample.json\n",
      " TeX\n",
      " Token_classification_with_LoRA_0.ipynb\n",
      " Token_classification_with_LoRA_edits-backup.ipynb\n",
      " Token_classification_with_LoRA_edits.ipynb\n",
      " Token_classification_with_LoRA.ipynb\n",
      "'Token_classification_with_LoRA_training_edits_(old_but_works).ipynb'\n",
      " utils.py\n",
      " wandb\n",
      " Write_json_to_disk.ipynb\n"
     ]
    }
   ],
   "source": [
    "!ls"
   ]
  },
  {
   "cell_type": "code",
   "execution_count": 3,
   "id": "0759c778-4375-42e7-ada9-3282ee8b791b",
   "metadata": {},
   "outputs": [
    {
     "name": "stdout",
     "output_type": "stream",
     "text": [
      " 1_ner\n",
      " 2_summarization\n",
      " 3_causallm\n",
      " 7.2-Token_classification_conll.ipynb\n",
      " 7.2-Token_classification_conll_LoRA.ipynb\n",
      " 7.2-Token_classification_default.ipynb\n",
      " 7.2-Token_classification_edits_22.ipynb\n",
      " 7.2-Token_classification_edits.ipynb\n",
      " Blenderbot\n",
      " Data\n",
      " enneo\n",
      " env\n",
      " LLaMA\n",
      " logs\n",
      " LoRA_for_token_classification.ipynb\n",
      " ner\n",
      "'Organizing_Hyperparameter_Sweeps_in_PyTorch_with_W&B.ipynb'\n",
      " __pycache__\n",
      " PyTorch_GPU-Check.ipynb\n",
      " README.md\n",
      " requirements.txt\n",
      " TeX\n",
      " Token_classification_with_LoRA_0.ipynb\n",
      " Token_classification_with_LoRA_edits-backup.ipynb\n",
      " Token_classification_with_LoRA_edits.ipynb\n",
      " Token_classification_with_LoRA.ipynb\n",
      "'Token_classification_with_LoRA_training_edits_(old_but_works).ipynb'\n",
      " utils.py\n",
      " wandb\n",
      " Write_json_to_disk.ipynb\n"
     ]
    }
   ],
   "source": [
    "!rm sample.json\n",
    "!ls"
   ]
  }
 ],
 "metadata": {
  "kernelspec": {
   "display_name": "Python 3 (ipykernel)",
   "language": "python",
   "name": "python3"
  },
  "language_info": {
   "codemirror_mode": {
    "name": "ipython",
    "version": 3
   },
   "file_extension": ".py",
   "mimetype": "text/x-python",
   "name": "python",
   "nbconvert_exporter": "python",
   "pygments_lexer": "ipython3",
   "version": "3.10.12"
  }
 },
 "nbformat": 4,
 "nbformat_minor": 5
}
