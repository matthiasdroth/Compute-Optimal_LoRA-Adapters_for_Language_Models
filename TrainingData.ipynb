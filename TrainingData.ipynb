{
 "cells": [
  {
   "cell_type": "code",
   "execution_count": 1,
   "id": "bd29ff8c-8a0e-4e68-8709-bd8c34374c9d",
   "metadata": {},
   "outputs": [
    {
     "name": "stderr",
     "output_type": "stream",
     "text": [
      "/home/matthias/Desktop/Compute-Optimal_LoRA_Adapters_for_Causal-LM/env/lib/python3.11/site-packages/tqdm/auto.py:21: TqdmWarning: IProgress not found. Please update jupyter and ipywidgets. See https://ipywidgets.readthedocs.io/en/stable/user_install.html\n",
      "  from .autonotebook import tqdm as notebook_tqdm\n"
     ]
    },
    {
     "data": {
      "text/plain": [
       "IterableDatasetDict({\n",
       "    train: IterableDataset({\n",
       "        features: ['id', 'text', 'meta'],\n",
       "        n_shards: 403\n",
       "    })\n",
       "})"
      ]
     },
     "execution_count": 1,
     "metadata": {},
     "output_type": "execute_result"
    }
   ],
   "source": [
    "from datasets import load_dataset\n",
    "#load_dataset(\"EleutherAI/pile\", \"github\")\n",
    "# path: \"/media/matthias/WD4TB/Storage/oscar-corpus_OSCAR-2301_de\"\n",
    "dataset = load_dataset(\"oscar-corpus/OSCAR-2301\", \"de\", streaming=True, trust_remote_code=True)\n",
    "dataset"
   ]
  },
  {
   "cell_type": "code",
   "execution_count": 13,
   "id": "ca860cef-bcd2-48bf-861c-e80b6ed506b3",
   "metadata": {},
   "outputs": [
    {
     "data": {
      "text/plain": [
       "{'id': 0,\n",
       " 'text': 'Maschinenwerkzeuge Metallbearbeitung Holzbearbeitung Steinbearbeitung Stichsägeblätter und Säbelsägeblätter Lochsägen, Dosenbohrer, Kreisschneider Werkzeuge für Oszilliermaschinen Verschrauben Technische Bürsten Schleifvlies- und Reinigungsscheiben Spannwerkzeuge Rührflügel\\nHandwerkzeuge Gewinde bohren und schneiden Sägen, Schneiden, Lochen, Stanzen Feilen, Schaben und Hobeln Handschleifmittel Bürsten, Pinsel und Roller Ölen, Fetten und Schmieren Schraubenzieher Steckschlüssel Werkzeugkoffer und -Kisten, Werkstattwagen Schlüsselwerkzeuge Spalt-, Schlag- und Brechwerkzeuge Zangen und Abisolieren Suchen, Greifen, Haken, Magnete Plombieren, Nieten und Heften Spannwerkzeuge\\nMesswerkzeuge Längen-, Dicken- und Tiefenmessung Winkelmessungen Anreissen Beschriften und Signieren Kontrollieren, Wägen und Orten Nivellieren Strommessgeräte Feuchtigkeits- und Temperaturmessgeräte Licht- Luft- Schall- und Zeitmessung Schreinerei und Holzbau Handhobel Stechbeitel und Stemmeisen, Schnitzwerkzeuge Holz- Spiral- und -Schlangenbohrer Holz-Versenker und Tiefenanschläge Fräser Hobelmesser für Maschinen Bohr- und Fräslehren Leimauftragsgeräte und Pinsel Spannwerkzeuge Glasbearbeitung Feuchtigkeits-Messgeräte Werkzeugkoffer und -Kisten\\nBauwerkzeuge Karretten, Walzen, Eimer, Mulden, Giesskannen Langstielgeräte Hämmer, Fäustel, Schlegel, Meissel Spachteln, Kellen, Reibscheiben, Taloschen, Fugen- und Kantenzieher Schwämme, Pinsel, Fegbürsten, Waschbretter, Ausfugscheiben Gerüst- und Schalungswerkzeuge Trockenbau- und Gipserwerkzeuge Profilverbundzangen, Hebelschneider Fliesenlochzangen, Brechzangen Plattenlegerwerkzeuge Richtlatten, Setzlatten, Abziehlatten, Abziehschienen Plattenheber, Blocksteinzangen Klapp- und Gerüstböcke Plantaschen, Planständer und Planhäuser Bodenlegerschuhe, Plattenlegerschuhe, Teerschuhe, Nagelsohlen Werkzeugkisten und Gerätetruhen Spengler- und Dachspenglerwerkzeuge Blechscheren und Hebelscheren Schieferzementscheren, Faserzementscheren Profilverbundzangen, Hebelschneider Blechknabber Spenglerzangen Karosseriehämmer, Spenglerhämmer, Ausbeulhämmer Spengler-Spezialwerkzeuge Bodenlegerschuhe, Plattenlegerschuhe, Teerschuhe, Nagelsohlen Werkzeugkoffer und -Kisten Sanitärwerkzeuge Zangen und -Schlüssel Rohr Schneiden Sägen Entgraten Rohrbiegeapparate Ketten-Rohrsspannstöcke Schweissspiegel, Schweissmaschinen Rohr-Einfriergeräte und Zubehör Pressmaschinen Aufweiten/Aushalsen/Bördeln Rohr Gewindeschneiden und Dichten Rohrreinigung Such- Druck- und Prüfgeräte Werkzeugkoffer und -Kisten Garagen und Carosserie Kfz-Spezialwerkzeuge Motorenwerkzeuge Karosseriewerkzeuge Reifen, Bremsen, Fahrwerk Auto-Elektrik, Prüfgeräte Garageneinrichtungen Steckschlüssel-Einsätze für Kfz Bodenleger Bodenlegerwerkzeuge Bodenbelagsentfernung Schleifen und Reinigen Flüssigkeits-Auftragsgeräte Feuchtigkeits-Messgeräte Knieschutz, Knieschoner Bodenlegerschuhe, Plattenlegerschuhe, Teerschuhe, Nagelsohlen Maschinen Elektrowerkzeuge Bohren, Schrauben, Schlagen, Meisseln, Drehen Fräsen und Hobeln Schleifen, Bürsten, Polieren, Schaben Sägen und Trennen Scheren, Knabber / Nibbler, Entgrater, Fügepressen Nieten, Heften, Nageln, Binden, Auspresspistolen Rühren, Vibrieren, Sprühen Kleben, Schmelzen, Heissluftgebläse, Föhne Ersatzakkus, Ladegeräte, Radios und Werkzeugsicherungen Löten, Wärmen, Schweissen und Schneiden Druckluftaufbereitung und -Werkzeuge Garantieverlängerungen, Fanartikel, Geschenkgutscheine, Ersatzteile\\nBekleidung und Arbeitsschutz\\nArbeitsschutz und Bekleidung Kopfschutz, Augen-, Ohr- und Atemschutz Handschuhe Schuhe, Stiefel, Socken und Pflegeprodukte Bekleidung und Körperschutz Sicherheit am Arbeitsplatz\\nBetriebsmittel und Betriebseinrichtungen\\nBüro-Einrichtung und -Ausstattung Bürotische Stühle, Hocker, Sitzgruppen Büromöbel Präsentation und Moderation Planung und Information Büro-Ausstattung Schlüssel, Tresore, Sicherungen Innendekoration\\nGarderobenschränke Garderobenschränke Metall Garderobenschränke Holz Garderobenschränke, Fächerschränke Garderobenschränke, Schliessfachschränke für Kinder Garderobenschränke mit Sitzbank Kleider-Wäscheschränke Umkleidebänke Raumsparschränke, Z-Schränke Schliessfach-Schränke Schliessfach-Garderoben Garderobenregale Garderobenschränke Zubehör\\nWerkstatt- und Betriebs-Einrichtungen Werkbänke, System- und Arbeitstische Schubladenschränke Werkzeug- und Werkstattwagen Türschränke Schlitz- und Lochplattensysteme Werkbankeinrichtungen Lager- und Transportbehälter Gefahrenstofflagerung und Sicherheitskennzeichnung Fass- und Containerhandling und Zubehör Transport- und Fördertechnik Transportkarren Plattform- Tisch- und Etagenwagen Transportgeräte Hubwagen, Stapler, Hebegeräte, Werkstattkräne Saugheber, Gurten, Schlingen, Gehänge, Seil- und Kettenzüge\\nKlapptritte, Leitern, Gerüste, Arbeitsbühnen Allzweckhocker, Trittschemel Montagetritte fest Klapptritte, Gipsertritte Stufenstehleitern, Haushaltsleitern Anlegeleitern Bockleitern, Doppelstufenleitern Mehrzweckleitern Plattformleitern, Podesttreppen Treppen fest montiert Schacht- und Steigleitern Spezialleitern und -tritte Arbeitsplattformen, Klappgerüste klein Gerüste: Lauf- und Arbeitsbühnen Zubehör zu Leitern und Gerüste Generatoren, Stromverteilung, Beleuchtung, Batterien Stromerzeugung Stromverteilung Installationsmaterial Beleuchtung mobil und stationär Leuchtmittel, Lampen Batterien und Ladegeräte Chemische und technische Betriebsmittel Fahrzeugeinrichtung und Unterhalt Verpackung und Versand Klebebänder, Gewebebänder, Montagebänder, Abdeckbänder Abdeckpapier, Abdeckfolien, Abdeckvlies, Abdeckplanen Klebstoffe Dicht- und Spachtelmasse Kitt, PU-Schäume Kühl-, Schmier- und Gleitmittel, Kraftstoffe Farben, Lösungsmittel, Rostschutz\\nKlimageräte, Gebäudereinigung, Wassertechnik, Gartenmaschinen\\nKlimatisierung: Heizen, Kühlen Entfeuchten Elektroheizgeräte Warmlufterzeuger Öl Warmlufterzeuger Gas Tischventilatoren, Bodenventilatoren, Standventilatoren Luftentfeuchtung und Klimageräte Reinigungsmittel und Geräte Sanitärbedarf, Handtücher, Seifen, WC-Papier Schwämme, Putzfäden und Reinigungslappen Bodenreinigungssysteme Reinigungsmittel Textilpflege Fensterreiniger Bürsten, Handwischer und Kehrichtschaufeln Laubbesen, Laubrechen Eiskratzer, Schneeschieber, -Schaufel, -Fräsen Staubsauger, Bodenreinigung Nass- und Trockensauger Waschsauger und Dampfreiniger Reinigungs- und Scheuersaugmaschinen Bodenreinigungsmittel Kehr- und Kehrsaugmaschinen Trockeneisreinigung Luftreiniger für Raumluft Absauggeräte Hochdruckreiniger Hochdruckreiniger Akku Hochdruckreiniger Elektro Hochdruckreiniger Benzin / Diesel Zubehör für Hochdruckreiniger Wassertechnik, Schläuche Wasserpumpen und Hauswasserwerke Schlauchhalter und -Wagen Schläuche Ohrschellen, Schlauchbriden und -Klemmen Wasserhähne, Kupplungen und Nippel Spritzpistolen, Brausen, Sprinkler Eimer, Giesskannen Bodenreinigung Rasenmäher, Vertikutierer, Trimmer, Heckenscheren, Blasgeräte Rasenmäher, Rasentraktoren, Balkenmäher Vertikutierer und Motorhacken KombiSystem und MultiSystem Rasentrimmer Motorsensen Gras- und Strauchscheren, Heckenscheren, Garten- und Astscheren Saug- und Blasgeräte Häcksler und Saughäcksler Kettensägen und Hoch-Entaster Bohrgeräte für Erdlöcher Elektrobürsten\\nGartengeräte, Gartenmöbel, Grills und Fahnenmasten\\nGarten, Land- und Forstwirtschaft Handwerkzeuge, Kurz- und Langstielgeräte Garten-, Pflanzen- und Teichpflege Schädlingsbekämpfung, Pestizide Tierhaltung und -Pflege Karretten, Erdsiebe, Kompostsilos, Gartensäcke, Körbe Kleinmaschinen für Garten-, Land- und Forstwirtschaft Grossmaschinen und Geräte für Land- und Forstwirtschaft Gartenmöbel, Sonnenschirme, Zelte Gartentische Gartenstühle Gartenbänke Gartenliegen Hängematten Lounges Kissen, Kissenboxen Schutzhüllen, Abdeckhauben Sonnenschirme und Hüllen, Sockel, Standrohre Kinderspielgeräte Fahnenmasten Zubehör zu Gartenmöbel Zubehör zu Sonnensegel Zubehör zu Hängematten Holzkohlegrills, Feuerschalen, Gasgrills, Zubehör Holzkohlegrills, Smokers Feuerstellen, Feuerschalen, Feuerkörbe Gasgrills, Elektrogrill Gasherde, Gaskocher, Gasbrenner, Spülbecken Gas, Gasanschlussschläuche, Regler Abdeckhauben zu Grill Grillthermometer Einstichthermometer, Fleischthermometer Grillplatten, Kessel, Hamburgerpressen, Gewichte Grillroste, Gemüsekörbe Grillspiesse, Drehmotoren Pfannen, Schüsseln, Schalen, Deckel Pizzaöfen Pizza: Steine, Schneider, Heber, Wender Geflügelbräter, Fischbräter Servierbretter, Besteck, Grillzangen, Pinsel Behälter für Holzkohle, Pellets, Räucherchips Holzkohle, Pellets, Räucherchips Anzündhilfen, Brennsprit und -paste, Gebläse, Anzündkamine Handschuhe, Topflappen Grillzubehör diverses Grillbürsten, Grillreinigungsmittel\\nBeschläge für Holz und Metall\\nTür- und Torbeschläge Türbänder Türschlösser und Türöffner Türzylinder, -Sicherheit Sichtbeschläge für Türen Sockelbleche, Türschoner, Normprofile, Treppenprofile Dichtungen Drehflügelantriebe und Türschliesser Türzubehör Schiebetür- und Torbeschläge Fenster- und Jalousiebeschläge Fensterbeschläge SIEGENIA Fenstergriffe, Rosetten, -Sicherungen Oberlichtbeschläge, Fensterlüftungen Fensterbeschläge klassisch Jalousiebeschläge, Insektenschutz Spezialfenster- und Türbeschläge Wetterschenkel, Simskonsolen Insektenschutz-Gitter, Insektenschutz-Rollos, Fliegengitter Möbel- und Schrankbeschläge, Küchen- und Badausstattung Möbelbänder, Montageplatten, Möbelscharniere Möbelschlösser und Zubehör Möbelzubehör Boxsysteme und Schubladenführungen Möbelgriffe und -Knöpfe, Schlüsselschilder Schrankschiebetüren Schrankeinrichtungen Schrankrohre, Relingbeschläge, Barbeschläge Küchenausstattung Toilette, Dusche, Bad Beleuchtung für Möbel und Innenausbau Tischfüsse, Rollen, Innenausbau, Garderoben Tischfüsse, Tischbeschläge, Möbelgleiter, Sockelversteller Möbel-, Apparate-, Transportrollen und Räder Stellschienen und Konsolen Glasbaubeschläge Trennwand- und Handlaufstützen Handtuchhaken und -halter, Hut- und Mantelhaken Kleiderständer, Kleiderbügel, Garderoben Plan-, Bilder- und Vorhangschienen Lüftungsgitter, Dunstabzugsysteme\\nBefestigungs- und Montagetechnik\\nHolzbau, Treppenbau, Stützenbeschläge, Gebäudehülle Absturzsicherungen im Dachbereich Gebäudehülle Dach und Fassade Holzbauverbinder Bulldog, Schrauben, Dübel, Nägel, Muffen Klammern Montagelehren, -Schablonen und -Stützen, Hebegeräte Stützenbeschläge Treppenbau Terrassen- und Fassadenbefestiger Montagematerial Kistenbeschläge Verbindungs- und Befestigungstechnik Metallschrauben Gewindestifte, -stangen, -bolzen Muttern und Gewindeeinsätze Scheiben und Sicherungselemente Blechschrauben, selbstschneidende Schrauben Holz- und Spanplattenschrauben Haken-, Ring- und Schaukelschrauben, Pitonnerie Drehteile und Konstruktionselemente Stifte, Nägel, Klammern, Keile, Nieten und Federn Schnüre, Seile, Draht, Ketten und Zubehör Befestigungstechnik für Mauerwerk Kunststoffdübel Dübel für schwere Lasten Betonschrauben, Rahmenschrauben Dübel für Rahmen, Fassaden, Geländer- und Gerüste Dübel für Hohlraumbefestigungen Chemische Befestigungen Dübel für Dämmstoffe\\nMetalle: Profile und Bleche\\nMetalle Profile und Bleche Stabstahl, Stahlleichtprofile / kaltgerollte Profile Breitflanschträger und Formstahlträger Hohlprofile Qualitätsstahl Blankstahl INOX / Rostfreier Stahl Nichteisenmetalle Bleche und Gitter\\nTechnische Komponenten: Angst + Pfister\\nTechnische Produkte ANGST + PFISTER Kunststofftechnik Dichtungstechnik Fluidtechnik Antriebstechnik Schwingungstechnik Filtertechnik\\nHaustechnik und Versorgung\\nSanitärtechnik Hauseinführungen Apparate Hausarmaturen Hausinstallationssysteme Rohrverbindungen Gebäudeentwässerung, Vorwandsysteme Pumpen / Heizbänder Lüftungstechnik Rohrschellen, Rohrisolationen, Dichtungen und Zubehör Heizung, Lüftung, Klima Wärmeerzeugung Wärmeverteilung Wärmeabgabe Kältetechnik Lüftung Zubehör Spenglerei Halbfabrikate PREFA Dach- und Fassadensysteme Flach- und Steildachprodukte Blitzschutz Lüftungs- und Kaminhüte Ornamente, Schindelbänder Tafel- und Rollenbleche Werkzeuge Befestigungstechnik, Dichten, Löten, Nieten, Haften Absturzsicherungen im Dachbereich Wasserversorgung Guss Druckrohre und Formstücke Armaturen Wasser Armaturen Gas Strassenkappen Hydranten Mehrbereichs- und Reparaturkupplungen PE-Druckrohre und Formstücke Klemmverbinder / Steckfittings Hauseinführungen / Pressringe Wasserleitungszubehör und Hilfsmittel',\n",
       " 'meta': {'warc_headers': {'warc-record-id': '<urn:uuid:883fd31a-bdba-4ecf-b575-99b803b72e6a>',\n",
       "   'warc-date': '2022-12-06T11:59:26Z',\n",
       "   'content-type': 'text/plain',\n",
       "   'content-length': 12624,\n",
       "   'warc-type': 'conversion',\n",
       "   'warc-identified-content-language': 'deu,eng',\n",
       "   'warc-refers-to': '<urn:uuid:1aa018c7-5d7e-4c34-814e-e3f142f77614>',\n",
       "   'warc-target-uri': 'https://muellershop.ch/?srv=sortiment&tenid=318&rub=710&partnerId=36',\n",
       "   'warc-block-digest': 'sha1:KHJR3AZ6QA3XENANMD52WRCUEDMNA2DS'},\n",
       "  'identification': {'label': 'de', 'prob': 0.9523839},\n",
       "  'harmful_pp': 395296.84,\n",
       "  'tlsh': 'tlsh:T1EE206242B82FC868CF4183811B71AB8109E84A2BAC339CE39E341952773FA4E7CA3E5DC71FA7F5C525AC779793B86186C6A0246AF22C43467E18DD4DC24F874A5C48284F7A',\n",
       "  'quality_warnings': None,\n",
       "  'categories': None,\n",
       "  'sentence_identifications': [{'label': 'de', 'prob': 0.97656924},\n",
       "   {'label': 'de', 'prob': 0.9510166},\n",
       "   {'label': 'de', 'prob': 0.98384917},\n",
       "   {'label': 'de', 'prob': 0.9494296},\n",
       "   {'label': 'de', 'prob': 0.9974621},\n",
       "   {'label': 'de', 'prob': 0.9937428},\n",
       "   {'label': 'de', 'prob': 0.9985387},\n",
       "   {'label': 'de', 'prob': 0.9760222},\n",
       "   {'label': 'de', 'prob': 0.942939},\n",
       "   {'label': 'de', 'prob': 0.9724112},\n",
       "   {'label': 'de', 'prob': 0.96153694},\n",
       "   {'label': 'de', 'prob': 0.9891278},\n",
       "   {'label': 'de', 'prob': 0.95757943},\n",
       "   {'label': 'de', 'prob': 0.9695339},\n",
       "   {'label': 'de', 'prob': 0.91604686},\n",
       "   {'label': 'de', 'prob': 0.99624676},\n",
       "   {'label': 'de', 'prob': 0.93672174},\n",
       "   {'label': 'de', 'prob': 0.94796944},\n",
       "   {'label': 'de', 'prob': 0.973421},\n",
       "   {'label': 'de', 'prob': 0.9244152},\n",
       "   {'label': 'de', 'prob': 0.9299924},\n",
       "   {'label': 'de', 'prob': 0.8681145},\n",
       "   {'label': 'de', 'prob': 0.93150824},\n",
       "   {'label': 'de', 'prob': 0.98971766},\n",
       "   {'label': 'de', 'prob': 0.9560949}]}}"
      ]
     },
     "execution_count": 13,
     "metadata": {},
     "output_type": "execute_result"
    }
   ],
   "source": [
    "next(iter(dataset[\"train\"]))#[\"text\"]"
   ]
  },
  {
   "cell_type": "code",
   "execution_count": 2,
   "id": "7c80c25a-ba72-4be5-a778-8f364d66acfc",
   "metadata": {},
   "outputs": [],
   "source": [
    "# save via zstandard library"
   ]
  },
  {
   "cell_type": "code",
   "execution_count": 3,
   "id": "3a8730f6-851e-455a-8886-2ef5ecfec670",
   "metadata": {},
   "outputs": [
    {
     "name": "stderr",
     "output_type": "stream",
     "text": [
      "/home/matthias/Desktop/Compute-Optimal_LoRA_Adapters_for_Causal-LM/env/lib/python3.11/site-packages/datasets/load.py:1429: FutureWarning: The repository for EleutherAI/pile contains custom code which must be executed to correctly load the dataset. You can inspect the repository content at https://hf.co/datasets/EleutherAI/pile\n",
      "You can avoid this message in future by passing the argument `trust_remote_code=True`.\n",
      "Passing `trust_remote_code=True` will be mandatory to load this dataset from the next major release of `datasets`.\n",
      "  warnings.warn(\n"
     ]
    },
    {
     "ename": "FileNotFoundError",
     "evalue": "Couldn't find file at https://the-eye.eu/public/AI/pile_preliminary_components/github.tar",
     "output_type": "error",
     "traceback": [
      "\u001b[0;31m---------------------------------------------------------------------------\u001b[0m",
      "\u001b[0;31mFileNotFoundError\u001b[0m                         Traceback (most recent call last)",
      "Cell \u001b[0;32mIn[3], line 14\u001b[0m\n\u001b[1;32m      1\u001b[0m \u001b[38;5;66;03m# success\u001b[39;00m\n\u001b[1;32m      2\u001b[0m \u001b[38;5;66;03m## \"enron_emails\": load_dataset(\"EleutherAI/pile\", \"enron_emails\")\u001b[39;00m\n\u001b[1;32m      3\u001b[0m \u001b[38;5;66;03m# failure\u001b[39;00m\n\u001b[0;32m   (...)\u001b[0m\n\u001b[1;32m     10\u001b[0m \u001b[38;5;66;03m## \"ubuntu_irc\": load_dataset(\"EleutherAI/pile\", \"ubuntu_irc\")\u001b[39;00m\n\u001b[1;32m     11\u001b[0m \u001b[38;5;66;03m## \"uspto\": load_dataset(\"EleutherAI/pile\", \"uspto\") # github\u001b[39;00m\n\u001b[1;32m     13\u001b[0m \u001b[38;5;28;01mfrom\u001b[39;00m \u001b[38;5;21;01mdatasets\u001b[39;00m \u001b[38;5;28;01mimport\u001b[39;00m load_dataset\n\u001b[0;32m---> 14\u001b[0m \u001b[43mload_dataset\u001b[49m\u001b[43m(\u001b[49m\u001b[38;5;124;43m\"\u001b[39;49m\u001b[38;5;124;43mEleutherAI/pile\u001b[39;49m\u001b[38;5;124;43m\"\u001b[39;49m\u001b[43m,\u001b[49m\u001b[43m \u001b[49m\u001b[38;5;124;43m\"\u001b[39;49m\u001b[38;5;124;43mgithub\u001b[39;49m\u001b[38;5;124;43m\"\u001b[39;49m\u001b[43m)\u001b[49m\n",
      "File \u001b[0;32m~/Desktop/Compute-Optimal_LoRA_Adapters_for_Causal-LM/env/lib/python3.11/site-packages/datasets/load.py:2549\u001b[0m, in \u001b[0;36mload_dataset\u001b[0;34m(path, name, data_dir, data_files, split, cache_dir, features, download_config, download_mode, verification_mode, ignore_verifications, keep_in_memory, save_infos, revision, token, use_auth_token, task, streaming, num_proc, storage_options, trust_remote_code, **config_kwargs)\u001b[0m\n\u001b[1;32m   2546\u001b[0m try_from_hf_gcs \u001b[38;5;241m=\u001b[39m path \u001b[38;5;129;01mnot\u001b[39;00m \u001b[38;5;129;01min\u001b[39;00m _PACKAGED_DATASETS_MODULES\n\u001b[1;32m   2548\u001b[0m \u001b[38;5;66;03m# Download and prepare data\u001b[39;00m\n\u001b[0;32m-> 2549\u001b[0m \u001b[43mbuilder_instance\u001b[49m\u001b[38;5;241;43m.\u001b[39;49m\u001b[43mdownload_and_prepare\u001b[49m\u001b[43m(\u001b[49m\n\u001b[1;32m   2550\u001b[0m \u001b[43m    \u001b[49m\u001b[43mdownload_config\u001b[49m\u001b[38;5;241;43m=\u001b[39;49m\u001b[43mdownload_config\u001b[49m\u001b[43m,\u001b[49m\n\u001b[1;32m   2551\u001b[0m \u001b[43m    \u001b[49m\u001b[43mdownload_mode\u001b[49m\u001b[38;5;241;43m=\u001b[39;49m\u001b[43mdownload_mode\u001b[49m\u001b[43m,\u001b[49m\n\u001b[1;32m   2552\u001b[0m \u001b[43m    \u001b[49m\u001b[43mverification_mode\u001b[49m\u001b[38;5;241;43m=\u001b[39;49m\u001b[43mverification_mode\u001b[49m\u001b[43m,\u001b[49m\n\u001b[1;32m   2553\u001b[0m \u001b[43m    \u001b[49m\u001b[43mtry_from_hf_gcs\u001b[49m\u001b[38;5;241;43m=\u001b[39;49m\u001b[43mtry_from_hf_gcs\u001b[49m\u001b[43m,\u001b[49m\n\u001b[1;32m   2554\u001b[0m \u001b[43m    \u001b[49m\u001b[43mnum_proc\u001b[49m\u001b[38;5;241;43m=\u001b[39;49m\u001b[43mnum_proc\u001b[49m\u001b[43m,\u001b[49m\n\u001b[1;32m   2555\u001b[0m \u001b[43m    \u001b[49m\u001b[43mstorage_options\u001b[49m\u001b[38;5;241;43m=\u001b[39;49m\u001b[43mstorage_options\u001b[49m\u001b[43m,\u001b[49m\n\u001b[1;32m   2556\u001b[0m \u001b[43m\u001b[49m\u001b[43m)\u001b[49m\n\u001b[1;32m   2558\u001b[0m \u001b[38;5;66;03m# Build dataset for splits\u001b[39;00m\n\u001b[1;32m   2559\u001b[0m keep_in_memory \u001b[38;5;241m=\u001b[39m (\n\u001b[1;32m   2560\u001b[0m     keep_in_memory \u001b[38;5;28;01mif\u001b[39;00m keep_in_memory \u001b[38;5;129;01mis\u001b[39;00m \u001b[38;5;129;01mnot\u001b[39;00m \u001b[38;5;28;01mNone\u001b[39;00m \u001b[38;5;28;01melse\u001b[39;00m is_small_dataset(builder_instance\u001b[38;5;241m.\u001b[39minfo\u001b[38;5;241m.\u001b[39mdataset_size)\n\u001b[1;32m   2561\u001b[0m )\n",
      "File \u001b[0;32m~/Desktop/Compute-Optimal_LoRA_Adapters_for_Causal-LM/env/lib/python3.11/site-packages/datasets/builder.py:1005\u001b[0m, in \u001b[0;36mDatasetBuilder.download_and_prepare\u001b[0;34m(self, output_dir, download_config, download_mode, verification_mode, ignore_verifications, try_from_hf_gcs, dl_manager, base_path, use_auth_token, file_format, max_shard_size, num_proc, storage_options, **download_and_prepare_kwargs)\u001b[0m\n\u001b[1;32m   1003\u001b[0m     \u001b[38;5;28;01mif\u001b[39;00m num_proc \u001b[38;5;129;01mis\u001b[39;00m \u001b[38;5;129;01mnot\u001b[39;00m \u001b[38;5;28;01mNone\u001b[39;00m:\n\u001b[1;32m   1004\u001b[0m         prepare_split_kwargs[\u001b[38;5;124m\"\u001b[39m\u001b[38;5;124mnum_proc\u001b[39m\u001b[38;5;124m\"\u001b[39m] \u001b[38;5;241m=\u001b[39m num_proc\n\u001b[0;32m-> 1005\u001b[0m     \u001b[38;5;28;43mself\u001b[39;49m\u001b[38;5;241;43m.\u001b[39;49m\u001b[43m_download_and_prepare\u001b[49m\u001b[43m(\u001b[49m\n\u001b[1;32m   1006\u001b[0m \u001b[43m        \u001b[49m\u001b[43mdl_manager\u001b[49m\u001b[38;5;241;43m=\u001b[39;49m\u001b[43mdl_manager\u001b[49m\u001b[43m,\u001b[49m\n\u001b[1;32m   1007\u001b[0m \u001b[43m        \u001b[49m\u001b[43mverification_mode\u001b[49m\u001b[38;5;241;43m=\u001b[39;49m\u001b[43mverification_mode\u001b[49m\u001b[43m,\u001b[49m\n\u001b[1;32m   1008\u001b[0m \u001b[43m        \u001b[49m\u001b[38;5;241;43m*\u001b[39;49m\u001b[38;5;241;43m*\u001b[39;49m\u001b[43mprepare_split_kwargs\u001b[49m\u001b[43m,\u001b[49m\n\u001b[1;32m   1009\u001b[0m \u001b[43m        \u001b[49m\u001b[38;5;241;43m*\u001b[39;49m\u001b[38;5;241;43m*\u001b[39;49m\u001b[43mdownload_and_prepare_kwargs\u001b[49m\u001b[43m,\u001b[49m\n\u001b[1;32m   1010\u001b[0m \u001b[43m    \u001b[49m\u001b[43m)\u001b[49m\n\u001b[1;32m   1011\u001b[0m \u001b[38;5;66;03m# Sync info\u001b[39;00m\n\u001b[1;32m   1012\u001b[0m \u001b[38;5;28mself\u001b[39m\u001b[38;5;241m.\u001b[39minfo\u001b[38;5;241m.\u001b[39mdataset_size \u001b[38;5;241m=\u001b[39m \u001b[38;5;28msum\u001b[39m(split\u001b[38;5;241m.\u001b[39mnum_bytes \u001b[38;5;28;01mfor\u001b[39;00m split \u001b[38;5;129;01min\u001b[39;00m \u001b[38;5;28mself\u001b[39m\u001b[38;5;241m.\u001b[39minfo\u001b[38;5;241m.\u001b[39msplits\u001b[38;5;241m.\u001b[39mvalues())\n",
      "File \u001b[0;32m~/Desktop/Compute-Optimal_LoRA_Adapters_for_Causal-LM/env/lib/python3.11/site-packages/datasets/builder.py:1767\u001b[0m, in \u001b[0;36mGeneratorBasedBuilder._download_and_prepare\u001b[0;34m(self, dl_manager, verification_mode, **prepare_splits_kwargs)\u001b[0m\n\u001b[1;32m   1766\u001b[0m \u001b[38;5;28;01mdef\u001b[39;00m \u001b[38;5;21m_download_and_prepare\u001b[39m(\u001b[38;5;28mself\u001b[39m, dl_manager, verification_mode, \u001b[38;5;241m*\u001b[39m\u001b[38;5;241m*\u001b[39mprepare_splits_kwargs):\n\u001b[0;32m-> 1767\u001b[0m     \u001b[38;5;28;43msuper\u001b[39;49m\u001b[43m(\u001b[49m\u001b[43m)\u001b[49m\u001b[38;5;241;43m.\u001b[39;49m\u001b[43m_download_and_prepare\u001b[49m\u001b[43m(\u001b[49m\n\u001b[1;32m   1768\u001b[0m \u001b[43m        \u001b[49m\u001b[43mdl_manager\u001b[49m\u001b[43m,\u001b[49m\n\u001b[1;32m   1769\u001b[0m \u001b[43m        \u001b[49m\u001b[43mverification_mode\u001b[49m\u001b[43m,\u001b[49m\n\u001b[1;32m   1770\u001b[0m \u001b[43m        \u001b[49m\u001b[43mcheck_duplicate_keys\u001b[49m\u001b[38;5;241;43m=\u001b[39;49m\u001b[43mverification_mode\u001b[49m\u001b[43m \u001b[49m\u001b[38;5;241;43m==\u001b[39;49m\u001b[43m \u001b[49m\u001b[43mVerificationMode\u001b[49m\u001b[38;5;241;43m.\u001b[39;49m\u001b[43mBASIC_CHECKS\u001b[49m\n\u001b[1;32m   1771\u001b[0m \u001b[43m        \u001b[49m\u001b[38;5;129;43;01mor\u001b[39;49;00m\u001b[43m \u001b[49m\u001b[43mverification_mode\u001b[49m\u001b[43m \u001b[49m\u001b[38;5;241;43m==\u001b[39;49m\u001b[43m \u001b[49m\u001b[43mVerificationMode\u001b[49m\u001b[38;5;241;43m.\u001b[39;49m\u001b[43mALL_CHECKS\u001b[49m\u001b[43m,\u001b[49m\n\u001b[1;32m   1772\u001b[0m \u001b[43m        \u001b[49m\u001b[38;5;241;43m*\u001b[39;49m\u001b[38;5;241;43m*\u001b[39;49m\u001b[43mprepare_splits_kwargs\u001b[49m\u001b[43m,\u001b[49m\n\u001b[1;32m   1773\u001b[0m \u001b[43m    \u001b[49m\u001b[43m)\u001b[49m\n",
      "File \u001b[0;32m~/Desktop/Compute-Optimal_LoRA_Adapters_for_Causal-LM/env/lib/python3.11/site-packages/datasets/builder.py:1078\u001b[0m, in \u001b[0;36mDatasetBuilder._download_and_prepare\u001b[0;34m(self, dl_manager, verification_mode, **prepare_split_kwargs)\u001b[0m\n\u001b[1;32m   1076\u001b[0m split_dict \u001b[38;5;241m=\u001b[39m SplitDict(dataset_name\u001b[38;5;241m=\u001b[39m\u001b[38;5;28mself\u001b[39m\u001b[38;5;241m.\u001b[39mdataset_name)\n\u001b[1;32m   1077\u001b[0m split_generators_kwargs \u001b[38;5;241m=\u001b[39m \u001b[38;5;28mself\u001b[39m\u001b[38;5;241m.\u001b[39m_make_split_generators_kwargs(prepare_split_kwargs)\n\u001b[0;32m-> 1078\u001b[0m split_generators \u001b[38;5;241m=\u001b[39m \u001b[38;5;28;43mself\u001b[39;49m\u001b[38;5;241;43m.\u001b[39;49m\u001b[43m_split_generators\u001b[49m\u001b[43m(\u001b[49m\u001b[43mdl_manager\u001b[49m\u001b[43m,\u001b[49m\u001b[43m \u001b[49m\u001b[38;5;241;43m*\u001b[39;49m\u001b[38;5;241;43m*\u001b[39;49m\u001b[43msplit_generators_kwargs\u001b[49m\u001b[43m)\u001b[49m\n\u001b[1;32m   1080\u001b[0m \u001b[38;5;66;03m# Checksums verification\u001b[39;00m\n\u001b[1;32m   1081\u001b[0m \u001b[38;5;28;01mif\u001b[39;00m verification_mode \u001b[38;5;241m==\u001b[39m VerificationMode\u001b[38;5;241m.\u001b[39mALL_CHECKS \u001b[38;5;129;01mand\u001b[39;00m dl_manager\u001b[38;5;241m.\u001b[39mrecord_checksums:\n",
      "File \u001b[0;32m~/.cache/huggingface/modules/datasets_modules/datasets/EleutherAI--pile/ebea56d358e91cf4d37b0fde361d563bed1472fbd8221a21b38fc8bb4ba554fb/pile.py:204\u001b[0m, in \u001b[0;36mThePile._split_generators\u001b[0;34m(self, dl_manager)\u001b[0m\n\u001b[1;32m    202\u001b[0m \u001b[38;5;28;01melse\u001b[39;00m:\n\u001b[1;32m    203\u001b[0m     data_urls \u001b[38;5;241m=\u001b[39m {subset: _DATA_URLS[subset] \u001b[38;5;28;01mfor\u001b[39;00m subset \u001b[38;5;129;01min\u001b[39;00m \u001b[38;5;28mself\u001b[39m\u001b[38;5;241m.\u001b[39mconfig\u001b[38;5;241m.\u001b[39msubsets}\n\u001b[0;32m--> 204\u001b[0m     archive \u001b[38;5;241m=\u001b[39m \u001b[43mdl_manager\u001b[49m\u001b[38;5;241;43m.\u001b[39;49m\u001b[43mdownload\u001b[49m\u001b[43m(\u001b[49m\u001b[43mdata_urls\u001b[49m\u001b[43m)\u001b[49m\n\u001b[1;32m    205\u001b[0m     \u001b[38;5;28;01mreturn\u001b[39;00m [\n\u001b[1;32m    206\u001b[0m         datasets\u001b[38;5;241m.\u001b[39mSplitGenerator(\n\u001b[1;32m    207\u001b[0m             name\u001b[38;5;241m=\u001b[39mdatasets\u001b[38;5;241m.\u001b[39mSplit\u001b[38;5;241m.\u001b[39mTRAIN,\n\u001b[0;32m   (...)\u001b[0m\n\u001b[1;32m    216\u001b[0m         ),\n\u001b[1;32m    217\u001b[0m     ]\n",
      "File \u001b[0;32m~/Desktop/Compute-Optimal_LoRA_Adapters_for_Causal-LM/env/lib/python3.11/site-packages/datasets/download/download_manager.py:426\u001b[0m, in \u001b[0;36mDownloadManager.download\u001b[0;34m(self, url_or_urls)\u001b[0m\n\u001b[1;32m    423\u001b[0m download_func \u001b[38;5;241m=\u001b[39m partial(\u001b[38;5;28mself\u001b[39m\u001b[38;5;241m.\u001b[39m_download, download_config\u001b[38;5;241m=\u001b[39mdownload_config)\n\u001b[1;32m    425\u001b[0m start_time \u001b[38;5;241m=\u001b[39m datetime\u001b[38;5;241m.\u001b[39mnow()\n\u001b[0;32m--> 426\u001b[0m downloaded_path_or_paths \u001b[38;5;241m=\u001b[39m \u001b[43mmap_nested\u001b[49m\u001b[43m(\u001b[49m\n\u001b[1;32m    427\u001b[0m \u001b[43m    \u001b[49m\u001b[43mdownload_func\u001b[49m\u001b[43m,\u001b[49m\n\u001b[1;32m    428\u001b[0m \u001b[43m    \u001b[49m\u001b[43murl_or_urls\u001b[49m\u001b[43m,\u001b[49m\n\u001b[1;32m    429\u001b[0m \u001b[43m    \u001b[49m\u001b[43mmap_tuple\u001b[49m\u001b[38;5;241;43m=\u001b[39;49m\u001b[38;5;28;43;01mTrue\u001b[39;49;00m\u001b[43m,\u001b[49m\n\u001b[1;32m    430\u001b[0m \u001b[43m    \u001b[49m\u001b[43mnum_proc\u001b[49m\u001b[38;5;241;43m=\u001b[39;49m\u001b[43mdownload_config\u001b[49m\u001b[38;5;241;43m.\u001b[39;49m\u001b[43mnum_proc\u001b[49m\u001b[43m,\u001b[49m\n\u001b[1;32m    431\u001b[0m \u001b[43m    \u001b[49m\u001b[43mdesc\u001b[49m\u001b[38;5;241;43m=\u001b[39;49m\u001b[38;5;124;43m\"\u001b[39;49m\u001b[38;5;124;43mDownloading data files\u001b[39;49m\u001b[38;5;124;43m\"\u001b[39;49m\u001b[43m,\u001b[49m\n\u001b[1;32m    432\u001b[0m \u001b[43m\u001b[49m\u001b[43m)\u001b[49m\n\u001b[1;32m    433\u001b[0m duration \u001b[38;5;241m=\u001b[39m datetime\u001b[38;5;241m.\u001b[39mnow() \u001b[38;5;241m-\u001b[39m start_time\n\u001b[1;32m    434\u001b[0m logger\u001b[38;5;241m.\u001b[39minfo(\u001b[38;5;124mf\u001b[39m\u001b[38;5;124m\"\u001b[39m\u001b[38;5;124mDownloading took \u001b[39m\u001b[38;5;132;01m{\u001b[39;00mduration\u001b[38;5;241m.\u001b[39mtotal_seconds()\u001b[38;5;250m \u001b[39m\u001b[38;5;241m/\u001b[39m\u001b[38;5;241m/\u001b[39m\u001b[38;5;250m \u001b[39m\u001b[38;5;241m60\u001b[39m\u001b[38;5;132;01m}\u001b[39;00m\u001b[38;5;124m min\u001b[39m\u001b[38;5;124m\"\u001b[39m)\n",
      "File \u001b[0;32m~/Desktop/Compute-Optimal_LoRA_Adapters_for_Causal-LM/env/lib/python3.11/site-packages/datasets/utils/py_utils.py:466\u001b[0m, in \u001b[0;36mmap_nested\u001b[0;34m(function, data_struct, dict_only, map_list, map_tuple, map_numpy, num_proc, parallel_min_length, types, disable_tqdm, desc)\u001b[0m\n\u001b[1;32m    464\u001b[0m     num_proc \u001b[38;5;241m=\u001b[39m \u001b[38;5;241m1\u001b[39m\n\u001b[1;32m    465\u001b[0m \u001b[38;5;28;01mif\u001b[39;00m num_proc \u001b[38;5;241m!=\u001b[39m \u001b[38;5;241m-\u001b[39m\u001b[38;5;241m1\u001b[39m \u001b[38;5;129;01mand\u001b[39;00m num_proc \u001b[38;5;241m<\u001b[39m\u001b[38;5;241m=\u001b[39m \u001b[38;5;241m1\u001b[39m \u001b[38;5;129;01mor\u001b[39;00m \u001b[38;5;28mlen\u001b[39m(iterable) \u001b[38;5;241m<\u001b[39m parallel_min_length:\n\u001b[0;32m--> 466\u001b[0m     mapped \u001b[38;5;241m=\u001b[39m \u001b[43m[\u001b[49m\n\u001b[1;32m    467\u001b[0m \u001b[43m        \u001b[49m\u001b[43m_single_map_nested\u001b[49m\u001b[43m(\u001b[49m\u001b[43m(\u001b[49m\u001b[43mfunction\u001b[49m\u001b[43m,\u001b[49m\u001b[43m \u001b[49m\u001b[43mobj\u001b[49m\u001b[43m,\u001b[49m\u001b[43m \u001b[49m\u001b[43mtypes\u001b[49m\u001b[43m,\u001b[49m\u001b[43m \u001b[49m\u001b[38;5;28;43;01mNone\u001b[39;49;00m\u001b[43m,\u001b[49m\u001b[43m \u001b[49m\u001b[38;5;28;43;01mTrue\u001b[39;49;00m\u001b[43m,\u001b[49m\u001b[43m \u001b[49m\u001b[38;5;28;43;01mNone\u001b[39;49;00m\u001b[43m)\u001b[49m\u001b[43m)\u001b[49m\n\u001b[1;32m    468\u001b[0m \u001b[43m        \u001b[49m\u001b[38;5;28;43;01mfor\u001b[39;49;00m\u001b[43m \u001b[49m\u001b[43mobj\u001b[49m\u001b[43m \u001b[49m\u001b[38;5;129;43;01min\u001b[39;49;00m\u001b[43m \u001b[49m\u001b[43mhf_tqdm\u001b[49m\u001b[43m(\u001b[49m\u001b[43miterable\u001b[49m\u001b[43m,\u001b[49m\u001b[43m \u001b[49m\u001b[43mdisable\u001b[49m\u001b[38;5;241;43m=\u001b[39;49m\u001b[43mdisable_tqdm\u001b[49m\u001b[43m,\u001b[49m\u001b[43m \u001b[49m\u001b[43mdesc\u001b[49m\u001b[38;5;241;43m=\u001b[39;49m\u001b[43mdesc\u001b[49m\u001b[43m)\u001b[49m\n\u001b[1;32m    469\u001b[0m \u001b[43m    \u001b[49m\u001b[43m]\u001b[49m\n\u001b[1;32m    470\u001b[0m \u001b[38;5;28;01melse\u001b[39;00m:\n\u001b[1;32m    471\u001b[0m     \u001b[38;5;28;01mwith\u001b[39;00m warnings\u001b[38;5;241m.\u001b[39mcatch_warnings():\n",
      "File \u001b[0;32m~/Desktop/Compute-Optimal_LoRA_Adapters_for_Causal-LM/env/lib/python3.11/site-packages/datasets/utils/py_utils.py:467\u001b[0m, in \u001b[0;36m<listcomp>\u001b[0;34m(.0)\u001b[0m\n\u001b[1;32m    464\u001b[0m     num_proc \u001b[38;5;241m=\u001b[39m \u001b[38;5;241m1\u001b[39m\n\u001b[1;32m    465\u001b[0m \u001b[38;5;28;01mif\u001b[39;00m num_proc \u001b[38;5;241m!=\u001b[39m \u001b[38;5;241m-\u001b[39m\u001b[38;5;241m1\u001b[39m \u001b[38;5;129;01mand\u001b[39;00m num_proc \u001b[38;5;241m<\u001b[39m\u001b[38;5;241m=\u001b[39m \u001b[38;5;241m1\u001b[39m \u001b[38;5;129;01mor\u001b[39;00m \u001b[38;5;28mlen\u001b[39m(iterable) \u001b[38;5;241m<\u001b[39m parallel_min_length:\n\u001b[1;32m    466\u001b[0m     mapped \u001b[38;5;241m=\u001b[39m [\n\u001b[0;32m--> 467\u001b[0m         \u001b[43m_single_map_nested\u001b[49m\u001b[43m(\u001b[49m\u001b[43m(\u001b[49m\u001b[43mfunction\u001b[49m\u001b[43m,\u001b[49m\u001b[43m \u001b[49m\u001b[43mobj\u001b[49m\u001b[43m,\u001b[49m\u001b[43m \u001b[49m\u001b[43mtypes\u001b[49m\u001b[43m,\u001b[49m\u001b[43m \u001b[49m\u001b[38;5;28;43;01mNone\u001b[39;49;00m\u001b[43m,\u001b[49m\u001b[43m \u001b[49m\u001b[38;5;28;43;01mTrue\u001b[39;49;00m\u001b[43m,\u001b[49m\u001b[43m \u001b[49m\u001b[38;5;28;43;01mNone\u001b[39;49;00m\u001b[43m)\u001b[49m\u001b[43m)\u001b[49m\n\u001b[1;32m    468\u001b[0m         \u001b[38;5;28;01mfor\u001b[39;00m obj \u001b[38;5;129;01min\u001b[39;00m hf_tqdm(iterable, disable\u001b[38;5;241m=\u001b[39mdisable_tqdm, desc\u001b[38;5;241m=\u001b[39mdesc)\n\u001b[1;32m    469\u001b[0m     ]\n\u001b[1;32m    470\u001b[0m \u001b[38;5;28;01melse\u001b[39;00m:\n\u001b[1;32m    471\u001b[0m     \u001b[38;5;28;01mwith\u001b[39;00m warnings\u001b[38;5;241m.\u001b[39mcatch_warnings():\n",
      "File \u001b[0;32m~/Desktop/Compute-Optimal_LoRA_Adapters_for_Causal-LM/env/lib/python3.11/site-packages/datasets/utils/py_utils.py:370\u001b[0m, in \u001b[0;36m_single_map_nested\u001b[0;34m(args)\u001b[0m\n\u001b[1;32m    368\u001b[0m \u001b[38;5;66;03m# Singleton first to spare some computation\u001b[39;00m\n\u001b[1;32m    369\u001b[0m \u001b[38;5;28;01mif\u001b[39;00m \u001b[38;5;129;01mnot\u001b[39;00m \u001b[38;5;28misinstance\u001b[39m(data_struct, \u001b[38;5;28mdict\u001b[39m) \u001b[38;5;129;01mand\u001b[39;00m \u001b[38;5;129;01mnot\u001b[39;00m \u001b[38;5;28misinstance\u001b[39m(data_struct, types):\n\u001b[0;32m--> 370\u001b[0m     \u001b[38;5;28;01mreturn\u001b[39;00m \u001b[43mfunction\u001b[49m\u001b[43m(\u001b[49m\u001b[43mdata_struct\u001b[49m\u001b[43m)\u001b[49m\n\u001b[1;32m    372\u001b[0m \u001b[38;5;66;03m# Reduce logging to keep things readable in multiprocessing with tqdm\u001b[39;00m\n\u001b[1;32m    373\u001b[0m \u001b[38;5;28;01mif\u001b[39;00m rank \u001b[38;5;129;01mis\u001b[39;00m \u001b[38;5;129;01mnot\u001b[39;00m \u001b[38;5;28;01mNone\u001b[39;00m \u001b[38;5;129;01mand\u001b[39;00m logging\u001b[38;5;241m.\u001b[39mget_verbosity() \u001b[38;5;241m<\u001b[39m logging\u001b[38;5;241m.\u001b[39mWARNING:\n",
      "File \u001b[0;32m~/Desktop/Compute-Optimal_LoRA_Adapters_for_Causal-LM/env/lib/python3.11/site-packages/datasets/download/download_manager.py:451\u001b[0m, in \u001b[0;36mDownloadManager._download\u001b[0;34m(self, url_or_filename, download_config)\u001b[0m\n\u001b[1;32m    448\u001b[0m \u001b[38;5;28;01mif\u001b[39;00m is_relative_path(url_or_filename):\n\u001b[1;32m    449\u001b[0m     \u001b[38;5;66;03m# append the relative path to the base_path\u001b[39;00m\n\u001b[1;32m    450\u001b[0m     url_or_filename \u001b[38;5;241m=\u001b[39m url_or_path_join(\u001b[38;5;28mself\u001b[39m\u001b[38;5;241m.\u001b[39m_base_path, url_or_filename)\n\u001b[0;32m--> 451\u001b[0m out \u001b[38;5;241m=\u001b[39m \u001b[43mcached_path\u001b[49m\u001b[43m(\u001b[49m\u001b[43murl_or_filename\u001b[49m\u001b[43m,\u001b[49m\u001b[43m \u001b[49m\u001b[43mdownload_config\u001b[49m\u001b[38;5;241;43m=\u001b[39;49m\u001b[43mdownload_config\u001b[49m\u001b[43m)\u001b[49m\n\u001b[1;32m    452\u001b[0m out \u001b[38;5;241m=\u001b[39m tracked_str(out)\n\u001b[1;32m    453\u001b[0m out\u001b[38;5;241m.\u001b[39mset_origin(url_or_filename)\n",
      "File \u001b[0;32m~/Desktop/Compute-Optimal_LoRA_Adapters_for_Causal-LM/env/lib/python3.11/site-packages/datasets/utils/file_utils.py:188\u001b[0m, in \u001b[0;36mcached_path\u001b[0;34m(url_or_filename, download_config, **download_kwargs)\u001b[0m\n\u001b[1;32m    184\u001b[0m     url_or_filename \u001b[38;5;241m=\u001b[39m strip_protocol(url_or_filename)\n\u001b[1;32m    186\u001b[0m \u001b[38;5;28;01mif\u001b[39;00m is_remote_url(url_or_filename):\n\u001b[1;32m    187\u001b[0m     \u001b[38;5;66;03m# URL, so get it from the cache (downloading if necessary)\u001b[39;00m\n\u001b[0;32m--> 188\u001b[0m     output_path \u001b[38;5;241m=\u001b[39m \u001b[43mget_from_cache\u001b[49m\u001b[43m(\u001b[49m\n\u001b[1;32m    189\u001b[0m \u001b[43m        \u001b[49m\u001b[43murl_or_filename\u001b[49m\u001b[43m,\u001b[49m\n\u001b[1;32m    190\u001b[0m \u001b[43m        \u001b[49m\u001b[43mcache_dir\u001b[49m\u001b[38;5;241;43m=\u001b[39;49m\u001b[43mcache_dir\u001b[49m\u001b[43m,\u001b[49m\n\u001b[1;32m    191\u001b[0m \u001b[43m        \u001b[49m\u001b[43mforce_download\u001b[49m\u001b[38;5;241;43m=\u001b[39;49m\u001b[43mdownload_config\u001b[49m\u001b[38;5;241;43m.\u001b[39;49m\u001b[43mforce_download\u001b[49m\u001b[43m,\u001b[49m\n\u001b[1;32m    192\u001b[0m \u001b[43m        \u001b[49m\u001b[43mproxies\u001b[49m\u001b[38;5;241;43m=\u001b[39;49m\u001b[43mdownload_config\u001b[49m\u001b[38;5;241;43m.\u001b[39;49m\u001b[43mproxies\u001b[49m\u001b[43m,\u001b[49m\n\u001b[1;32m    193\u001b[0m \u001b[43m        \u001b[49m\u001b[43mresume_download\u001b[49m\u001b[38;5;241;43m=\u001b[39;49m\u001b[43mdownload_config\u001b[49m\u001b[38;5;241;43m.\u001b[39;49m\u001b[43mresume_download\u001b[49m\u001b[43m,\u001b[49m\n\u001b[1;32m    194\u001b[0m \u001b[43m        \u001b[49m\u001b[43muser_agent\u001b[49m\u001b[38;5;241;43m=\u001b[39;49m\u001b[43mdownload_config\u001b[49m\u001b[38;5;241;43m.\u001b[39;49m\u001b[43muser_agent\u001b[49m\u001b[43m,\u001b[49m\n\u001b[1;32m    195\u001b[0m \u001b[43m        \u001b[49m\u001b[43mlocal_files_only\u001b[49m\u001b[38;5;241;43m=\u001b[39;49m\u001b[43mdownload_config\u001b[49m\u001b[38;5;241;43m.\u001b[39;49m\u001b[43mlocal_files_only\u001b[49m\u001b[43m,\u001b[49m\n\u001b[1;32m    196\u001b[0m \u001b[43m        \u001b[49m\u001b[43muse_etag\u001b[49m\u001b[38;5;241;43m=\u001b[39;49m\u001b[43mdownload_config\u001b[49m\u001b[38;5;241;43m.\u001b[39;49m\u001b[43muse_etag\u001b[49m\u001b[43m,\u001b[49m\n\u001b[1;32m    197\u001b[0m \u001b[43m        \u001b[49m\u001b[43mmax_retries\u001b[49m\u001b[38;5;241;43m=\u001b[39;49m\u001b[43mdownload_config\u001b[49m\u001b[38;5;241;43m.\u001b[39;49m\u001b[43mmax_retries\u001b[49m\u001b[43m,\u001b[49m\n\u001b[1;32m    198\u001b[0m \u001b[43m        \u001b[49m\u001b[43mtoken\u001b[49m\u001b[38;5;241;43m=\u001b[39;49m\u001b[43mdownload_config\u001b[49m\u001b[38;5;241;43m.\u001b[39;49m\u001b[43mtoken\u001b[49m\u001b[43m,\u001b[49m\n\u001b[1;32m    199\u001b[0m \u001b[43m        \u001b[49m\u001b[43mignore_url_params\u001b[49m\u001b[38;5;241;43m=\u001b[39;49m\u001b[43mdownload_config\u001b[49m\u001b[38;5;241;43m.\u001b[39;49m\u001b[43mignore_url_params\u001b[49m\u001b[43m,\u001b[49m\n\u001b[1;32m    200\u001b[0m \u001b[43m        \u001b[49m\u001b[43mstorage_options\u001b[49m\u001b[38;5;241;43m=\u001b[39;49m\u001b[43mdownload_config\u001b[49m\u001b[38;5;241;43m.\u001b[39;49m\u001b[43mstorage_options\u001b[49m\u001b[43m,\u001b[49m\n\u001b[1;32m    201\u001b[0m \u001b[43m        \u001b[49m\u001b[43mdownload_desc\u001b[49m\u001b[38;5;241;43m=\u001b[39;49m\u001b[43mdownload_config\u001b[49m\u001b[38;5;241;43m.\u001b[39;49m\u001b[43mdownload_desc\u001b[49m\u001b[43m,\u001b[49m\n\u001b[1;32m    202\u001b[0m \u001b[43m    \u001b[49m\u001b[43m)\u001b[49m\n\u001b[1;32m    203\u001b[0m \u001b[38;5;28;01melif\u001b[39;00m os\u001b[38;5;241m.\u001b[39mpath\u001b[38;5;241m.\u001b[39mexists(url_or_filename):\n\u001b[1;32m    204\u001b[0m     \u001b[38;5;66;03m# File, and it exists.\u001b[39;00m\n\u001b[1;32m    205\u001b[0m     output_path \u001b[38;5;241m=\u001b[39m url_or_filename\n",
      "File \u001b[0;32m~/Desktop/Compute-Optimal_LoRA_Adapters_for_Causal-LM/env/lib/python3.11/site-packages/datasets/utils/file_utils.py:570\u001b[0m, in \u001b[0;36mget_from_cache\u001b[0;34m(url, cache_dir, force_download, proxies, etag_timeout, resume_download, user_agent, local_files_only, use_etag, max_retries, token, use_auth_token, ignore_url_params, storage_options, download_desc)\u001b[0m\n\u001b[1;32m    565\u001b[0m     \u001b[38;5;28;01mraise\u001b[39;00m \u001b[38;5;167;01mFileNotFoundError\u001b[39;00m(\n\u001b[1;32m    566\u001b[0m         \u001b[38;5;124mf\u001b[39m\u001b[38;5;124m\"\u001b[39m\u001b[38;5;124mCannot find the requested files in the cached path at \u001b[39m\u001b[38;5;132;01m{\u001b[39;00mcache_path\u001b[38;5;132;01m}\u001b[39;00m\u001b[38;5;124m and outgoing traffic has been\u001b[39m\u001b[38;5;124m\"\u001b[39m\n\u001b[1;32m    567\u001b[0m         \u001b[38;5;124m\"\u001b[39m\u001b[38;5;124m disabled. To enable file online look-ups, set \u001b[39m\u001b[38;5;124m'\u001b[39m\u001b[38;5;124mlocal_files_only\u001b[39m\u001b[38;5;124m'\u001b[39m\u001b[38;5;124m to False.\u001b[39m\u001b[38;5;124m\"\u001b[39m\n\u001b[1;32m    568\u001b[0m     )\n\u001b[1;32m    569\u001b[0m \u001b[38;5;28;01melif\u001b[39;00m response \u001b[38;5;129;01mis\u001b[39;00m \u001b[38;5;129;01mnot\u001b[39;00m \u001b[38;5;28;01mNone\u001b[39;00m \u001b[38;5;129;01mand\u001b[39;00m response\u001b[38;5;241m.\u001b[39mstatus_code \u001b[38;5;241m==\u001b[39m \u001b[38;5;241m404\u001b[39m:\n\u001b[0;32m--> 570\u001b[0m     \u001b[38;5;28;01mraise\u001b[39;00m \u001b[38;5;167;01mFileNotFoundError\u001b[39;00m(\u001b[38;5;124mf\u001b[39m\u001b[38;5;124m\"\u001b[39m\u001b[38;5;124mCouldn\u001b[39m\u001b[38;5;124m'\u001b[39m\u001b[38;5;124mt find file at \u001b[39m\u001b[38;5;132;01m{\u001b[39;00murl\u001b[38;5;132;01m}\u001b[39;00m\u001b[38;5;124m\"\u001b[39m)\n\u001b[1;32m    571\u001b[0m _raise_if_offline_mode_is_enabled(\u001b[38;5;124mf\u001b[39m\u001b[38;5;124m\"\u001b[39m\u001b[38;5;124mTried to reach \u001b[39m\u001b[38;5;132;01m{\u001b[39;00murl\u001b[38;5;132;01m}\u001b[39;00m\u001b[38;5;124m\"\u001b[39m)\n\u001b[1;32m    572\u001b[0m \u001b[38;5;28;01mif\u001b[39;00m head_error \u001b[38;5;129;01mis\u001b[39;00m \u001b[38;5;129;01mnot\u001b[39;00m \u001b[38;5;28;01mNone\u001b[39;00m:\n",
      "\u001b[0;31mFileNotFoundError\u001b[0m: Couldn't find file at https://the-eye.eu/public/AI/pile_preliminary_components/github.tar"
     ]
    }
   ],
   "source": [
    "# success\n",
    "## \"enron_emails\": load_dataset(\"EleutherAI/pile\", \"enron_emails\")\n",
    "# failure\n",
    "## \"europarl\": load_dataset(\"EleutherAI/pile\", \"europarl\")\n",
    "## \"free_law\": load_dataset(\"EleutherAI/pile\", \"free_law\")\n",
    "## \"hacker_news\": load_dataset(\"EleutherAI/pile\", \"hacker_news\")\n",
    "## \"nih_exporter\": load_dataset(\"EleutherAI/pile\", \"nih_exporter\")\n",
    "## \"pubmed\": load_dataset(\"EleutherAI/pile\", \"pubmed\")\n",
    "## \"pubmed_central\": load_dataset(\"EleutherAI/pile\", \"pubmed_central\")\n",
    "## \"ubuntu_irc\": load_dataset(\"EleutherAI/pile\", \"ubuntu_irc\")\n",
    "## \"uspto\": load_dataset(\"EleutherAI/pile\", \"uspto\") # github\n",
    "\n",
    "from datasets import load_dataset\n",
    "load_dataset(\"EleutherAI/pile\", \"github\")"
   ]
  },
  {
   "cell_type": "code",
   "execution_count": null,
   "id": "06b989ea-ffae-4b17-884f-0fd69c267304",
   "metadata": {},
   "outputs": [],
   "source": [
    "dataset = load_dataset(dataset_name"
   ]
  },
  {
   "cell_type": "code",
   "execution_count": null,
   "id": "b1bf843e-1f4e-4cad-9707-708d95b2166a",
   "metadata": {},
   "outputs": [],
   "source": [
    "dataset_name = \"EleutherAI/pile\"\n",
    "dataset = load_dataset(dataset_name, subsets = ['hacker_news', 'enron_emails'])\n",
    "dataset"
   ]
  },
  {
   "cell_type": "code",
   "execution_count": null,
   "id": "7ec83710-6afa-4b9f-b3a7-8cd26582d134",
   "metadata": {},
   "outputs": [],
   "source": [
    "!pip install zstandard"
   ]
  },
  {
   "cell_type": "code",
   "execution_count": null,
   "id": "e63d584e-ecf5-447b-b461-3959bd86e20a",
   "metadata": {},
   "outputs": [],
   "source": [
    "from datasets import load_dataset\n",
    " \n",
    "# Load the entire \"The Pile\" dataset\n",
    "dataset = load_dataset(\"EleutherAI/pile\", \"all\")\n",
    "\n",
    "# Accessing different parts of the dataset\n",
    "train_dataset = dataset[\"train\"]\n",
    "validation_dataset = dataset[\"validation\"]\n",
    "test_dataset = dataset[\"test\"]\n",
    "\n",
    "# Example: Print the first sample from the training set\n",
    "print(train_dataset[0])"
   ]
  },
  {
   "cell_type": "code",
   "execution_count": null,
   "id": "a260803c-7e39-4cf0-b5cb-b24f5b102cdf",
   "metadata": {},
   "outputs": [],
   "source": [
    "from datasets import load_dataset\n",
    "\n",
    "# Load \"The Pile\" dataset\n",
    "dataset = load_dataset(\"the_pile\", \"Pile-1.0\")\n",
    "\n",
    "# Accessing different parts of the dataset\n",
    "train_dataset = dataset[\"train\"]\n",
    "validation_dataset = dataset[\"validation\"]\n",
    "\n",
    "# Example: Print the first sample from the training set\n",
    "print(train_dataset[0])"
   ]
  },
  {
   "cell_type": "code",
   "execution_count": null,
   "id": "a30985f7-41d7-4be4-b291-2bfbde68e963",
   "metadata": {},
   "outputs": [],
   "source": [
    "load_dataset(\"EleutherAI/pile\", split=\"pubmed\")"
   ]
  },
  {
   "cell_type": "code",
   "execution_count": null,
   "id": "e3ebf8e5-b274-450b-81b4-cec2ba0984de",
   "metadata": {},
   "outputs": [],
   "source": [
    "from datasets import load_dataset\n",
    "\n",
    "# Load the 'pubmed' split of \"The Pile\" dataset\n",
    "dataset = load_dataset(\"EleutherAI/pile\", \"Pile-1.0\", split=\"pubmed\")\n",
    "\n",
    "# Example: Print the first sample from the pubmed dataset\n",
    "print(dataset[0])"
   ]
  },
  {
   "cell_type": "code",
   "execution_count": null,
   "id": "ea305aae-5fad-45d3-9515-fde0ef6dbde5",
   "metadata": {},
   "outputs": [],
   "source": []
  }
 ],
 "metadata": {
  "kernelspec": {
   "display_name": "Python 3 (ipykernel)",
   "language": "python",
   "name": "python3"
  },
  "language_info": {
   "codemirror_mode": {
    "name": "ipython",
    "version": 3
   },
   "file_extension": ".py",
   "mimetype": "text/x-python",
   "name": "python",
   "nbconvert_exporter": "python",
   "pygments_lexer": "ipython3",
   "version": "3.11.3"
  }
 },
 "nbformat": 4,
 "nbformat_minor": 5
}
