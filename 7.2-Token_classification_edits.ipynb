{
 "cells": [
  {
   "cell_type": "markdown",
   "id": "3f55bab0",
   "metadata": {},
   "source": [
    "## [Token classification](https://huggingface.co/course/chapter7/2?fw=pt)\n",
    "The first application we'll explore is token classification. This generic task encompasses any problem that can be formulated as \"attributing a label to each token in a sentence\", such as:\n",
    "- **Named entity recognition (NER)**: Find the entities (such as persons, locations, or organizations) in a sentence. This can be formulated as attributing a label to each token by having one class per entity and one class for \"no entity.\"\n",
    "- **Part-of-speech tagging (POS)**: Mark each word in a sentence as corresponding to a particular part of speech (such as noun, verb, adjective, etc.).\n",
    "- **Chunking**: Find the tokens that belong to the same entity. This task (which can be combined with POS or NER) can be formulated as attributing one label (usually B-) to any tokens that are at the beginning of a chunk, another label (usually I-) to tokens that are inside a chunk, and a third label (usually O) to tokens that don't belong to any chunk."
   ]
  },
  {
   "cell_type": "markdown",
   "id": "9ec470a7",
   "metadata": {},
   "source": [
    "Of course, there are many other types of token classification problems; those are just a few representative examples. In this section, we will fine-tune a model (BERT) on a NER task, which will then be able to compute predictions like this one:\n",
    "<img width=\"90%\" style=\"float=center;\" src=\"sections/section_7/images/gradio_app_7-2.png\">\n",
    "\n",
    "You can find the model we'll train and upload to the Hub and double-check its predictions [here](https://huggingface.co/huggingface-course/bert-finetuned-ner?text=My+name+is+Sylvain+and+I+work+at+Hugging+Face+in+Brooklyn).\n",
    "\n",
    "### Preparing the data\n",
    "First things first, we need a dataset suitable for token classification. In this section we will use the [CoNLL-2003 dataset](https://huggingface.co/datasets/conll2003), which contains news stories from Reuters.\n",
    "> <font color=\"darkgreen\">💡 As long as your dataset consists of texts split into words with their corresponding labels, you will be able to adapt the data processing procedures described here to your own dataset. Refer back to [Chapter 5](https://huggingface.co/course/chapter5) if you need a refresher on how to load your own custom data in a `Dataset`.</font>\n",
    "\n",
    "#### The CoNLL-2003 dataset\n",
    "To load the CoNLL-2003 dataset, we use the `load_dataset()` method from the 🤗 Datasets library:"
   ]
  },
  {
   "cell_type": "code",
   "execution_count": 1,
   "id": "d2af0502",
   "metadata": {},
   "outputs": [
    {
     "data": {
      "text/plain": [
       "Dataset({\n",
       "    features: ['id', 'words', 'ner_tags', 'fine_ner_tags'],\n",
       "    num_rows: 188239\n",
       "})"
      ]
     },
     "execution_count": 1,
     "metadata": {},
     "output_type": "execute_result"
    }
   ],
   "source": [
    "from datasets import load_dataset, concatenate_datasets\n",
    "fewnerd = load_dataset(\"DFKI-SLT/few-nerd\", \"supervised\")\n",
    "fewnerd_all = concatenate_datasets([fewnerd[\"train\"], fewnerd[\"validation\"], fewnerd[\"test\"]]).rename_column(\"tokens\", \"words\")\n",
    "fewnerd_all"
   ]
  },
  {
   "cell_type": "markdown",
   "id": "fce2cd35",
   "metadata": {},
   "source": [
    "This will download and cache the dataset, like we saw in [Chapter 3](https://huggingface.co/course/chapter3) for the GLUE MRPC dataset. Inspecting this object shows us the columns present and the split between the training, validation, and test sets:"
   ]
  },
  {
   "cell_type": "markdown",
   "id": "a491a046",
   "metadata": {},
   "source": [
    "In particular, we can see the dataset contains labels for the three tasks we mentioned earlier: NER, POS, and chunking. A big difference from other datasets is that the input texts are not presented as sentences or documents, but lists of words (the last column is called `tokens`, but it contains words in the sense that these are pre-tokenized inputs that still need to go through the tokenizer for subword tokenization).\n",
    "\n",
    "Let's have a look at the first element of the training set:"
   ]
  },
  {
   "cell_type": "code",
   "execution_count": 2,
   "id": "f7419537",
   "metadata": {},
   "outputs": [
    {
     "data": {
      "text/plain": [
       "['Paul', 'International', 'airport', '.']"
      ]
     },
     "execution_count": 2,
     "metadata": {},
     "output_type": "execute_result"
    }
   ],
   "source": [
    "fewnerd_all[0][\"words\"]"
   ]
  },
  {
   "cell_type": "markdown",
   "id": "69eb9859",
   "metadata": {},
   "source": [
    "Since we want to perform named entity recognition, we will look at the NER tags:"
   ]
  },
  {
   "cell_type": "code",
   "execution_count": 3,
   "id": "902edf20",
   "metadata": {},
   "outputs": [
    {
     "data": {
      "text/plain": [
       "[0, 0, 0, 0]"
      ]
     },
     "execution_count": 3,
     "metadata": {},
     "output_type": "execute_result"
    }
   ],
   "source": [
    "fewnerd_all[0][\"ner_tags\"]"
   ]
  },
  {
   "cell_type": "markdown",
   "id": "ee6fe2b0",
   "metadata": {},
   "source": [
    "Those are the labels as integers ready for training, but they're not necessarily useful when we want to inspect the data. Like for text classification, we can access the correspondence between those integers and the label names by looking at the `features` attribute of our dataset:"
   ]
  },
  {
   "cell_type": "code",
   "execution_count": 4,
   "id": "42a2a6d4",
   "metadata": {},
   "outputs": [
    {
     "data": {
      "text/plain": [
       "Sequence(feature=ClassLabel(names=['O', 'art', 'building', 'event', 'location', 'organization', 'other', 'person', 'product'], id=None), length=-1, id=None)"
      ]
     },
     "execution_count": 4,
     "metadata": {},
     "output_type": "execute_result"
    }
   ],
   "source": [
    "ner_feature = fewnerd_all.features[\"ner_tags\"]\n",
    "ner_feature"
   ]
  },
  {
   "cell_type": "markdown",
   "id": "9b19fec7",
   "metadata": {},
   "source": [
    "So this column contains elements that are sequences of `ClassLabels`. The type of the elements of the sequence is in the `feature` attribute of this `ner_feature`, and we can access the list of names by looking at the `names` attribute of that `feature`:"
   ]
  },
  {
   "cell_type": "code",
   "execution_count": 5,
   "id": "6559bfa2",
   "metadata": {},
   "outputs": [
    {
     "data": {
      "text/plain": [
       "['O',\n",
       " 'art',\n",
       " 'building',\n",
       " 'event',\n",
       " 'location',\n",
       " 'organization',\n",
       " 'other',\n",
       " 'person',\n",
       " 'product']"
      ]
     },
     "execution_count": 5,
     "metadata": {},
     "output_type": "execute_result"
    }
   ],
   "source": [
    "label_names = ner_feature.feature.names\n",
    "label_names"
   ]
  },
  {
   "cell_type": "markdown",
   "id": "c42e29cf",
   "metadata": {},
   "source": [
    "We already saw these labels when digging into the `token-classification` pipeline in [Chapter 6](https://huggingface.co/course/chapter6/3), but for a quick refresher:\n",
    "- `O` means the word doesn't correspond to any entity.\n",
    "- `B-PER`/`I-PER` means the word corresponds to the beginning of/is inside a *person* entity.\n",
    "- `B-ORG`/`I-ORG` means the word corresponds to the beginning of/is inside an *organization* entity.\n",
    "- `B-LOC`/`I-LOC` means the word corresponds to the beginning of/is inside a *location* entity.\n",
    "- `B-MISC`/`I-MISC` means the word corresponds to the beginning of/is inside a *miscellaneous* entity.\n",
    "\n",
    "Now decoding the labels we saw earlier gives us this:"
   ]
  },
  {
   "cell_type": "code",
   "execution_count": 6,
   "id": "9c3c4c9e",
   "metadata": {},
   "outputs": [
    {
     "name": "stdout",
     "output_type": "stream",
     "text": [
      "Known locally as `` Fairbottom Bobs    `` it is now preserved at the Henry    Ford     Museum   in Dearborn , Michigan . \n",
      "O     O       O  O  product    product O  O  O  O   O         O  O   building building building O  location O location O \n"
     ]
    }
   ],
   "source": [
    "i = 22\n",
    "words = fewnerd_all[i][\"words\"]\n",
    "labels = fewnerd_all[i][\"ner_tags\"]\n",
    "line1 = \"\"\n",
    "line2 = \"\"\n",
    "for word, label in zip(words, labels):\n",
    "    full_label = label_names[label]\n",
    "    max_length = max(len(word), len(full_label))\n",
    "    line1 += word + \" \" * (max_length - len(word) + 1)\n",
    "    line2 += full_label + \" \" * (max_length - len(full_label) + 1)\n",
    "print(line1)\n",
    "print(line2)"
   ]
  },
  {
   "cell_type": "markdown",
   "id": "bd94b253",
   "metadata": {},
   "source": [
    "As we can see, entities spanning two words, like \"European Union\" and \"Werner Zwingmann\", are attributed a `B-` label for the first word and an `I-` label for the second.\n",
    "> ✏️ Your turn! <font color=\"darkgreen\">Print the same two sentences with their POS or chunking labels.</font>"
   ]
  },
  {
   "cell_type": "code",
   "execution_count": 7,
   "id": "359ad772",
   "metadata": {},
   "outputs": [
    {
     "name": "stdout",
     "output_type": "stream",
     "text": [
      "[0, 0, 0, 0, 8, 8, 0, 0, 0, 0, 0, 0, 0, 2, 2, 2, 0, 4, 0, 4, 0]\n",
      "['Known', 'locally', 'as', '``', 'Fairbottom', 'Bobs', '``', 'it', 'is', 'now', 'preserved', 'at', 'the', 'Henry', 'Ford', 'Museum', 'in', 'Dearborn', ',', 'Michigan', '.']\n",
      "\n",
      "Tags:\tner_tags\n",
      "Index:\t22\n",
      "Known locally as `` Fairbottom Bobs    `` it is now preserved at the Henry    Ford     Museum   in Dearborn , Michigan . \n",
      "O     O       O  O  product    product O  O  O  O   O         O  O   building building building O  location O location O \n"
     ]
    }
   ],
   "source": [
    "# Trying it out (my turn)\n",
    "## turn the above code into a function accepting the relevant arguments\n",
    "def sentence_labels(idx, tags):\n",
    "    words = fewnerd_all[idx][\"words\"]\n",
    "    labels = fewnerd_all[idx][tags]\n",
    "    label_names = fewnerd_all.features[tags].feature.names\n",
    "    line1 = \"\"\n",
    "    line2 = \"\"\n",
    "    print(labels)\n",
    "    print(words)\n",
    "    for word, label in zip(words, labels):\n",
    "        full_label = label_names[label]\n",
    "        max_length = max(len(word), len(full_label))\n",
    "        line1 += word + \" \" * (max_length - len(word) + 1)\n",
    "        line2 += full_label + \" \" * (max_length - len(full_label) + 1)\n",
    "    print(\"\\nTags:\\t{}\\nIndex:\\t{}\".format(tags, idx))\n",
    "    print(line1)\n",
    "    print(line2)\n",
    "    pass\n",
    "# use the function to complete the task\n",
    "sentence_labels(22, \"ner_tags\")"
   ]
  },
  {
   "cell_type": "markdown",
   "id": "82bf4af6",
   "metadata": {},
   "source": [
    "#### Processing the data"
   ]
  },
  {
   "cell_type": "markdown",
   "id": "71bd7db0",
   "metadata": {},
   "source": [
    "As usual, our texts need to be converted to token IDs before the model can make sense of them. As we saw in [Chapter 6](https://huggingface.co/course/chapter6/), a big difference in the case of token classification tasks is that we have pre-tokenized inputs. Fortunately, the tokenizer API can deal with that pretty easily; we just need to warn the `tokenizer` with a special flag.\n",
    "\n",
    "To begin, let's create our `tokenizer` object. As we said before, we will be using a BERT pretrained model, so we'll start by downloading and caching the associated tokenizer:"
   ]
  },
  {
   "cell_type": "code",
   "execution_count": 8,
   "id": "29750b33",
   "metadata": {},
   "outputs": [
    {
     "data": {
      "text/plain": [
       "RobertaTokenizerFast(name_or_path='FacebookAI/roberta-large', vocab_size=50265, model_max_length=512, is_fast=True, padding_side='right', truncation_side='right', special_tokens={'bos_token': '<s>', 'eos_token': '</s>', 'unk_token': '<unk>', 'sep_token': '</s>', 'pad_token': '<pad>', 'cls_token': '<s>', 'mask_token': '<mask>'}, clean_up_tokenization_spaces=True),  added_tokens_decoder={\n",
       "\t0: AddedToken(\"<s>\", rstrip=False, lstrip=False, single_word=False, normalized=True, special=True),\n",
       "\t1: AddedToken(\"<pad>\", rstrip=False, lstrip=False, single_word=False, normalized=True, special=True),\n",
       "\t2: AddedToken(\"</s>\", rstrip=False, lstrip=False, single_word=False, normalized=True, special=True),\n",
       "\t3: AddedToken(\"<unk>\", rstrip=False, lstrip=False, single_word=False, normalized=True, special=True),\n",
       "\t50264: AddedToken(\"<mask>\", rstrip=False, lstrip=True, single_word=False, normalized=False, special=True),\n",
       "}"
      ]
     },
     "execution_count": 8,
     "metadata": {},
     "output_type": "execute_result"
    }
   ],
   "source": [
    "from transformers import AutoTokenizer\n",
    "#model_checkpoint = \"bert-base-cased\"\n",
    "model_checkpoint = \"FacebookAI/roberta-large\"\n",
    "tokenizer = AutoTokenizer.from_pretrained(model_checkpoint, add_prefix_space=True)\n",
    "tokenizer"
   ]
  },
  {
   "cell_type": "markdown",
   "id": "7eeef5d2",
   "metadata": {},
   "source": [
    "You can replace the `model_checkpoint` with any other model you prefer from the [Hub](https://huggingface.co/models), or with a local folder in which you've saved a pretrained model and a tokenizer. The only constraint is that the tokenizer needs to be backed by the 🤗 Tokenizers library, so there's a \"fast\" version available. You can see all the architectures that come with a fast version in [this big table](https://huggingface.co/transformers/#supported-frameworks), and to check that the `tokenizer` object you're using is indeed backed by 🤗 Tokenizers you can look at its `is_fast` attribute:"
   ]
  },
  {
   "cell_type": "code",
   "execution_count": 9,
   "id": "19a26cda",
   "metadata": {},
   "outputs": [
    {
     "data": {
      "text/plain": [
       "True"
      ]
     },
     "execution_count": 9,
     "metadata": {},
     "output_type": "execute_result"
    }
   ],
   "source": [
    "tokenizer.is_fast"
   ]
  },
  {
   "cell_type": "markdown",
   "id": "801f7b24",
   "metadata": {},
   "source": [
    "To tokenize a pre-tokenized input, we can use our `tokenizer` as usual and just add `is_split_into_words=True`:"
   ]
  },
  {
   "cell_type": "code",
   "execution_count": 10,
   "id": "fbb96836",
   "metadata": {},
   "outputs": [
    {
     "data": {
      "text/plain": [
       "['<s>',\n",
       " 'ĠKnown',\n",
       " 'Ġlocally',\n",
       " 'Ġas',\n",
       " 'Ġ``',\n",
       " 'ĠFair',\n",
       " 'bottom',\n",
       " 'ĠBob',\n",
       " 's',\n",
       " 'Ġ``',\n",
       " 'Ġit',\n",
       " 'Ġis',\n",
       " 'Ġnow',\n",
       " 'Ġpreserved',\n",
       " 'Ġat',\n",
       " 'Ġthe',\n",
       " 'ĠHenry',\n",
       " 'ĠFord',\n",
       " 'ĠMuseum',\n",
       " 'Ġin',\n",
       " 'ĠDear',\n",
       " 'born',\n",
       " 'Ġ,',\n",
       " 'ĠMichigan',\n",
       " 'Ġ.',\n",
       " '</s>']"
      ]
     },
     "execution_count": 10,
     "metadata": {},
     "output_type": "execute_result"
    }
   ],
   "source": [
    "inputs = tokenizer(fewnerd_all[22][\"words\"], is_split_into_words=True)\n",
    "inputs.tokens()"
   ]
  },
  {
   "cell_type": "markdown",
   "id": "f35d5796",
   "metadata": {},
   "source": [
    "As we can see, the tokenizer added the special tokens used by the model (`[CLS]` at the beginning and `[SEP]` at the end) and left most of the words untouched. The word `lamb`, however, was tokenized into two subwords, `la` and `##mb`. This introduces a mismatch between our inputs and the labels: the list of labels has only 9 elements, whereas our input now has 12 tokens. Accounting for the special tokens is easy (we know they are at the beginning and the end), but we also need to make sure we align all the labels with the proper words.\n",
    "\n",
    "Fortunately, because we're using a fast tokenizer we have access to the 🤗 Tokenizers superpowers, which means we can easily map each token to its corresponding word (as seen in [Chapter 6](https://huggingface.co/course/chapter6/3)):"
   ]
  },
  {
   "cell_type": "code",
   "execution_count": 11,
   "id": "4235d7e6",
   "metadata": {},
   "outputs": [
    {
     "data": {
      "text/plain": [
       "[None,\n",
       " 0,\n",
       " 1,\n",
       " 2,\n",
       " 3,\n",
       " 4,\n",
       " 4,\n",
       " 5,\n",
       " 5,\n",
       " 6,\n",
       " 7,\n",
       " 8,\n",
       " 9,\n",
       " 10,\n",
       " 11,\n",
       " 12,\n",
       " 13,\n",
       " 14,\n",
       " 15,\n",
       " 16,\n",
       " 17,\n",
       " 17,\n",
       " 18,\n",
       " 19,\n",
       " 20,\n",
       " None]"
      ]
     },
     "execution_count": 11,
     "metadata": {},
     "output_type": "execute_result"
    }
   ],
   "source": [
    "inputs.word_ids()"
   ]
  },
  {
   "cell_type": "markdown",
   "id": "a05feaa3",
   "metadata": {},
   "source": [
    "With a tiny bit of work, we can then expand our label list to match the tokens. The first rule we'll apply is that special tokens get a label of `-100`. This is because by default `-100` is an index that is ignored in the loss function we will use (cross entropy). Then, each token gets the same label as the token that started the word it's inside, since they are part of the same entity. For tokens inside a word but not at the beginning, we replace the `B-` with `I-` (since the token does not begin the entity):"
   ]
  },
  {
   "cell_type": "code",
   "execution_count": 12,
   "id": "9e8718c8",
   "metadata": {},
   "outputs": [],
   "source": [
    "def align_labels_with_tokens(labels, word_ids):\n",
    "    new_labels = []\n",
    "    current_word = None\n",
    "    for word_id in word_ids:\n",
    "        if word_id != current_word:\n",
    "            # Start of a new word!\n",
    "            current_word = word_id\n",
    "            label = -100 if word_id is None else labels[word_id]\n",
    "            new_labels.append(label)\n",
    "        elif word_id is None:\n",
    "            # Special token\n",
    "            new_labels.append(-100)\n",
    "        else:\n",
    "            # Same word as previous token\n",
    "            label = labels[word_id]\n",
    "            # If the label is B-XXX we change it to I-XXX\n",
    "            if label % 2 == 1:\n",
    "                label += 1\n",
    "            new_labels.append(label)\n",
    "    return new_labels"
   ]
  },
  {
   "cell_type": "markdown",
   "id": "0a183628",
   "metadata": {},
   "source": [
    "Let's try it out on our first sentence:"
   ]
  },
  {
   "cell_type": "code",
   "execution_count": 22,
   "id": "a7d5f3f5",
   "metadata": {},
   "outputs": [
    {
     "name": "stdout",
     "output_type": "stream",
     "text": [
      "label: None\tword_id: -100\ttokens: <s>\n",
      "label: 0\tword_id: 0\ttokens: ĠKnown\n",
      "label: 1\tword_id: 0\ttokens: Ġlocally\n",
      "label: 2\tword_id: 0\ttokens: Ġas\n",
      "label: 3\tword_id: 0\ttokens: Ġ``\n",
      "label: 4\tword_id: 8\ttokens: ĠFair\n",
      "label: 4\tword_id: 8\ttokens: bottom\n",
      "label: 5\tword_id: 8\ttokens: ĠBob\n",
      "label: 5\tword_id: 8\ttokens: s\n",
      "label: 6\tword_id: 0\ttokens: Ġ``\n",
      "label: 7\tword_id: 0\ttokens: Ġit\n",
      "label: 8\tword_id: 0\ttokens: Ġis\n",
      "label: 9\tword_id: 0\ttokens: Ġnow\n",
      "label: 10\tword_id: 0\ttokens: Ġpreserved\n",
      "label: 11\tword_id: 0\ttokens: Ġat\n",
      "label: 12\tword_id: 0\ttokens: Ġthe\n",
      "label: 13\tword_id: 2\ttokens: ĠHenry\n",
      "label: 14\tword_id: 2\ttokens: ĠFord\n",
      "label: 15\tword_id: 2\ttokens: ĠMuseum\n",
      "label: 16\tword_id: 0\ttokens: Ġin\n",
      "label: 17\tword_id: 4\ttokens: ĠDear\n",
      "label: 17\tword_id: 4\ttokens: born\n",
      "label: 18\tword_id: 0\ttokens: Ġ,\n",
      "label: 19\tword_id: 4\ttokens: ĠMichigan\n",
      "label: 20\tword_id: 0\ttokens: Ġ.\n",
      "label: None\tword_id: -100\ttokens: </s>\n"
     ]
    },
    {
     "data": {
      "text/plain": [
       "(26, 26)"
      ]
     },
     "execution_count": 22,
     "metadata": {},
     "output_type": "execute_result"
    }
   ],
   "source": [
    "labels = fewnerd_all[22][\"ner_tags\"]\n",
    "word_ids = inputs.word_ids()\n",
    "tokens = inputs.tokens()\n",
    "aligned_labels = align_labels_with_tokens(labels, word_ids)\n",
    "for i in range(len(aligned_labels)):\n",
    "    print(f\"label: {word_ids[i]}\\tword_id: {aligned_labels[i]}\\ttokens: {tokens[i]}\")\n",
    "len(aligned_labels), len(word_ids)"
   ]
  },
  {
   "cell_type": "markdown",
   "id": "74e91d2e",
   "metadata": {},
   "source": [
    "As we can see, our function added the `-100` for the two special tokens at the beginning and the end, and a new `0` for our word that was split into two tokens.\n",
    "> ✏️ Your turn! <font color=\"darkgreen\">Some researchers prefer to attribute only one label per word, and assign `-100` to the other subtokens in a given word. This is to avoid long words that split into lots of subtokens contributing heavily to the loss. Change the previous function to align labels with input IDs by following this rule.</font>"
   ]
  },
  {
   "cell_type": "code",
   "execution_count": 23,
   "id": "a7404821",
   "metadata": {},
   "outputs": [
    {
     "name": "stdout",
     "output_type": "stream",
     "text": [
      "[0, 0, 0, 0, 8, 8, 0, 0, 0, 0, 0, 0, 0, 2, 2, 2, 0, 4, 0, 4, 0]\n",
      "['<s>', 'ĠKnown', 'Ġlocally', 'Ġas', 'Ġ``', 'ĠFair', 'bottom', 'ĠBob', 's', 'Ġ``', 'Ġit', 'Ġis', 'Ġnow', 'Ġpreserved', 'Ġat', 'Ġthe', 'ĠHenry', 'ĠFord', 'ĠMuseum', 'Ġin', 'ĠDear', 'born', 'Ġ,', 'ĠMichigan', 'Ġ.', '</s>']\n",
      "[None, 0, 1, 2, 3, 4, 4, 5, 5, 6, 7, 8, 9, 10, 11, 12, 13, 14, 15, 16, 17, 17, 18, 19, 20, None]\n",
      "[-100, 0, 0, 0, 0, 8, 8, 8, 8, 0, 0, 0, 0, 0, 0, 0, 2, 2, 2, 0, 4, 4, 0, 4, 0, -100]\n"
     ]
    },
    {
     "data": {
      "text/plain": [
       "[-100,\n",
       " 0,\n",
       " 0,\n",
       " 0,\n",
       " 0,\n",
       " 8,\n",
       " -100,\n",
       " 8,\n",
       " -100,\n",
       " 0,\n",
       " 0,\n",
       " 0,\n",
       " 0,\n",
       " 0,\n",
       " 0,\n",
       " 0,\n",
       " 2,\n",
       " 2,\n",
       " 2,\n",
       " 0,\n",
       " 4,\n",
       " -100,\n",
       " 0,\n",
       " 4,\n",
       " 0,\n",
       " -100]"
      ]
     },
     "execution_count": 23,
     "metadata": {},
     "output_type": "execute_result"
    }
   ],
   "source": [
    "# Trying it out (my turn)\n",
    "print(labels)\n",
    "print(inputs.tokens())\n",
    "print(word_ids)\n",
    "print(align_labels_with_tokens(labels, word_ids))\n",
    "def my_align_labels_with_tokens(labels, word_ids):\n",
    "    new_labels = []\n",
    "    previous_word_id = None\n",
    "    for word_id in word_ids:\n",
    "        if (word_id==None) or (word_id==previous_word_id):\n",
    "            label = -100\n",
    "        else:\n",
    "            label = labels[word_id]\n",
    "        new_labels.append(label)\n",
    "        previous_word_id = word_id\n",
    "    return new_labels\n",
    "#\n",
    "my_align_labels_with_tokens(labels, word_ids)"
   ]
  },
  {
   "cell_type": "markdown",
   "id": "62250f6c",
   "metadata": {},
   "source": [
    "To preprocess our whole dataset, we need to tokenize all the inputs and apply `align_labels_with_tokens()` on all the labels. To take advantage of the speed of our fast tokenizer, it's best to tokenize lots of texts at the same time, so we'll write a function that processes a list of examples and use the `Dataset.map()` method with the option `batched=True`. The only thing that is different from our previous example is that the `word_ids()` function needs to get the index of the example we want the word IDs of when the inputs to the tokenizer are lists of texts (or in our case, list of lists of words), so we add that, too:"
   ]
  },
  {
   "cell_type": "code",
   "execution_count": 24,
   "id": "14e3211d",
   "metadata": {},
   "outputs": [],
   "source": [
    "def tokenize_and_align_labels(examples):\n",
    "    tokenized_inputs = tokenizer(examples[\"words\"], truncation=True, is_split_into_words=True)\n",
    "    all_labels = examples[\"ner_tags\"]\n",
    "    new_labels = []\n",
    "    for i, labels in enumerate(all_labels):\n",
    "        word_ids = tokenized_inputs.word_ids(i)\n",
    "        new_labels.append(align_labels_with_tokens(labels, word_ids))\n",
    "    tokenized_inputs[\"labels\"] = new_labels\n",
    "    return tokenized_inputs"
   ]
  },
  {
   "cell_type": "markdown",
   "id": "bfe0ad43",
   "metadata": {},
   "source": [
    "Note that we haven’t padded our inputs yet; we’ll do that later, when creating the batches with a data collator.\n",
    "\n",
    "We can now apply all that preprocessing in one go on the other splits of our dataset:"
   ]
  },
  {
   "cell_type": "code",
   "execution_count": 25,
   "id": "bc178482",
   "metadata": {},
   "outputs": [
    {
     "data": {
      "text/plain": [
       "Dataset({\n",
       "    features: ['input_ids', 'attention_mask', 'labels'],\n",
       "    num_rows: 188239\n",
       "})"
      ]
     },
     "execution_count": 25,
     "metadata": {},
     "output_type": "execute_result"
    }
   ],
   "source": [
    "tokenized_datasets = fewnerd_all.map(\n",
    "    tokenize_and_align_labels,\n",
    "    batched=True,\n",
    "    remove_columns=fewnerd_all.column_names\n",
    ")\n",
    "tokenized_datasets"
   ]
  },
  {
   "cell_type": "markdown",
   "id": "1d5ce077",
   "metadata": {},
   "source": [
    "We've done the hardest part! Now that the data has been preprocessed, the actual training will look a lot like what we did in [Chapter 3](https://huggingface.co/course/chapter3).\n",
    "\n",
    "### Fine-tuning the model with the Trainer API\n",
    "The actual code using the `Trainer` will be the same as before; the only changes are the way the data is collated into a batch and the metric computation function.\n",
    "\n",
    "#### Data collation\n",
    "We can't just use a `DataCollatorWithPadding` like in [Chapter 3](https://huggingface.co/course/chapter3) because that only pads the inputs (input IDs, attention mask, and token type IDs). Here, our labels should be padded the exact same way as the inputs so that they stay the same size, using `-100` as a value so that the corresponding predictions are ignored in the loss computation.\n",
    "\n",
    "This is all done by a [`DataCollatorForTokenClassification`](https://huggingface.co/transformers/main_classes/data_collator.html#datacollatorfortokenclassification). Like the `DataCollatorWithPadding`, it takes the `tokenizer` used to preprocess the inputs:"
   ]
  },
  {
   "cell_type": "code",
   "execution_count": 26,
   "id": "bd71e709",
   "metadata": {},
   "outputs": [
    {
     "data": {
      "text/plain": [
       "DataCollatorForTokenClassification(tokenizer=RobertaTokenizerFast(name_or_path='FacebookAI/roberta-large', vocab_size=50265, model_max_length=512, is_fast=True, padding_side='right', truncation_side='right', special_tokens={'bos_token': '<s>', 'eos_token': '</s>', 'unk_token': '<unk>', 'sep_token': '</s>', 'pad_token': '<pad>', 'cls_token': '<s>', 'mask_token': '<mask>'}, clean_up_tokenization_spaces=True),  added_tokens_decoder={\n",
       "\t0: AddedToken(\"<s>\", rstrip=False, lstrip=False, single_word=False, normalized=True, special=True),\n",
       "\t1: AddedToken(\"<pad>\", rstrip=False, lstrip=False, single_word=False, normalized=True, special=True),\n",
       "\t2: AddedToken(\"</s>\", rstrip=False, lstrip=False, single_word=False, normalized=True, special=True),\n",
       "\t3: AddedToken(\"<unk>\", rstrip=False, lstrip=False, single_word=False, normalized=True, special=True),\n",
       "\t50264: AddedToken(\"<mask>\", rstrip=False, lstrip=True, single_word=False, normalized=False, special=True),\n",
       "}, padding=True, max_length=None, pad_to_multiple_of=None, label_pad_token_id=-100, return_tensors='pt')"
      ]
     },
     "execution_count": 26,
     "metadata": {},
     "output_type": "execute_result"
    }
   ],
   "source": [
    "from transformers import DataCollatorForTokenClassification\n",
    "data_collator = DataCollatorForTokenClassification(tokenizer=tokenizer)\n",
    "data_collator"
   ]
  },
  {
   "cell_type": "markdown",
   "id": "4af81b08",
   "metadata": {},
   "source": [
    "To test this on a few samples, we can just call it on a list of examples from our tokenized training set:"
   ]
  },
  {
   "cell_type": "markdown",
   "id": "14b7c7a2",
   "metadata": {},
   "source": [
    "Let's compare this to the labels for the first and second elements in our dataset:"
   ]
  },
  {
   "cell_type": "code",
   "execution_count": 27,
   "id": "80334ed4-619a-414b-9ef3-b3b5a7ea7a53",
   "metadata": {},
   "outputs": [
    {
     "name": "stdout",
     "output_type": "stream",
     "text": [
      "  dev\u001b[m\n",
      "* \u001b[32mdev_backup\u001b[m\n",
      "  main\u001b[m\n",
      "  main_backup\u001b[m\n"
     ]
    },
    {
     "name": "stderr",
     "output_type": "stream",
     "text": [
      "huggingface/tokenizers: The current process just got forked, after parallelism has already been used. Disabling parallelism to avoid deadlocks...\n",
      "To disable this warning, you can either:\n",
      "\t- Avoid using `tokenizers` before the fork if possible\n",
      "\t- Explicitly set the environment variable TOKENIZERS_PARALLELISM=(true | false)\n"
     ]
    }
   ],
   "source": [
    "!git branch"
   ]
  },
  {
   "cell_type": "code",
   "execution_count": 29,
   "id": "ebfb61d9",
   "metadata": {},
   "outputs": [
    {
     "name": "stderr",
     "output_type": "stream",
     "text": [
      "You're using a RobertaTokenizerFast tokenizer. Please note that with a fast tokenizer, using the `__call__` method is faster than using a method to encode the text followed by a call to the `pad` method to get a padded encoding.\n"
     ]
    },
    {
     "data": {
      "text/plain": [
       "tensor([[-100,    0,    0,    0,    0, -100, -100, -100, -100, -100, -100, -100,\n",
       "         -100, -100, -100, -100, -100],\n",
       "        [-100,    0,    0,    7,    0,    0,    0,    0,    7,    8,    7,    8,\n",
       "            0,    7,    7,    0, -100]])"
      ]
     },
     "execution_count": 29,
     "metadata": {},
     "output_type": "execute_result"
    }
   ],
   "source": [
    "batch = data_collator([tokenized_datasets[i] for i in range(2)])\n",
    "batch[\"labels\"]"
   ]
  },
  {
   "cell_type": "code",
   "execution_count": 30,
   "id": "9f96c7a5",
   "metadata": {},
   "outputs": [
    {
     "name": "stdout",
     "output_type": "stream",
     "text": [
      "[-100, 0, 0, 0, 0, -100]\n",
      "[-100, 0, 0, 7, 0, 0, 0, 0, 7, 8, 7, 8, 0, 7, 7, 0, -100]\n"
     ]
    }
   ],
   "source": [
    "for i in range(2):\n",
    "    print(tokenized_datasets[i][\"labels\"])"
   ]
  },
  {
   "cell_type": "markdown",
   "id": "8b53cf10",
   "metadata": {},
   "source": [
    "As we can see, the second set of labels has been padded to the length of the first one using `-100`s.\n",
    "\n",
    "#### Metrics\n",
    "To have the `Trainer` compute a metric every epoch, we will need to define a `compute_metrics()` function that takes the arrays of predictions and labels, and returns a dictionary with the metric names and values.\n",
    "\n",
    "The traditional framework used to evaluate token classification prediction is [*seqeval*](https://github.com/chakki-works/seqeval). To use this metric, we first need to install the *seqeval* library:\n",
    "```\n",
    "pip install seqeval\n",
    "```\n",
    "We can then load it via the `load()` function like we did in [Chapter 3](https://huggingface.co/course/chapter3):"
   ]
  },
  {
   "cell_type": "code",
   "execution_count": 31,
   "id": "b9ebf1c5",
   "metadata": {},
   "outputs": [],
   "source": [
    "from evaluate import load\n",
    "metric = load(\"seqeval\")"
   ]
  },
  {
   "cell_type": "markdown",
   "id": "f6bea1e2",
   "metadata": {},
   "source": [
    "This metric does not behave like the standard accuracy: it will actually take the lists of labels as strings, not integers, so we will need to fully decode the predictions and labels before passing them to the metric. Let's see how it works. First, we'll get the labels for our first training example:"
   ]
  },
  {
   "cell_type": "code",
   "execution_count": 33,
   "id": "25deb1c0",
   "metadata": {},
   "outputs": [
    {
     "data": {
      "text/plain": [
       "['O',\n",
       " 'O',\n",
       " 'O',\n",
       " 'O',\n",
       " 'product',\n",
       " 'product',\n",
       " 'O',\n",
       " 'O',\n",
       " 'O',\n",
       " 'O',\n",
       " 'O',\n",
       " 'O',\n",
       " 'O',\n",
       " 'building',\n",
       " 'building',\n",
       " 'building',\n",
       " 'O',\n",
       " 'location',\n",
       " 'O',\n",
       " 'location',\n",
       " 'O']"
      ]
     },
     "execution_count": 33,
     "metadata": {},
     "output_type": "execute_result"
    }
   ],
   "source": [
    "labels = fewnerd_all[22][\"ner_tags\"]\n",
    "labels = [label_names[i] for i in labels]\n",
    "labels"
   ]
  },
  {
   "cell_type": "markdown",
   "id": "96579fb8",
   "metadata": {},
   "source": [
    "We can then create fake predictions for those by just changing the value at index 2. Note that the metric takes a list of predictions (not just one) and a list of labels."
   ]
  },
  {
   "cell_type": "code",
   "execution_count": 34,
   "id": "28c4ec94",
   "metadata": {},
   "outputs": [
    {
     "name": "stderr",
     "output_type": "stream",
     "text": [
      "/home/matthias/.local/lib/python3.10/site-packages/seqeval/metrics/sequence_labeling.py:171: UserWarning: product seems not to be NE tag.\n",
      "  warnings.warn('{} seems not to be NE tag.'.format(chunk))\n",
      "/home/matthias/.local/lib/python3.10/site-packages/seqeval/metrics/sequence_labeling.py:171: UserWarning: building seems not to be NE tag.\n",
      "  warnings.warn('{} seems not to be NE tag.'.format(chunk))\n",
      "/home/matthias/.local/lib/python3.10/site-packages/seqeval/metrics/sequence_labeling.py:171: UserWarning: location seems not to be NE tag.\n",
      "  warnings.warn('{} seems not to be NE tag.'.format(chunk))\n"
     ]
    },
    {
     "data": {
      "text/plain": [
       "{'ocation': {'precision': 1.0, 'recall': 1.0, 'f1': 1.0, 'number': 2},\n",
       " 'roduct': {'precision': 1.0, 'recall': 1.0, 'f1': 1.0, 'number': 1},\n",
       " 'uilding': {'precision': 1.0, 'recall': 1.0, 'f1': 1.0, 'number': 1},\n",
       " 'overall_precision': 1.0,\n",
       " 'overall_recall': 1.0,\n",
       " 'overall_f1': 1.0,\n",
       " 'overall_accuracy': 1.0}"
      ]
     },
     "execution_count": 34,
     "metadata": {},
     "output_type": "execute_result"
    }
   ],
   "source": [
    "predictions = labels.copy()\n",
    "predictions[2] = \"O\"\n",
    "metric.compute(predictions=[predictions], references=[labels])"
   ]
  },
  {
   "cell_type": "markdown",
   "id": "75da78d7",
   "metadata": {},
   "source": [
    "This is sending back a lot of information! We get the precision, recall, and $F_1$ score for each separate entity, as well as overall. For our metric computation we will only keep the overall score, but feel free to tweak the `compute_metrics()` function to return all the metrics you would like reported.\n",
    "\n",
    "This `compute_metrics()` function first takes the argmax of the logits to convert them to predictions (as usual, the logits and the probabilities are in the same order, so we don't need to apply the softmax). Then we have to convert both labels and predictions from integers to strings. We remove all the values where the label is `-100`, then pass the results to the `metric.compute()` method:"
   ]
  },
  {
   "cell_type": "code",
   "execution_count": null,
   "id": "7ba75a44",
   "metadata": {},
   "outputs": [],
   "source": [
    "import numpy as np\n",
    "def compute_metrics(eval_preds):\n",
    "    logits, labels = eval_preds\n",
    "    predictions = np.argmax(logits, axis=-1)\n",
    "    # Remove ignored index (special tokens) and convert to labels\n",
    "    true_labels = [[label_names[l] for l in label if l != -100] for label in labels]\n",
    "    true_predictions = [\n",
    "        [label_names[p] for (p, l) in zip(prediction, label) if l != -100]\n",
    "        for prediction, label in zip(predictions, labels)\n",
    "    ]\n",
    "    all_metrics = metric.compute(predictions=true_predictions, references=true_labels)\n",
    "    return {\n",
    "        \"precision\": all_metrics[\"overall_precision\"],\n",
    "        \"recall\": all_metrics[\"overall_recall\"],\n",
    "        \"f1\": all_metrics[\"overall_f1\"],\n",
    "        \"accuracy\": all_metrics[\"overall_accuracy\"],\n",
    "    }"
   ]
  },
  {
   "cell_type": "markdown",
   "id": "3b1b8184",
   "metadata": {},
   "source": [
    "#### Defining the model\n",
    "Since we are working on a token classification problem, we will use the `AutoModelForTokenClassification` class. The main thing to remember when defining this model is to pass along some information on the number of labels we have. The easiest way to do this is to pass that number with the `num_labels` argument, but if we want a nice inference widget working like the one we saw at the beginning of this section, it's better to set the correct label correspondences instead.\n",
    "\n",
    "They should be set by two dictionaries, `id2label` and `label2id`, which contain the mappings from ID to label and vice versa:"
   ]
  },
  {
   "cell_type": "code",
   "execution_count": null,
   "id": "ca58a879",
   "metadata": {},
   "outputs": [],
   "source": [
    "id2label = {str(i): label for i, label in enumerate(label_names)}\n",
    "label2id = {v: k for k, v in id2label.items()}\n",
    "id2label, label2id"
   ]
  },
  {
   "cell_type": "markdown",
   "id": "c4ba1f30",
   "metadata": {},
   "source": [
    "Now we can just pass them to the `AutoModelForTokenClassification.from_pretrained()` method, and they will be set in the model's configuration and then properly saved and uploaded to the Hub:"
   ]
  },
  {
   "cell_type": "code",
   "execution_count": null,
   "id": "b68504e8",
   "metadata": {},
   "outputs": [],
   "source": [
    "from peft import PeftModel, LoraConfig, prepare_model_for_int8_training, get_peft_model, TaskType, prepare_model_for_kbit_training\n",
    "from transformers import AutoModelForTokenClassification\n",
    "model = AutoModelForTokenClassification.from_pretrained(\n",
    "    model_checkpoint,\n",
    "    id2label=id2label,\n",
    "    label2id=label2id\n",
    ")\n",
    "#\n",
    "r = 4\n",
    "config = LoraConfig(\n",
    "    # GUIDE   => https://huggingface.co/docs/peft/main/en/conceptual_guides/lora#common-lora-parameters-in-peft\n",
    "    # https://huggingface.co/docs/peft/main/en/conceptual_guides/lora#common-lora-parameters-in-peft:~:text=use_rslora%3A%20When%20set%20to%20True%2C%20uses%20Rank%2DStabilized%20LoRA%20which%20sets%20the%20adapter%20scaling%20factor\n",
    "    # https://arxiv.org/abs/2312.03732, \n",
    "    r=r,\n",
    "    target_modules=[\"query\", \"key\", \"value\", \"query_proj\", \"key_proj\", \"value_proj\"],\n",
    "    bias=\"lora_only\",\n",
    "    use_rslora=True,\n",
    "    task_type=TaskType.TOKEN_CLS,\n",
    "    lora_dropout=0.2\n",
    ")\n",
    "print(config)\n",
    "#\n",
    "#model = prepare_model_for_int8_training(model)\n",
    "model = prepare_model_for_kbit_training(model)\n",
    "model = get_peft_model(model, config).bfloat16()\n",
    "model"
   ]
  },
  {
   "cell_type": "markdown",
   "id": "0c478899",
   "metadata": {},
   "source": [
    "Like when we defined our `AutoModelForSequenceClassification` in [Chapter 3](https://huggingface.co/course/chapter3), creating the model issues a warning that some weights were not used (the ones from the pretraining head) and some other weights are randomly initialized (the ones from the new token classification head), and that this model should be trained. We will do that in a minute, but first let's double-check that our model has the right number of labels:"
   ]
  },
  {
   "cell_type": "code",
   "execution_count": null,
   "id": "4b35e67d",
   "metadata": {},
   "outputs": [],
   "source": [
    "model.config.num_labels"
   ]
  },
  {
   "cell_type": "markdown",
   "id": "0b210c8d",
   "metadata": {},
   "source": [
    "> <font color=\"darkred\">⚠️ If you have a model with the wrong number of labels, you will get an obscure error when calling the `Trainer.train()` method later on (something like \"CUDA error: device-side assert triggered\"). This is the number one cause of bugs reported by users for such errors, so make sure you do this check to confirm that you have the expected number of labels.</font>\n",
    "\n",
    "#### Fine-tuning the model\n",
    "We are now ready to train our model! We just need to do two last things before we define our `Trainer`: log in to Hugging Face and define our training arguments. If you're working in a notebook, there's a convenience function to help you with this:"
   ]
  },
  {
   "cell_type": "code",
   "execution_count": null,
   "id": "7dad9f74",
   "metadata": {},
   "outputs": [],
   "source": [
    "# from huggingface_hub import notebook_login\n",
    "# notebook_login()"
   ]
  },
  {
   "cell_type": "markdown",
   "id": "f15e008e-8f27-47c9-a6c8-4fadfd390dc8",
   "metadata": {},
   "source": [
    "This will display a widget where you can enter your Hugging Face login credentials.\n",
    "\n",
    "If you aren't working in a notebook, just type the following line in your terminal:\n",
    "```terminal\n",
    "huggingface-cli login\n",
    "```\n",
    "Once this is done, we can define our `TrainingArguments`:"
   ]
  },
  {
   "cell_type": "code",
   "execution_count": null,
   "id": "340b6340",
   "metadata": {},
   "outputs": [],
   "source": [
    "# # training arguments\n",
    "# from transformers import TrainingArguments\n",
    "# args = TrainingArguments(\n",
    "#     \"sections/section_7/logs/bert-finetuned-ner\", # make sure this folder ...\n",
    "#         # ... (i) exists parallel to this notebook and is a local clone of your huggingface repo or ...\n",
    "#         # ... (ii) exists neither parallel to this notebook nor on your huggingface account\n",
    "#         # for cloning, see \"The Repository class\" in \"4-Sharing_models_and_tokenizers.ipynb\"\n",
    "#     evaluation_strategy=\"epoch\",\n",
    "#     save_strategy=\"epoch\",\n",
    "#     learning_rate=2e-5,\n",
    "#     num_train_epochs=3,\n",
    "#     #push_to_hub=True, # comment out or remove from hub\n",
    "#     weight_decay=0.01\n",
    "# )"
   ]
  },
  {
   "cell_type": "markdown",
   "id": "b7149eb1",
   "metadata": {},
   "source": [
    "You've seen most of those before: we set some hyperparameters (like the learning rate, the number of epochs to train for, and the weight decay), and we specify `push_to_hub=True` to indicate that we want to save the model and evaluate it at the end of every epoch, and that we want to upload our results to the Model Hub. Note that you can specify the name of the repository you want to push to with the `hub_model_id` argument (in particular, you will have to use this argument to push to an organization). For instance, when we pushed the model to the [`huggingface-course` organization](https://huggingface.co/huggingface-course), we added `hub_model_id=\"huggingface-course/bert-finetuned-ner\"` to `TrainingArguments`. By default, the repository used will be in your namespace and named after the output directory you set, so in our case it will be `\"sgugger/bert-finetuned-ner\"`.\n",
    "> <font color=\"darkgreen\">💡 If the output directory you are using already exists, it needs to be a local clone of the repository you want to push to. If it isn't, you'll get an error when defining your `Trainer` and will need to set a new name.</font>\n",
    "\n",
    "Finally, we just pass everything to the `Trainer` and launch the training:"
   ]
  },
  {
   "cell_type": "code",
   "execution_count": null,
   "id": "5f260c37",
   "metadata": {},
   "outputs": [],
   "source": [
    "# from transformers import Trainer\n",
    "# trainer = Trainer(\n",
    "#     model=model,\n",
    "#     args=args,\n",
    "#     train_dataset=tokenized_datasets[\"train\"],\n",
    "#     eval_dataset=tokenized_datasets[\"validation\"],\n",
    "#     data_collator=data_collator,\n",
    "#     compute_metrics=compute_metrics,\n",
    "#     tokenizer=tokenizer\n",
    "# )\n",
    "# trainer.train()"
   ]
  },
  {
   "cell_type": "markdown",
   "id": "77ec684d",
   "metadata": {},
   "source": [
    "Note that while the training happens, each time the model is saved (here, every epoch) it is uploaded to the Hub in the background. This way, you will be able to resume your training on another machine if necessary.\n",
    "\n",
    "Once the training is complete, we use the `push_to_hub()` method to make sure we upload the most recent version of the model:"
   ]
  },
  {
   "cell_type": "code",
   "execution_count": null,
   "id": "536151ba",
   "metadata": {},
   "outputs": [],
   "source": [
    "%%time\n",
    "# trainer.push_to_hub(commit_message=\"Commit n+1\", blocking=False)\n",
    "#trainer.push_to_hub(commit_message=\"Commit 1\") # this can take a while"
   ]
  },
  {
   "cell_type": "markdown",
   "id": "3892469b",
   "metadata": {},
   "source": [
    "The above command returns the URL of the commit it just did, if you want to inspect it.\n",
    "\n",
    "The `Trainer` also drafts a model card with all the evaluation results and uploads it. At this stage, you can use the inference widget on the Model Hub to test your model and share it with your friends. You have successfully fine-tuned a model on a token classification task — congratulations!\n",
    "\n",
    "If you want to dive a bit more deeply into the training loop, we will now show you how to do the same thing using 🤗 Accelerate.\n",
    "\n",
    "### A custom training loop\n",
    "Let's now take a look at the full training loop, so you can easily customize the parts you need. It will look a lot like what we did in [Chapter 3](https://huggingface.co/course/chapter3/4), with a few changes for the evaluation.\n",
    "\n",
    "#### Preparing everything for training\n",
    "First we need to build the DataLoaders from our datasets. We'll reuse our `data_collator` as a `collate_fn` and shuffle the training set, but not the validation set:"
   ]
  },
  {
   "cell_type": "code",
   "execution_count": null,
   "id": "4b560aba",
   "metadata": {},
   "outputs": [],
   "source": [
    "from torch.utils.data import DataLoader\n",
    "train_dataloader = DataLoader(\n",
    "    tokenized_datasets[\"train\"],\n",
    "    shuffle=True,\n",
    "    collate_fn=data_collator,\n",
    "    batch_size=8\n",
    ")\n",
    "valid_dataloader = DataLoader(tokenized_datasets[\"validation\"], collate_fn=data_collator, batch_size=8)"
   ]
  },
  {
   "cell_type": "markdown",
   "id": "306c2afc",
   "metadata": {},
   "source": [
    "Next, we reinstantiate our model, to make sure we're not continuing the fine-tuning from before but starting from the BERT pretrained model again:"
   ]
  },
  {
   "cell_type": "code",
   "execution_count": null,
   "id": "96e61e50",
   "metadata": {},
   "outputs": [],
   "source": [
    "model = AutoModelForTokenClassification.from_pretrained(\n",
    "    model_checkpoint,\n",
    "    id2label=id2label,\n",
    "    label2id=label2id\n",
    ")"
   ]
  },
  {
   "cell_type": "markdown",
   "id": "d2b60d52",
   "metadata": {},
   "source": [
    "Then we will need an optimizer. We'll use the classic `AdamW`, which is like `Adam`, but with a fix in the way weight decay is applied:"
   ]
  },
  {
   "cell_type": "code",
   "execution_count": null,
   "id": "8b21c3bd",
   "metadata": {},
   "outputs": [],
   "source": [
    "from torch.optim import AdamW\n",
    "optimizer = AdamW(model.parameters(), lr=2e-5)"
   ]
  },
  {
   "cell_type": "markdown",
   "id": "68292f26",
   "metadata": {},
   "source": [
    "Once we have all those objects, we can send them to the `accelerator.prepare()` method:"
   ]
  },
  {
   "cell_type": "code",
   "execution_count": null,
   "id": "1911f061",
   "metadata": {},
   "outputs": [],
   "source": [
    "from accelerate import Accelerator\n",
    "accelerator = Accelerator()\n",
    "model, optimizer, train_dataloader, valid_dataloader = accelerator.prepare(\n",
    "    model,\n",
    "    optimizer,\n",
    "    train_dataloader,\n",
    "    valid_dataloader\n",
    ")"
   ]
  },
  {
   "cell_type": "markdown",
   "id": "c91a9652",
   "metadata": {},
   "source": [
    "> <font color=\"darkgreen\">🚨 If you're training on a TPU, you'll need to move all the code starting from the cell above into a dedicated training function. See [Chapter 3](https://huggingface.co/course/chapter3) for more details.</font>\n",
    "\n",
    "Now that we have sent our `train_dataloader` to `accelerator.prepare()`, we can use its length to compute the number of training steps. Remember that we should always do this after preparing the dataloader, as that method will change its length. We use a classic linear schedule from the learning rate to 0:"
   ]
  },
  {
   "cell_type": "code",
   "execution_count": null,
   "id": "897170de",
   "metadata": {},
   "outputs": [],
   "source": [
    "from transformers import get_scheduler\n",
    "num_train_epochs = 3\n",
    "num_update_steps_per_epoch = len(train_dataloader)\n",
    "num_training_steps = num_train_epochs * num_update_steps_per_epoch\n",
    "lr_scheduler = get_scheduler(\n",
    "    \"linear\",\n",
    "    optimizer=optimizer,\n",
    "    num_warmup_steps=0,\n",
    "    num_training_steps=num_training_steps\n",
    ")"
   ]
  },
  {
   "cell_type": "markdown",
   "id": "6342bf6d",
   "metadata": {},
   "source": [
    "Lastly, to push our model to the Hub, we will need to create a `Repository` object in a working folder. First log in to Hugging Face, if you're not logged in already. We'll determine the repository name from the model ID we want to give our model (feel free to replace the `repo_name` with your own choice; it just needs to contain your username, which is what the function `get_full_repo_name()` does):"
   ]
  },
  {
   "cell_type": "code",
   "execution_count": null,
   "id": "38a925fa",
   "metadata": {},
   "outputs": [],
   "source": [
    "#from huggingface_hub import Repository, get_full_repo_name\n",
    "model_name = \"bert-finetuned-ner-accelerate\"\n",
    "#repo_name = get_full_repo_name(model_name)\n",
    "#repo_name"
   ]
  },
  {
   "cell_type": "markdown",
   "id": "a86070fb",
   "metadata": {},
   "source": [
    "Then we can clone that repository in a local folder. If it already exists, this local folder should be an existing clone of the repository we are working with:"
   ]
  },
  {
   "cell_type": "code",
   "execution_count": null,
   "id": "cd1fce8f",
   "metadata": {},
   "outputs": [],
   "source": [
    "output_dir = f\"sections/section_7/logs/local_clone_of_{model_name}\"\n",
    "#print(output_dir)\n",
    "#repo = Repository(output_dir, clone_from=repo_name)"
   ]
  },
  {
   "cell_type": "markdown",
   "id": "f1380b80",
   "metadata": {},
   "source": [
    "We can now upload anything we save in `output_dir` by calling the `repo.push_to_hub()` method. This will help us upload the intermediate models at the end of each epoch.\n",
    "\n",
    "#### Training loop\n",
    "We are now ready to write the full training loop. To simplify its evaluation part, we define this `postprocess()` function that takes predictions and labels and converts them to lists of strings, like our `metric` object expects:"
   ]
  },
  {
   "cell_type": "code",
   "execution_count": null,
   "id": "c8d12525",
   "metadata": {},
   "outputs": [],
   "source": [
    "def postprocess(predictions, labels):\n",
    "    predictions = predictions.detach().cpu().clone().numpy()\n",
    "    labels = labels.detach().cpu().clone().numpy()\n",
    "    # Remove ignored index (special tokens) and convert to labels\n",
    "    true_labels = [[label_names[l] for l in label if l != -100] for label in labels]\n",
    "    true_predictions = [\n",
    "        [label_names[p] for (p, l) in zip(prediction, label) if l != -100]\n",
    "        for prediction, label in zip(predictions, labels)\n",
    "    ]\n",
    "    return true_labels, true_predictions"
   ]
  },
  {
   "cell_type": "markdown",
   "id": "f55b1f4b",
   "metadata": {},
   "source": [
    "Then we can write the training loop. After defining a progress bar to follow how training goes, the loop has three parts:\n",
    "- The training in itself, which is the classic iteration over the `train_dataloader`, forward pass through the model, then backward pass and optimizer step.\n",
    "- The evaluation, in which there is a novelty after getting the outputs of our model on a batch: since two processes may have padded the inputs and labels to different shapes, we need to use `accelerator.pad_across_processes()` to make the predictions and labels the same shape before calling the `gather()` method. If we don't do this, the evaluation will either error out or hang forever. Then we send the results to `metric.add_batch()` and call `metric.compute()` once the evaluation loop is over.\n",
    "- Saving and uploading, where we first save the model and the tokenizer, then call `repo.push_to_hub()`. Notice that we use the argument `blocking=False` to tell the 🤗 Hub library to push in an asynchronous process. This way, training continues normally and this (long) instruction is executed in the background.\n",
    "\n",
    "Here's the complete code for the training loop:"
   ]
  },
  {
   "cell_type": "code",
   "execution_count": null,
   "id": "fe65a0c8",
   "metadata": {},
   "outputs": [],
   "source": [
    "from tqdm.auto import tqdm\n",
    "import torch\n",
    "progress_bar = tqdm(range(num_training_steps))\n",
    "for epoch in range(1):\n",
    "#for epoch in range(num_train_epochs):\n",
    "    # Training\n",
    "    model.train()\n",
    "    for batch in train_dataloader:\n",
    "        outputs = model(**batch)\n",
    "        loss = outputs.loss\n",
    "        accelerator.backward(loss)\n",
    "        optimizer.step()\n",
    "        lr_scheduler.step()\n",
    "        optimizer.zero_grad()\n",
    "        progress_bar.update(1)\n",
    "    # Evaluation\n",
    "    model.eval()\n",
    "    for batch in valid_dataloader:\n",
    "        with torch.no_grad():\n",
    "            outputs = model(**batch)\n",
    "        predictions = outputs.logits.argmax(dim=-1)\n",
    "        labels = batch[\"labels\"]\n",
    "        # Necessary to pad predictions and labels for being gathered\n",
    "        predictions = accelerator.pad_across_processes(predictions, dim=1, pad_index=-100)\n",
    "        labels = accelerator.pad_across_processes(labels, dim=1, pad_index=-100)\n",
    "        predictions_gathered = accelerator.gather(predictions)\n",
    "        labels_gathered = accelerator.gather(labels)\n",
    "        true_predictions, true_labels = postprocess(predictions_gathered, labels_gathered)\n",
    "        metric.add_batch(predictions=true_predictions, references=true_labels)\n",
    "    results = metric.compute()\n",
    "    print(f\"epoch {epoch}:\", {key: results[f\"overall_{key}\"] for key in [\"precision\", \"recall\", \"f1\", \"accuracy\"]})\n",
    "    # Save and upload\n",
    "    accelerator.wait_for_everyone()\n",
    "    unwrapped_model = accelerator.unwrap_model(model)\n",
    "    unwrapped_model.save_pretrained(output_dir, save_function=accelerator.save)\n",
    "    if accelerator.is_main_process:\n",
    "        tokenizer.save_pretrained(output_dir)"
   ]
  },
  {
   "cell_type": "markdown",
   "id": "83bcb30d",
   "metadata": {},
   "source": [
    "In case this is the first time you're seeing a model saved with 🤗 Accelerate, let's take a moment to inspect the three lines of code that go with it:"
   ]
  },
  {
   "cell_type": "code",
   "execution_count": null,
   "id": "34eb7409",
   "metadata": {},
   "outputs": [],
   "source": [
    "accelerator.wait_for_everyone()\n",
    "unwrapped_model = accelerator.unwrap_model(model)\n",
    "unwrapped_model.save_pretrained(output_dir, save_function=accelerator.save)"
   ]
  },
  {
   "cell_type": "markdown",
   "id": "44ca35a8",
   "metadata": {},
   "source": [
    "The first line is self-explanatory: it tells all the processes to wait until everyone is at that stage before continuing. This is to make sure we have the same model in every process before saving. Then we grab the `unwrapped_model`, which is the base model we defined. The `accelerator.prepare()` method changes the model to work in distributed training, so it won't have the `save_pretrained()` method anymore; the `accelerator.unwrap_model()` method undoes that step. Lastly, we call `save_pretrained()` but tell that method to use `accelerator.save()` instead of `torch.save()`.\n",
    "\n",
    "Once this is done, you should have a model that produces results pretty similar to the one trained with the `Trainer`. You can check the model we trained using this code at [*huggingface-course/bert-finetuned-ner-accelerate*](https://huggingface.co/huggingface-course/bert-finetuned-ner-accelerate). And if you want to test out any tweaks to the training loop, you can directly implement them by editing the code shown above!\n",
    "\n",
    "### Using the fine-tuned model\n",
    "We've already shown you how you can use the model we fine-tuned on the Model Hub with the inference widget. To use it locally in a `pipeline`, you just have to specify the proper model identifier:"
   ]
  },
  {
   "cell_type": "code",
   "execution_count": null,
   "id": "53487377",
   "metadata": {},
   "outputs": [],
   "source": [
    "from transformers import pipeline\n",
    "# Replace this with your own checkpoint\n",
    "model_checkpoint = output_dir # local folder for model checkpoint\n",
    "token_classifier = pipeline(\"token-classification\", model=model_checkpoint, aggregation_strategy=\"simple\")\n",
    "token_classifier(\"My name is Sylvain and I work at Hugging Face in Brooklyn.\")"
   ]
  },
  {
   "cell_type": "markdown",
   "id": "6c64138d",
   "metadata": {},
   "source": [
    "Great! Our model is working as well as the default one for this pipeline!"
   ]
  },
  {
   "cell_type": "code",
   "execution_count": null,
   "id": "85a36b6e-3602-46b1-9807-4d70dd826872",
   "metadata": {},
   "outputs": [],
   "source": [
    "tokenized_datasets"
   ]
  },
  {
   "cell_type": "code",
   "execution_count": null,
   "id": "f48fdfab-21a4-4c47-ae12-7ca5e06b746b",
   "metadata": {},
   "outputs": [],
   "source": []
  }
 ],
 "metadata": {
  "kernelspec": {
   "display_name": "Python 3 (ipykernel)",
   "language": "python",
   "name": "python3"
  },
  "language_info": {
   "codemirror_mode": {
    "name": "ipython",
    "version": 3
   },
   "file_extension": ".py",
   "mimetype": "text/x-python",
   "name": "python",
   "nbconvert_exporter": "python",
   "pygments_lexer": "ipython3",
   "version": "3.10.12"
  }
 },
 "nbformat": 4,
 "nbformat_minor": 5
}
