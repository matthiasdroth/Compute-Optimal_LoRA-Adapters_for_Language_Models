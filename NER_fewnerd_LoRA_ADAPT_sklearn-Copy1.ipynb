{
 "cells": [
  {
   "cell_type": "markdown",
   "id": "3f55bab0",
   "metadata": {},
   "source": [
    "- *It works!*\n",
    "- DONE: use `max_batchsize` from `utils`\n",
    "- DONE: make **dedicated notebook** to (i) compare `conll2003` to `fewnerd` and (ii) to bring `fewnerd` into the same format.\n",
    "- DONE: use fewnerd\n",
    "- DONE: get total flops count with **einops**\n",
    "- DONE: make custom splits\n",
    "- DONE: reorder the notebook cells:\n",
    "  - DONE: model (LoRA) and tokenizer (save peftconfig if necessary)\n",
    "  - DONE: dataset etc\n",
    "  - DONE: training, metrics and saving (tokenizer and model)\n",
    "  - DONE: inference via loading saved items (probably tokenizer, model and peftconfig – OR follow this [guide](https://huggingface.co/docs/peft/v0.9.0/en/package_reference/lora#peft.LoraModel))\n",
    "- DONE: In **Using the fine-tuned model**, [merge and unload](https://huggingface.co/docs/peft/v0.6.2/en/package_reference/tuners#peft.LoraModel.merge_and_unload) or [reinstantiate](https://huggingface.co/docs/peft/v0.6.2/en/task_guides/token-classification-lora#inference) the LoRA model!\n",
    "- DONE: adjust batch size – and if necessary epochs – for 3000 training steps `num_steps = train_instances*epochs/batch_size` $\\geq$ 3000 $\\Rightarrow$ `batch_size` $\\leq$ `train_instances*epochs/3000 = train_instances/1000` $\\Rightarrow$ `batch_size` $\\leq$ `train_instances / 1000` for `epochs = 3`<br>DONE: But do it like this:\n",
    "  - DONE: get max batch size for model (= max_batchsize_by_model)\n",
    "  - DONE: specify trainig split\n",
    "  - DONE: get max batch size for training split length (=max_batchsize_by_trainsplit)\n",
    "  - DONE: impose max batch size of 32\n",
    "  - DONE: the batch size is the minimum of these three numbers\n",
    "- DONE: build `results.json` (consider pandas series) via dict. It holds: splits, specified loraconfig details, flops, metrics (per epoch)\n",
    "- DONE: use the uuid library to save `results.json` under `results_{uuid}.json`\n",
    "- DONE: declare variable `split` and use it to select splits as well as for logging it in `results_{uuid}.json`.\n",
    "- DONE: use split `dev` and determine the learning rate for LoRA models. It seems that with `accelerate`, the maximum accepted learning rate is `5e-4` since fails for higher learning rates.\n",
    "- DONE: outside the training loop make a dummy classification report using scikit-learn with dummy labels and dummy predictions (both formatted as required by classification report)\n",
    "- DONE: at the end of each epoch, bring the labels and predictions into the required format\n",
    "- DONE: write a compute metrics function that returns a [classification report](https://scikit-learn.org/stable/modules/generated/sklearn.metrics.classification_report.html#sklearn.metrics.classification_report) as dict, then log the relevant values\n",
    "- DONE: drop the `uuid` from the `logs_dict` filename as it only adds ambiguity about what file to look at.\n",
    "- DONE: Use both `macro` and `weighted` metrics.\n",
    "- DONE: Specify `output_dir` with `spec` (e.g. `ner_logs/fb-roberta/{spec}`) for saving `logs_dict.json` and `confusion_matrix.png`:\n",
    "  - DONE: pattern: `task/model/spec/*files_with_vanilla_names*`\n",
    "  - DONE: example: `ner_logs/FacebookAI-roberta-large/split=dev__r=64__bias=lora_only__loradroput=0point2/logs_dict.json`\n",
    "- DONE: Add confusion matrix\n",
    "  - DONE: save percentage version\n",
    "  - DONE: save vanilla version\n",
    "- DONE: Save `logs_dict.json` and `confusion_matrix.png`.\n",
    "- DONE: keep original ner labels (IOB2 would result in 2*n-1 labels instead of n labels – but due to sparse labels, the dataset is already difficult enough)\n",
    "- DONE: filter out long instances with 80 words or more $\\Rightarrow$ remove 0.3384% of training instances (negligible).\n",
    "- Drop accelerate and use basic torch loop as in `roberta-base-ner_LoRA_cells.ipynb` (make a copy of that other notebook and adapt it to this one.\n",
    "- Pick a not too long instance from `fewnerd_all_processed` and show token - label pairs (as for inference).\n",
    "- Handle and log both `roberta-large` and `roberta-base` (adapt `batch_size_dict`).\n",
    "- Check once more the wandb [ablation study](https://wandb.ai/ayush-thakur/dl-question-bank/reports/What-s-the-Optimal-Batch-Size-to-Train-a-Neural-Network---VmlldzoyMDkyNDU) on batch sizes!\n",
    "- check everything once more\n",
    "- add comments\n",
    "- make new notebook copy for sweep\n",
    "\n",
    "# NER with `fewnerd` and LoRA"
   ]
  },
  {
   "cell_type": "code",
   "execution_count": 1,
   "id": "4b4b5296-cb60-4875-a7f3-96e2c0c03fa6",
   "metadata": {},
   "outputs": [
    {
     "name": "stdout",
     "output_type": "stream",
     "text": [
      "[2024-03-22 20:04:19,304] [INFO] [real_accelerator.py:191:get_accelerator] Setting ds_accelerator to cuda (auto detect)\n",
      "Token will not been saved to git credential helper. Pass `add_to_git_credential=True` if you want to set the git credential as well.\n",
      "Token is valid (permission: read).\n",
      "Your token has been saved to /home/matthias/.cache/huggingface/token\n",
      "Login successful\n",
      "All random seeds set to 42.\n"
     ]
    }
   ],
   "source": [
    "import os\n",
    "import re\n",
    "import json\n",
    "import time\n",
    "import torch\n",
    "import datetime\n",
    "import itertools\n",
    "import numpy as np\n",
    "\n",
    "from peft import LoraConfig, TaskType, PeftModel, PeftConfig, get_peft_model, prepare_model_for_kbit_training\n",
    "from utils import set_seed, make_confusion_matrix\n",
    "from dotenv import load_dotenv\n",
    "from datasets import load_dataset, concatenate_datasets, DatasetDict\n",
    "from evaluate import load\n",
    "from tqdm.auto import tqdm\n",
    "from accelerate import Accelerator\n",
    "from torch.optim import AdamW\n",
    "from transformers import get_scheduler, pipeline, AutoTokenizer, AutoModelForTokenClassification, DataCollatorForTokenClassification\n",
    "from huggingface_hub import login\n",
    "from sklearn.metrics import classification_report\n",
    "from torch.utils.data import DataLoader\n",
    "from deepspeed.profiling.flops_profiler import FlopsProfiler\n",
    "\n",
    "load_dotenv()\n",
    "login(token=os.getenv(\"HUGGINGFACE_API_KEY\"))\n",
    "logs_dict = {}\n",
    "logs_dict[\"seed\"] = set_seed(42)"
   ]
  },
  {
   "cell_type": "markdown",
   "id": "0f9864ca-1c11-44bd-8bf5-b1db6cb243d5",
   "metadata": {},
   "source": [
    "## Model"
   ]
  },
  {
   "cell_type": "code",
   "execution_count": 2,
   "id": "4b5fe577-f14f-4f86-a4a8-c2b85662178c",
   "metadata": {},
   "outputs": [
    {
     "name": "stdout",
     "output_type": "stream",
     "text": [
      "['O', 'art', 'building', 'event', 'location', 'organization', 'other', 'person', 'product']\n"
     ]
    },
    {
     "data": {
      "text/plain": [
       "({'0': 'O',\n",
       "  '1': 'art',\n",
       "  '2': 'building',\n",
       "  '3': 'event',\n",
       "  '4': 'location',\n",
       "  '5': 'organization',\n",
       "  '6': 'other',\n",
       "  '7': 'person',\n",
       "  '8': 'product'},\n",
       " {'O': '0',\n",
       "  'art': '1',\n",
       "  'building': '2',\n",
       "  'event': '3',\n",
       "  'location': '4',\n",
       "  'organization': '5',\n",
       "  'other': '6',\n",
       "  'person': '7',\n",
       "  'product': '8'})"
      ]
     },
     "execution_count": 2,
     "metadata": {},
     "output_type": "execute_result"
    }
   ],
   "source": [
    "raw_datasets = load_dataset(\"DFKI-SLT/few-nerd\", \"supervised\")\n",
    "ner_feature = raw_datasets[\"train\"].features[\"ner_tags\"]\n",
    "label_names = ner_feature.feature.names\n",
    "print(label_names)\n",
    "id2label = {str(i): label for i, label in enumerate(label_names)}\n",
    "label2id = {v: k for k, v in id2label.items()}\n",
    "id2label, label2id"
   ]
  },
  {
   "cell_type": "code",
   "execution_count": 3,
   "id": "091ef51a-7595-4d88-b57d-5d5a636f4ce0",
   "metadata": {},
   "outputs": [
    {
     "name": "stderr",
     "output_type": "stream",
     "text": [
      "Some weights of RobertaForTokenClassification were not initialized from the model checkpoint at FacebookAI/roberta-base and are newly initialized: ['classifier.weight', 'classifier.bias']\n",
      "You should probably TRAIN this model on a down-stream task to be able to use it for predictions and inference.\n"
     ]
    },
    {
     "name": "stdout",
     "output_type": "stream",
     "text": [
      "LoRA config:\n",
      "LoraConfig(peft_type=<PeftType.LORA: 'LORA'>, auto_mapping=None, base_model_name_or_path=None, revision=None, task_type=<TaskType.TOKEN_CLS: 'TOKEN_CLS'>, inference_mode=False, r=512, target_modules={'query', 'value_proj', 'query_proj', 'key_proj', 'key', 'value'}, lora_alpha=8, lora_dropout=0.2, fan_in_fan_out=False, bias='all', use_rslora=True, modules_to_save=None, init_lora_weights=True, layers_to_transform=None, layers_pattern=None, rank_pattern={}, alpha_pattern={}, megatron_config=None, megatron_core='megatron.core', loftq_config={})\n",
      "\n",
      "base_model type:\n",
      "<class 'peft.peft_model.PeftModelForTokenClassification'>\n",
      "\n",
      "adapter_model type:\n",
      "<class 'peft.peft_model.PeftModelForTokenClassification'>\n",
      "\n",
      "trainable parameters:\n",
      "28420617\n",
      "\n",
      "all parameters:\n",
      "152380434\n",
      "\n",
      "trainable fraction:\n",
      "0.18651\n"
     ]
    }
   ],
   "source": [
    "model_version = \"base\" # \"base\" or \"large\"\n",
    "model_id = f\"FacebookAI/roberta-{model_version}\" # \"FacebookAI/roberta-base\" or \"FacebookAI/roberta-large\"\n",
    "logs_dict[\"model_id\"] = model_id\n",
    "model = AutoModelForTokenClassification.from_pretrained(\n",
    "    model_id,\n",
    "    id2label=id2label,\n",
    "    label2id=label2id,\n",
    "    device_map=\"auto\",\n",
    "    load_in_8bit=True\n",
    ")\n",
    "# LoRA model\n",
    "# datasets:      3 values [1%, 10%, 100%]\n",
    "# lora_rank:    10 values [1, ..., 512]\n",
    "# lora_dropout:  5 values [0, 0.1, 0.2, 0.3, 0.4]\n",
    "# lora_bias:     3 values [\"all\", \"none\", \"lora_only\"]\n",
    "# => 3 x 10 x 5 x 3 = 450 sweeps per notebook (of which 45 have rank 512 and thus take 45*3.75h=168.75 > 168h=7*24h => a bit over two weeks\n",
    "# => start with 2 dataset values (10%, 100%) and 3 rank values (2, 8, 32) => 6 sweeps\n",
    "LoRA_params_dict = {\n",
    "    \"r\": 512,\n",
    "    \"target_modules\": [\"query\", \"key\", \"value\", \"query_proj\", \"key_proj\", \"value_proj\"],\n",
    "    \"bias\": \"all\",\n",
    "    \"use_rslora\": True,\n",
    "    \"task_type\": TaskType.TOKEN_CLS,\n",
    "    \"lora_dropout\": 0.2\n",
    "}\n",
    "logs_dict[\"LoRA_params_dict\"] = LoRA_params_dict\n",
    "# r =   1 => (  156681, 354476050, 0.00044)\n",
    "# r =   2 => (  304137, 354623506, 0.00086)\n",
    "# r =   4 => (  599049, 354918418, 0.00169)\n",
    "# r =   8 => ( 1188873, 355508242, 0.00334)\n",
    "# r =  16 => ( 2368521, 356687890, 0.00664)\n",
    "# r =  32 => ( 4727817, 359047186, 0.01317)\n",
    "# r =  64 => ( 9446409, 363765778, 0.02597)\n",
    "# r = 128 => (18883593, 373202962, 0.0506)\n",
    "# r = 256 => (37757961, 392077330, 0.0963)\n",
    "# r = 512 => (75506697, 429826066, 0.17567)\n",
    "config = LoraConfig(\n",
    "    # GUIDE   => https://huggingface.co/docs/peft/main/en/conceptual_guides/lora#common-lora-parameters-in-peft\n",
    "    # https://huggingface.co/docs/peft/main/en/conceptual_guides/lora#common-lora-parameters-in-peft:~:text=use_rslora%3A%20When%20set%20to%20True%2C%20uses%20Rank%2DStabilized%20LoRA%20which%20sets%20the%20adapter%20scaling%20factor\n",
    "    # https://arxiv.org/abs/2312.03732, \n",
    "    r = LoRA_params_dict[\"r\"],\n",
    "    target_modules=LoRA_params_dict[\"target_modules\"],\n",
    "    bias=LoRA_params_dict[\"bias\"],\n",
    "    use_rslora=LoRA_params_dict[\"use_rslora\"],\n",
    "    task_type=LoRA_params_dict[\"task_type\"],\n",
    "    lora_dropout=LoRA_params_dict[\"lora_dropout\"]\n",
    ")\n",
    "logs_dict[\"LoraConfig\"] = str(config)\n",
    "print(f\"LoRA config:\\n{config}\\n\")\n",
    "model = prepare_model_for_kbit_training(model)\n",
    "model = get_peft_model(model, config)\n",
    "print(f\"base_model type:\\n{type(model)}\")\n",
    "print(f\"\\nadapter_model type:\\n{type(model)}\")\n",
    "trainable_params, all_params = model.get_nb_trainable_parameters()\n",
    "trainable_fraction = round(trainable_params/all_params, 5)\n",
    "logs_dict[\"LoRA_model_trainable_params\"] = trainable_params\n",
    "logs_dict[\"LoRA_model_all_params\"] = all_params\n",
    "logs_dict[\"LoRA_model_trainable_fraction\"] = trainable_fraction\n",
    "print(f\"\\ntrainable parameters:\\n{trainable_params}\")\n",
    "print(f\"\\nall parameters:\\n{all_params}\")\n",
    "print(f\"\\ntrainable fraction:\\n{trainable_fraction}\")"
   ]
  },
  {
   "cell_type": "code",
   "execution_count": 4,
   "id": "330cc610-6a56-4631-b226-df0419ac07f0",
   "metadata": {},
   "outputs": [
    {
     "name": "stdout",
     "output_type": "stream",
     "text": [
      "tokenizer is fast: True\n"
     ]
    },
    {
     "data": {
      "text/plain": [
       "RobertaTokenizerFast(name_or_path='FacebookAI/roberta-base', vocab_size=50265, model_max_length=512, is_fast=True, padding_side='right', truncation_side='right', special_tokens={'bos_token': '<s>', 'eos_token': '</s>', 'unk_token': '<unk>', 'sep_token': '</s>', 'pad_token': '<pad>', 'cls_token': '<s>', 'mask_token': '<mask>'}, clean_up_tokenization_spaces=True),  added_tokens_decoder={\n",
       "\t0: AddedToken(\"<s>\", rstrip=False, lstrip=False, single_word=False, normalized=True, special=True),\n",
       "\t1: AddedToken(\"<pad>\", rstrip=False, lstrip=False, single_word=False, normalized=True, special=True),\n",
       "\t2: AddedToken(\"</s>\", rstrip=False, lstrip=False, single_word=False, normalized=True, special=True),\n",
       "\t3: AddedToken(\"<unk>\", rstrip=False, lstrip=False, single_word=False, normalized=True, special=True),\n",
       "\t50264: AddedToken(\"<mask>\", rstrip=False, lstrip=True, single_word=False, normalized=False, special=True),\n",
       "}"
      ]
     },
     "execution_count": 4,
     "metadata": {},
     "output_type": "execute_result"
    }
   ],
   "source": [
    "tokenizer = AutoTokenizer.from_pretrained(model_id, add_prefix_space=True)\n",
    "logs_dict[\"tokenizer\"] = model_id\n",
    "print(f\"tokenizer is fast: {tokenizer.is_fast}\")\n",
    "tokenizer"
   ]
  },
  {
   "cell_type": "markdown",
   "id": "f8461807-8ab1-4253-ac37-c335c9423fa7",
   "metadata": {},
   "source": [
    "## Dataset"
   ]
  },
  {
   "cell_type": "code",
   "execution_count": 5,
   "id": "7ad64867-2e55-45ce-b7eb-4cc521a02074",
   "metadata": {},
   "outputs": [
    {
     "data": {
      "text/plain": [
       "DatasetDict({\n",
       "    train: Dataset({\n",
       "        features: ['id', 'tokens', 'ner_tags', 'fine_ner_tags'],\n",
       "        num_rows: 131767\n",
       "    })\n",
       "    validation: Dataset({\n",
       "        features: ['id', 'tokens', 'ner_tags', 'fine_ner_tags'],\n",
       "        num_rows: 18824\n",
       "    })\n",
       "    test: Dataset({\n",
       "        features: ['id', 'tokens', 'ner_tags', 'fine_ner_tags'],\n",
       "        num_rows: 37648\n",
       "    })\n",
       "})"
      ]
     },
     "execution_count": 5,
     "metadata": {},
     "output_type": "execute_result"
    }
   ],
   "source": [
    "raw_datasets = load_dataset(\"DFKI-SLT/few-nerd\", \"supervised\")\n",
    "raw_datasets"
   ]
  },
  {
   "cell_type": "code",
   "execution_count": 6,
   "id": "9221b549-f8f4-4ed6-9ac2-98d9429614d0",
   "metadata": {},
   "outputs": [
    {
     "data": {
      "text/plain": [
       "Dataset({\n",
       "    features: ['input_ids', 'attention_mask', 'labels'],\n",
       "    num_rows: 141195\n",
       "})"
      ]
     },
     "execution_count": 6,
     "metadata": {},
     "output_type": "execute_result"
    }
   ],
   "source": [
    "def align_labels_with_tokens(labels, word_ids):\n",
    "    new_labels = []\n",
    "    current_word = None\n",
    "    for word_id in word_ids:\n",
    "        if word_id != current_word:\n",
    "            # Start of a new word!\n",
    "            current_word = word_id\n",
    "            label = -100 if word_id is None else labels[word_id]\n",
    "            new_labels.append(label)\n",
    "        elif word_id is None:\n",
    "            # Special token\n",
    "            new_labels.append(-100)\n",
    "        else:\n",
    "            # Same word as previous token\n",
    "            label = labels[word_id]\n",
    "            # If the label is B-XXX we change it to I-XXX\n",
    "            if label % 2 == 1:\n",
    "                label += 1\n",
    "            new_labels.append(label)\n",
    "    return new_labels\n",
    "\n",
    "def tokenize_and_align_labels(examples):\n",
    "    tokenized_inputs = tokenizer(examples[\"tokens\"], truncation=True, is_split_into_words=True)\n",
    "    all_labels = examples[\"ner_tags\"]\n",
    "    new_labels = []\n",
    "    for i, labels in enumerate(all_labels):\n",
    "        word_ids = tokenized_inputs.word_ids(i)\n",
    "        new_labels.append(align_labels_with_tokens(labels, word_ids))\n",
    "    tokenized_inputs[\"labels\"] = new_labels\n",
    "    return tokenized_inputs\n",
    "\n",
    "fewnerd_all_processed = (\n",
    "    concatenate_datasets([raw_datasets[\"train\"], raw_datasets[\"validation\"], raw_datasets[\"test\"]])\n",
    "    # pre-tokenization, the \"tokens\" column contains words (not tokens)\n",
    "    .filter(lambda example: len(example[\"tokens\"])<=30) # 80 (roberta-large) => from 188239 to 187602 (637 instances or 0.3384% removed)\n",
    "    .map(                                               # 50 (roberta-base) => from 188239 to 181338 (...)\n",
    "        tokenize_and_align_labels,                      # 30 (roberta-base) => from 188239 to 141195 (...)\n",
    "        batched=True,\n",
    "        remove_columns=raw_datasets[\"train\"].column_names\n",
    "    )\n",
    ")\n",
    "fewnerd_all_processed"
   ]
  },
  {
   "cell_type": "code",
   "execution_count": 7,
   "id": "cecc64b1-a3bf-4e22-9ac6-8718e78998d4",
   "metadata": {},
   "outputs": [
    {
     "data": {
      "text/plain": [
       "DatasetDict({\n",
       "    train_100: Dataset({\n",
       "        features: ['input_ids', 'attention_mask', 'labels'],\n",
       "        num_rows: 102012\n",
       "    })\n",
       "    train_10: Dataset({\n",
       "        features: ['input_ids', 'attention_mask', 'labels'],\n",
       "        num_rows: 10202\n",
       "    })\n",
       "    train_1: Dataset({\n",
       "        features: ['input_ids', 'attention_mask', 'labels'],\n",
       "        num_rows: 1021\n",
       "    })\n",
       "    valid_100: Dataset({\n",
       "        features: ['input_ids', 'attention_mask', 'labels'],\n",
       "        num_rows: 18003\n",
       "    })\n",
       "    valid_10: Dataset({\n",
       "        features: ['input_ids', 'attention_mask', 'labels'],\n",
       "        num_rows: 1801\n",
       "    })\n",
       "    valid_1: Dataset({\n",
       "        features: ['input_ids', 'attention_mask', 'labels'],\n",
       "        num_rows: 181\n",
       "    })\n",
       "    test_100: Dataset({\n",
       "        features: ['input_ids', 'attention_mask', 'labels'],\n",
       "        num_rows: 21180\n",
       "    })\n",
       "    test_10: Dataset({\n",
       "        features: ['input_ids', 'attention_mask', 'labels'],\n",
       "        num_rows: 2118\n",
       "    })\n",
       "    test_1: Dataset({\n",
       "        features: ['input_ids', 'attention_mask', 'labels'],\n",
       "        num_rows: 212\n",
       "    })\n",
       "    train_dev: Dataset({\n",
       "        features: ['input_ids', 'attention_mask', 'labels'],\n",
       "        num_rows: 120\n",
       "    })\n",
       "    valid_dev: Dataset({\n",
       "        features: ['input_ids', 'attention_mask', 'labels'],\n",
       "        num_rows: 32\n",
       "    })\n",
       "    test_dev: Dataset({\n",
       "        features: ['input_ids', 'attention_mask', 'labels'],\n",
       "        num_rows: 8\n",
       "    })\n",
       "})"
      ]
     },
     "execution_count": 7,
     "metadata": {},
     "output_type": "execute_result"
    }
   ],
   "source": [
    "# filter dataset by length if necessary\n",
    "trainvalid_test_splits = fewnerd_all_processed.train_test_split(test_size=0.15)\n",
    "test_split_100 = trainvalid_test_splits[\"test\"]\n",
    "test_split_10 = test_split_100.train_test_split(test_size = 0.1)[\"test\"]\n",
    "test_split_1 = test_split_100.train_test_split(test_size = 0.01)[\"test\"]\n",
    "trainvalid_split = trainvalid_test_splits[\"train\"]\n",
    "train_valid_split = trainvalid_split.train_test_split(test_size=0.15)\n",
    "valid_split_100 = train_valid_split[\"test\"]\n",
    "valid_split_10 = valid_split_100.train_test_split(test_size = 0.1)[\"test\"]\n",
    "valid_split_1 = valid_split_100.train_test_split(test_size = 0.01)[\"test\"]\n",
    "train_split_100 = train_valid_split[\"train\"]\n",
    "train_split_10 = train_split_100.train_test_split(test_size = 0.1)[\"test\"]\n",
    "train_split_1 = train_split_100.train_test_split(test_size = 0.01)[\"test\"]\n",
    "dev_train_split = train_split_100.train_test_split(test_size = 120)[\"test\"]\n",
    "dev_valid_split = valid_split_100.train_test_split(test_size = 32)[\"test\"]\n",
    "dev_test_split = test_split_100.train_test_split(test_size = 8)[\"test\"]\n",
    "fewnerd_dsd = DatasetDict({\n",
    "    \"train_100\": train_split_100,\n",
    "    \"train_10\": train_split_10,\n",
    "    \"train_1\": train_split_1,\n",
    "    \"valid_100\": valid_split_100,\n",
    "    \"valid_10\": valid_split_10,\n",
    "    \"valid_1\": valid_split_1,\n",
    "    \"test_100\": test_split_100,\n",
    "    \"test_10\": test_split_10,\n",
    "    \"test_1\": test_split_1,\n",
    "    \"train_dev\": dev_train_split,\n",
    "    \"valid_dev\": dev_valid_split,\n",
    "    \"test_dev\": dev_test_split\n",
    "})\n",
    "fewnerd_dsd"
   ]
  },
  {
   "cell_type": "code",
   "execution_count": 8,
   "id": "847fc32c-5cb0-44d3-b6d9-45f5f2202a32",
   "metadata": {},
   "outputs": [
    {
     "data": {
      "text/plain": [
       "('train_dev', 'valid_dev', 'test_dev')"
      ]
     },
     "execution_count": 8,
     "metadata": {},
     "output_type": "execute_result"
    }
   ],
   "source": [
    "split = \"dev\" # \"100\", \"10\", \"1\", \"dev\"\n",
    "assert split in (\"100\", \"10\", \"1\", \"dev\"), f\"Split '{split}' is not a valid choice.\"\n",
    "train_split = f\"train_{split}\"\n",
    "valid_split = f\"valid_{split}\"\n",
    "test_split = f\"test_{split}\"\n",
    "train_split, valid_split, test_split"
   ]
  },
  {
   "cell_type": "code",
   "execution_count": 9,
   "id": "133a9afe-f509-4f83-927b-2f1974a428f5",
   "metadata": {},
   "outputs": [
    {
     "data": {
      "text/plain": [
       "'ner_logs/FacebookAI-roberta-base/split=dev__r=512__bias=all__loradroput=0point2'"
      ]
     },
     "execution_count": 9,
     "metadata": {},
     "output_type": "execute_result"
    }
   ],
   "source": [
    "spec = f\"split={split}\"\n",
    "spec += f\"__r={LoRA_params_dict['r']}\"\n",
    "spec += f\"__bias={LoRA_params_dict['bias']}\"\n",
    "spec += f\"__loradroput=0point{str(LoRA_params_dict['lora_dropout'])[2:]}\"\n",
    "model_folder = re.sub(\"/\", \"-\", model_id)\n",
    "output_dir = f\"ner_logs/{model_folder}/{spec}\"\n",
    "output_dir"
   ]
  },
  {
   "cell_type": "markdown",
   "id": "96ce12c9-fad5-4c94-af66-d77aade82d78",
   "metadata": {},
   "source": [
    "## Training"
   ]
  },
  {
   "cell_type": "code",
   "execution_count": 10,
   "id": "8b954012-9bee-4710-85ae-4c81582f5644",
   "metadata": {},
   "outputs": [
    {
     "data": {
      "text/plain": [
       "1"
      ]
     },
     "execution_count": 10,
     "metadata": {},
     "output_type": "execute_result"
    }
   ],
   "source": [
    "batchsize_dict = {\n",
    "    # values have been found manually via trial and error\n",
    "    # batch size rules: (i) as large as possible, (ii) 1000 steps per epoch, (iii) 32 max\n",
    "    \"base\": {\n",
    "        \"100\": 1,\n",
    "        \"10\": 1,\n",
    "        \"1\": 1,\n",
    "        \"dev\": 1\n",
    "    },\n",
    "    \"large\": {\n",
    "        \"100\": 32, # OK: 32, max: 128\n",
    "        \"10\": 8,\n",
    "        \"1\": 1,\n",
    "        \"dev\": 1\n",
    "    }\n",
    "}\n",
    "batch_size = batchsize_dict[model_version][split]\n",
    "batch_size"
   ]
  },
  {
   "cell_type": "code",
   "execution_count": 11,
   "id": "608c18ab-8a49-468d-9975-04bc6f0630a8",
   "metadata": {},
   "outputs": [
    {
     "data": {
      "text/plain": [
       "DataCollatorForTokenClassification(tokenizer=RobertaTokenizerFast(name_or_path='FacebookAI/roberta-base', vocab_size=50265, model_max_length=512, is_fast=True, padding_side='right', truncation_side='right', special_tokens={'bos_token': '<s>', 'eos_token': '</s>', 'unk_token': '<unk>', 'sep_token': '</s>', 'pad_token': '<pad>', 'cls_token': '<s>', 'mask_token': '<mask>'}, clean_up_tokenization_spaces=True),  added_tokens_decoder={\n",
       "\t0: AddedToken(\"<s>\", rstrip=False, lstrip=False, single_word=False, normalized=True, special=True),\n",
       "\t1: AddedToken(\"<pad>\", rstrip=False, lstrip=False, single_word=False, normalized=True, special=True),\n",
       "\t2: AddedToken(\"</s>\", rstrip=False, lstrip=False, single_word=False, normalized=True, special=True),\n",
       "\t3: AddedToken(\"<unk>\", rstrip=False, lstrip=False, single_word=False, normalized=True, special=True),\n",
       "\t50264: AddedToken(\"<mask>\", rstrip=False, lstrip=True, single_word=False, normalized=False, special=True),\n",
       "}, padding=True, max_length=None, pad_to_multiple_of=None, label_pad_token_id=-100, return_tensors='pt')"
      ]
     },
     "execution_count": 11,
     "metadata": {},
     "output_type": "execute_result"
    }
   ],
   "source": [
    "data_collator = DataCollatorForTokenClassification(tokenizer=tokenizer)\n",
    "data_collator"
   ]
  },
  {
   "cell_type": "code",
   "execution_count": 12,
   "id": "bd71e709",
   "metadata": {},
   "outputs": [
    {
     "name": "stderr",
     "output_type": "stream",
     "text": [
      "You're using a RobertaTokenizerFast tokenizer. Please note that with a fast tokenizer, using the `__call__` method is faster than using a method to encode the text followed by a call to the `pad` method to get a padded encoding.\n"
     ]
    },
    {
     "data": {
      "text/plain": [
       "tensor([[-100,    0,    7,    8,    8,    7,    8,    7,    8,    8,    0,    0,\n",
       "            0,    0,    0,    7,    7,    8,    7,    7,    8,    8,    8,    0,\n",
       "            0,    0,    0,    0,    0,    0,    0,    0,    0,    0,    0,    0,\n",
       "            0,    0, -100],\n",
       "        [-100,    0,    0,    0,    0,    0,    7,    0,    0,    0,    0,    4,\n",
       "            0,    4,    0,    0,    4,    4,    0,    4,    0,    0,    4,    4,\n",
       "            4,    0,    4,    0, -100, -100, -100, -100, -100, -100, -100, -100,\n",
       "         -100, -100, -100]])"
      ]
     },
     "execution_count": 12,
     "metadata": {},
     "output_type": "execute_result"
    }
   ],
   "source": [
    "batch = data_collator([fewnerd_dsd[train_split][i] for i in [2, 3]])\n",
    "batch[\"labels\"] # As we can see, the second set of labels has been padded to the length of the first one using -100s."
   ]
  },
  {
   "cell_type": "code",
   "execution_count": 13,
   "id": "4b560aba",
   "metadata": {},
   "outputs": [
    {
     "data": {
      "text/plain": [
       "(<torch.utils.data.dataloader.DataLoader at 0x7fd5bc18ae60>,\n",
       " <torch.utils.data.dataloader.DataLoader at 0x7fd5bc18b700>)"
      ]
     },
     "execution_count": 13,
     "metadata": {},
     "output_type": "execute_result"
    }
   ],
   "source": [
    "train_dataloader = DataLoader(\n",
    "    fewnerd_dsd[train_split],\n",
    "    shuffle=True,\n",
    "    collate_fn=data_collator,\n",
    "    batch_size=batch_size\n",
    ")\n",
    "valid_dataloader = DataLoader(fewnerd_dsd[valid_split], collate_fn=data_collator, batch_size=batch_size)\n",
    "train_dataloader, valid_dataloader"
   ]
  },
  {
   "cell_type": "code",
   "execution_count": 14,
   "id": "897170de",
   "metadata": {},
   "outputs": [
    {
     "name": "stdout",
     "output_type": "stream",
     "text": [
      "training_steps (all epochs):\t360\n",
      "num_warmup_steps (first epoch):\t18\n"
     ]
    }
   ],
   "source": [
    "optimizer = AdamW(model.parameters(), lr=5e-4) # 5e-4 works\n",
    "accelerator = Accelerator()\n",
    "model, optimizer, train_dataloader, valid_dataloader = accelerator.prepare(\n",
    "    model,\n",
    "    optimizer,\n",
    "    train_dataloader,\n",
    "    valid_dataloader\n",
    ")\n",
    "num_train_epochs = 3\n",
    "num_update_steps_per_epoch = len(train_dataloader)\n",
    "num_training_steps = num_train_epochs * num_update_steps_per_epoch\n",
    "logs_dict[\"num_training_steps\"] = num_training_steps\n",
    "num_warmup_steps = min(500, round(0.15 * num_update_steps_per_epoch)) # 500 or 15% of one epoch, whichever is less\n",
    "logs_dict[\"num_warmup_steps\"] = num_warmup_steps\n",
    "lr_scheduler = get_scheduler(\n",
    "    \"cosine\",\n",
    "    optimizer=optimizer,\n",
    "    num_warmup_steps=num_warmup_steps,\n",
    "    num_training_steps=num_training_steps\n",
    ")\n",
    "print(f\"training_steps (all epochs):\\t{num_training_steps}\\nnum_warmup_steps (first epoch):\\t{num_warmup_steps}\")"
   ]
  },
  {
   "cell_type": "code",
   "execution_count": 15,
   "id": "fe65a0c8",
   "metadata": {},
   "outputs": [
    {
     "data": {
      "application/vnd.jupyter.widget-view+json": {
       "model_id": "ed01c31b88364ae5af13110d6d54882e",
       "version_major": 2,
       "version_minor": 0
      },
      "text/plain": [
       "  0%|          | 0/360 [00:00<?, ?it/s]"
      ]
     },
     "metadata": {},
     "output_type": "display_data"
    },
    {
     "name": "stdout",
     "output_type": "stream",
     "text": [
      "[2024-03-22 20:04:27,290] [INFO] [profiler.py:80:start_profile] Flops profiler started\n"
     ]
    },
    {
     "name": "stderr",
     "output_type": "stream",
     "text": [
      "/home/matthias/.local/lib/python3.10/site-packages/torch/utils/checkpoint.py:429: UserWarning: torch.utils.checkpoint: please pass in use_reentrant=True or use_reentrant=False explicitly. The default value of use_reentrant will be updated to be False in the future. To maintain current behavior, pass use_reentrant=True. It is recommended that you use use_reentrant=False. Refer to docs for more details on the differences between the two variants.\n",
      "  warnings.warn(\n",
      "/home/matthias/.local/lib/python3.10/site-packages/bitsandbytes/autograd/_functions.py:322: UserWarning: MatMul8bitLt: inputs will be cast from torch.float32 to float16 during quantization\n",
      "  warnings.warn(f\"MatMul8bitLt: inputs will be cast from {A.dtype} to float16 during quantization\")\n"
     ]
    },
    {
     "name": "stdout",
     "output_type": "stream",
     "text": [
      "\n",
      "training\n",
      "['input_ids shape: [1, 35]', 'attention_mask shape: [1, 35]', 'labels shape: [1, 35]']\n",
      "logits shape: [1, 35, 9], loss: 2.0774192810058594\n",
      "\n",
      "optimizer step:\tNone\n",
      "learning rate step:\tNone\n",
      "validation\n",
      "['input_ids shape: [1, 33]', 'attention_mask shape: [1, 33]', 'labels shape: [1, 33]']\n",
      "logits shape: [1, 33, 9], loss: 1.3649256229400635\n",
      "\n",
      "\n",
      "epoch 0\n",
      "metrics_macro\n",
      "['accuracy: 0.6836879432624113', 'precision: 0.07596532702915682', 'recall: 0.1111111111111111', 'f1-score: 0.09023682486193017', 'support: 705']\n",
      "metrics_weighted\n",
      "['accuracy: 0.6836879432624113', 'precision: 0.4674292037623862', 'recall: 0.6836879432624113', 'f1-score: 0.5552444627674512', 'support: 705']\n",
      "[2024-03-22 20:04:55,239] [INFO] [profiler.py:80:start_profile] Flops profiler started\n"
     ]
    },
    {
     "name": "stderr",
     "output_type": "stream",
     "text": [
      "/home/matthias/.local/lib/python3.10/site-packages/torch/utils/checkpoint.py:429: UserWarning: torch.utils.checkpoint: please pass in use_reentrant=True or use_reentrant=False explicitly. The default value of use_reentrant will be updated to be False in the future. To maintain current behavior, pass use_reentrant=True. It is recommended that you use use_reentrant=False. Refer to docs for more details on the differences between the two variants.\n",
      "  warnings.warn(\n",
      "/home/matthias/.local/lib/python3.10/site-packages/bitsandbytes/autograd/_functions.py:322: UserWarning: MatMul8bitLt: inputs will be cast from torch.float32 to float16 during quantization\n",
      "  warnings.warn(f\"MatMul8bitLt: inputs will be cast from {A.dtype} to float16 during quantization\")\n"
     ]
    },
    {
     "name": "stdout",
     "output_type": "stream",
     "text": [
      "\n",
      "epoch 1\n",
      "metrics_macro\n",
      "['accuracy: 0.6836879432624113', 'precision: 0.07596532702915682', 'recall: 0.1111111111111111', 'f1-score: 0.09023682486193017', 'support: 705']\n",
      "metrics_weighted\n",
      "['accuracy: 0.6836879432624113', 'precision: 0.4674292037623862', 'recall: 0.6836879432624113', 'f1-score: 0.5552444627674512', 'support: 705']\n",
      "[2024-03-22 20:05:21,062] [INFO] [profiler.py:80:start_profile] Flops profiler started\n"
     ]
    },
    {
     "name": "stderr",
     "output_type": "stream",
     "text": [
      "/home/matthias/.local/lib/python3.10/site-packages/torch/utils/checkpoint.py:429: UserWarning: torch.utils.checkpoint: please pass in use_reentrant=True or use_reentrant=False explicitly. The default value of use_reentrant will be updated to be False in the future. To maintain current behavior, pass use_reentrant=True. It is recommended that you use use_reentrant=False. Refer to docs for more details on the differences between the two variants.\n",
      "  warnings.warn(\n",
      "/home/matthias/.local/lib/python3.10/site-packages/bitsandbytes/autograd/_functions.py:322: UserWarning: MatMul8bitLt: inputs will be cast from torch.float32 to float16 during quantization\n",
      "  warnings.warn(f\"MatMul8bitLt: inputs will be cast from {A.dtype} to float16 during quantization\")\n"
     ]
    },
    {
     "name": "stdout",
     "output_type": "stream",
     "text": [
      "\n",
      "epoch 2\n",
      "metrics_macro\n",
      "['accuracy: 0.6836879432624113', 'precision: 0.07596532702915682', 'recall: 0.1111111111111111', 'f1-score: 0.09023682486193017', 'support: 705']\n",
      "metrics_weighted\n",
      "['accuracy: 0.6836879432624113', 'precision: 0.4674292037623862', 'recall: 0.6836879432624113', 'f1-score: 0.5552444627674512', 'support: 705']\n",
      "training loop time: 0:01:20\n",
      "[2024-03-22 20:05:47,079] [INFO] [profiler.py:226:end_profile] Flops profiler finished\n",
      "[4096730400, 3718422528, 1145600640]\n"
     ]
    },
    {
     "data": {
      "text/plain": [
       "(8960753568, 2986917856.0)"
      ]
     },
     "execution_count": 15,
     "metadata": {},
     "output_type": "execute_result"
    }
   ],
   "source": [
    "def flatten_list_of_lists(list_of_lists):\n",
    "    flattened_list = []\n",
    "    for list_i in list_of_lists:\n",
    "        list_i = list_i.tolist() # handle tensors in case list_of_lists is a list of tensors\n",
    "        list_i = list(itertools.chain.from_iterable(list_i)) # flatten list_i using the standard library\n",
    "        flattened_list += list_i\n",
    "    return flattened_list\n",
    "\n",
    "def compute_metrics(y_true, y_pred, average_type):\n",
    "    metrics_dict = classification_report(y_true, y_pred, digits=6, output_dict=True, zero_division=0.0)\n",
    "    accuracy = metrics_dict[\"accuracy\"]\n",
    "    avg_dict = metrics_dict[average_type]\n",
    "    avg_dict[\"accuracy\"] = accuracy\n",
    "    # https://stackoverflow.com/questions/52139110/how-to-change-the-order-of-keys-in-a-python-3-5-dictionary-using-another-list-a\n",
    "    avg_dict_order = {k : avg_dict[k] for k in [\"accuracy\", \"precision\", \"recall\", \"f1-score\", \"support\"]}\n",
    "    avg_dict_order[\"support\"] = round(avg_dict_order[\"support\"])\n",
    "    metrics = [f\"{key}: {avg_dict_order[key]}\" for key in avg_dict_order.keys()]\n",
    "    return metrics\n",
    "\n",
    "prof = FlopsProfiler(model) # deepspeed profiler\n",
    "flops_list = []\n",
    "training_start = True\n",
    "validation_start = True\n",
    "progress_bar = tqdm(range(num_training_steps))\n",
    "start_time = time.time() # start time\n",
    "for epoch in range(num_train_epochs):\n",
    "    # Training\n",
    "    model.train()\n",
    "    prof.start_profile() # start profiling\n",
    "    for batch in train_dataloader:\n",
    "        outputs = model(**batch)\n",
    "        loss = outputs.loss\n",
    "        accelerator.backward(loss)\n",
    "        o_step = optimizer.step()\n",
    "        lr_step = lr_scheduler.step()\n",
    "        if training_start:\n",
    "            print(\"\\ntraining\")\n",
    "            print([f\"{key} shape: {list(batch[key].shape)}\" for key in list(batch.keys())])\n",
    "            print(f\"logits shape: {list(outputs['logits'].shape)}, loss: {float(outputs['loss'])}\\n\")\n",
    "            print(f\"optimizer step:\\t{o_step}\")\n",
    "            print(f\"learning rate step:\\t{lr_step}\")\n",
    "            training_start = False\n",
    "        optimizer.zero_grad()\n",
    "        progress_bar.update(1)\n",
    "        prof.stop_profile() # stop profiling\n",
    "    total_flops = prof.get_total_flops()\n",
    "    flops_list.append(total_flops)\n",
    "    # Validation\n",
    "    model.eval()\n",
    "    epoch_predictions = []\n",
    "    epoch_labels = []\n",
    "    for batch in valid_dataloader:\n",
    "        with torch.no_grad():\n",
    "            outputs = model(**batch)\n",
    "        if validation_start:\n",
    "            print(\"validation\")\n",
    "            print([f\"{key} shape: {list(batch[key].shape)}\" for key in list(batch.keys())])\n",
    "            print(f\"logits shape: {list(outputs['logits'].shape)}, loss: {float(outputs['loss'])}\\n\")\n",
    "            validation_start = False\n",
    "        predictions = outputs.logits.argmax(dim=-1)\n",
    "        labels = batch[\"labels\"]\n",
    "        assert len(predictions)==len(labels)\n",
    "        epoch_predictions.append(predictions)\n",
    "        epoch_labels.append(labels)\n",
    "    # collect both, labels and predictions, in one big list each\n",
    "    flat_epoch_labels = flatten_list_of_lists(epoch_labels)\n",
    "    flat_epoch_predictions = flatten_list_of_lists(epoch_predictions)\n",
    "    # get classification report, then log and print results\n",
    "    metrics_macro = compute_metrics(flat_epoch_labels, flat_epoch_predictions, \"macro avg\")\n",
    "    metrics_weighted = compute_metrics(flat_epoch_labels, flat_epoch_predictions, \"weighted avg\")\n",
    "    logs_dict[f\"epoch_{epoch}_metrics_macro\"] = metrics_macro\n",
    "    logs_dict[f\"epoch_{epoch}_metrics_weighted\"] = metrics_weighted\n",
    "    print(f\"\\nepoch {epoch}\\nmetrics_macro\\n{metrics_macro}\\nmetrics_weighted\\n{metrics_weighted}\")\n",
    "    # save model\n",
    "    accelerator.wait_for_everyone()\n",
    "    unwrapped_model = accelerator.unwrap_model(model)\n",
    "    unwrapped_model.save_pretrained(output_dir)\n",
    "    # save tokenizer\n",
    "    if accelerator.is_main_process:\n",
    "        tokenizer.save_pretrained(output_dir)\n",
    "#\n",
    "stop_time = time.time()\n",
    "training_loop_time = str(datetime.timedelta(seconds = round(stop_time-start_time)))\n",
    "print(f\"training loop time: {training_loop_time}\")\n",
    "logs_dict[\"training_loop_time\"] = training_loop_time\n",
    "prof.end_profile() # end profiling\n",
    "logs_dict[\"flops_list\"] = flops_list\n",
    "print(flops_list)\n",
    "flops_array = np.array(flops_list)\n",
    "np.sum(flops_array), np.mean(flops_array)"
   ]
  },
  {
   "cell_type": "code",
   "execution_count": 26,
   "id": "3374ef21-d2aa-4300-b874-5c252f7e2e1d",
   "metadata": {},
   "outputs": [],
   "source": [
    "optimizer.step()"
   ]
  },
  {
   "cell_type": "code",
   "execution_count": 16,
   "id": "29dcecd1-ed58-4058-979d-a9be688d6a89",
   "metadata": {},
   "outputs": [
    {
     "name": "stderr",
     "output_type": "stream",
     "text": [
      "/home/matthias/.local/lib/python3.10/site-packages/bitsandbytes/autograd/_functions.py:322: UserWarning: MatMul8bitLt: inputs will be cast from torch.float32 to float16 during quantization\n",
      "  warnings.warn(f\"MatMul8bitLt: inputs will be cast from {A.dtype} to float16 during quantization\")\n"
     ]
    },
    {
     "data": {
      "text/plain": [
       "TokenClassifierOutput(loss=tensor(0.9873, device='cuda:0', grad_fn=<NllLossBackward0>), logits=tensor([[[ 2.9176, -1.5849, -1.1255, -2.4578, -0.1181, -0.4775, -0.3526,\n",
       "          -0.1572, -0.1662],\n",
       "         [ 2.9149, -1.5889, -1.1255, -2.4510, -0.1191, -0.4808, -0.3586,\n",
       "          -0.1538, -0.1561],\n",
       "         [ 2.9159, -1.5919, -1.1250, -2.4526, -0.1163, -0.4775, -0.3503,\n",
       "          -0.1558, -0.1570],\n",
       "         [ 2.9117, -1.5815, -1.1220, -2.4520, -0.1152, -0.4765, -0.3542,\n",
       "          -0.1519, -0.1585],\n",
       "         [ 2.9066, -1.5870, -1.1250, -2.4482, -0.1127, -0.4769, -0.3546,\n",
       "          -0.1527, -0.1582],\n",
       "         [ 2.9107, -1.5844, -1.1256, -2.4555, -0.1154, -0.4760, -0.3567,\n",
       "          -0.1550, -0.1565],\n",
       "         [ 2.9137, -1.5851, -1.1245, -2.4531, -0.1203, -0.4753, -0.3515,\n",
       "          -0.1540, -0.1595],\n",
       "         [ 2.9105, -1.5856, -1.1283, -2.4574, -0.1171, -0.4814, -0.3521,\n",
       "          -0.1546, -0.1585],\n",
       "         [ 2.9094, -1.5829, -1.1259, -2.4442, -0.1198, -0.4768, -0.3502,\n",
       "          -0.1586, -0.1620],\n",
       "         [ 2.9140, -1.5881, -1.1293, -2.4558, -0.1161, -0.4797, -0.3521,\n",
       "          -0.1549, -0.1563],\n",
       "         [ 2.9191, -1.5874, -1.1354, -2.4659, -0.1208, -0.4783, -0.3510,\n",
       "          -0.1603, -0.1588],\n",
       "         [ 2.9133, -1.5893, -1.1248, -2.4501, -0.1110, -0.4751, -0.3572,\n",
       "          -0.1602, -0.1626],\n",
       "         [ 2.9139, -1.5843, -1.1254, -2.4595, -0.1166, -0.4775, -0.3485,\n",
       "          -0.1523, -0.1578],\n",
       "         [ 2.9172, -1.5853, -1.1288, -2.4586, -0.1175, -0.4757, -0.3525,\n",
       "          -0.1516, -0.1594],\n",
       "         [ 2.9259, -1.5915, -1.1256, -2.4602, -0.1187, -0.4797, -0.3537,\n",
       "          -0.1513, -0.1544],\n",
       "         [ 2.9132, -1.5826, -1.1268, -2.4572, -0.1143, -0.4789, -0.3543,\n",
       "          -0.1554, -0.1594],\n",
       "         [ 2.9150, -1.5867, -1.1262, -2.4532, -0.1170, -0.4827, -0.3557,\n",
       "          -0.1559, -0.1565],\n",
       "         [ 2.9148, -1.5889, -1.1294, -2.4527, -0.1202, -0.4839, -0.3504,\n",
       "          -0.1578, -0.1555],\n",
       "         [ 2.9142, -1.5851, -1.1259, -2.4561, -0.1190, -0.4792, -0.3499,\n",
       "          -0.1556, -0.1560],\n",
       "         [ 2.9173, -1.5840, -1.1280, -2.4539, -0.1205, -0.4860, -0.3551,\n",
       "          -0.1546, -0.1585],\n",
       "         [ 2.9195, -1.5890, -1.1312, -2.4615, -0.1146, -0.4811, -0.3537,\n",
       "          -0.1567, -0.1599],\n",
       "         [ 2.9143, -1.5857, -1.1241, -2.4535, -0.1146, -0.4815, -0.3522,\n",
       "          -0.1576, -0.1583]]], device='cuda:0', grad_fn=<ViewBackward0>), hidden_states=None, attentions=None)"
      ]
     },
     "execution_count": 16,
     "metadata": {},
     "output_type": "execute_result"
    }
   ],
   "source": [
    "model.train\n",
    "output = model(**batch)\n",
    "output"
   ]
  },
  {
   "cell_type": "code",
   "execution_count": 17,
   "id": "80a13a7c-46e4-459e-90bd-12e6825c57da",
   "metadata": {},
   "outputs": [
    {
     "data": {
      "text/plain": [
       "0.9873404502868652"
      ]
     },
     "execution_count": 17,
     "metadata": {},
     "output_type": "execute_result"
    }
   ],
   "source": [
    "float(output.loss) # loss, logits"
   ]
  },
  {
   "cell_type": "code",
   "execution_count": 18,
   "id": "fe0dd177-7cdd-49be-b1d7-a66c00370169",
   "metadata": {},
   "outputs": [
    {
     "data": {
      "text/plain": [
       "tensor([[-100,    0,    8,    8,    8,    8,    8,    0,    0,    0,    0,    0,\n",
       "            0,    0,    0,    0,    0,    0,    0,    0,    0, -100]],\n",
       "       device='cuda:0')"
      ]
     },
     "execution_count": 18,
     "metadata": {},
     "output_type": "execute_result"
    }
   ],
   "source": [
    "batch[\"labels\"] # input_ids, labels"
   ]
  },
  {
   "cell_type": "code",
   "execution_count": 19,
   "id": "68a0fd62-eee0-4401-b1c9-2bd13cfacd1a",
   "metadata": {
    "scrolled": true
   },
   "outputs": [
    {
     "name": "stderr",
     "output_type": "stream",
     "text": [
      "/home/matthias/Desktop/Compute-Optimal_LoRA-Adapters_for_Language_Models/utils.py:62: RuntimeWarning: divide by zero encountered in scalar divide\n",
      "  conf_matrix[i] *= 100/np.sum(conf_matrix[i])\n",
      "/home/matthias/Desktop/Compute-Optimal_LoRA-Adapters_for_Language_Models/utils.py:62: RuntimeWarning: invalid value encountered in multiply\n",
      "  conf_matrix[i] *= 100/np.sum(conf_matrix[i])\n"
     ]
    },
    {
     "name": "stdout",
     "output_type": "stream",
     "text": [
      "confusion_matrix saved under path:\n",
      "ner_logs/FacebookAI-roberta-base/split=dev__r=512__bias=all__loradroput=0point2/confusion_matrix_pct.png\n",
      "confusion_matrix saved under path:\n",
      "ner_logs/FacebookAI-roberta-base/split=dev__r=512__bias=all__loradroput=0point2/confusion_matrix_abs.png\n"
     ]
    },
    {
     "data": {
      "image/png": "[encoded data removed]",
      "text/plain": [
       "<Figure size 700x700 with 2 Axes>"
      ]
     },
     "metadata": {},
     "output_type": "display_data"
    },
    {
     "data": {
      "image/png": "[encoded data removed]",
      "text/plain": [
       "<Figure size 700x700 with 2 Axes>"
      ]
     },
     "metadata": {},
     "output_type": "display_data"
    }
   ],
   "source": [
    "flat_epoch_labels_without_special_tokens = []\n",
    "flat_epoch_predictions_without_special_tokens = []\n",
    "for i in range(len(flat_epoch_labels)):\n",
    "    label_i = flat_epoch_labels[i]\n",
    "    prediction_i = flat_epoch_predictions[i]\n",
    "    if label_i!=-100:\n",
    "        flat_epoch_labels_without_special_tokens.append(label_i)\n",
    "        flat_epoch_predictions_without_special_tokens.append(prediction_i)\n",
    "# plot and save confusion matrices\n",
    "for percentage in [True, False]:\n",
    "    make_confusion_matrix(\n",
    "        flat_epoch_labels_without_special_tokens,\n",
    "        flat_epoch_predictions_without_special_tokens,\n",
    "        label_names,\n",
    "        percentage=percentage,\n",
    "        output_dir=output_dir\n",
    "    )"
   ]
  },
  {
   "cell_type": "markdown",
   "id": "d5269d6e-e4cb-49b5-93e3-0896a0f9ba4d",
   "metadata": {},
   "source": [
    "## Save logs and reload model for inference"
   ]
  },
  {
   "cell_type": "code",
   "execution_count": 20,
   "id": "7f58157b-a936-4221-9271-cf8a37eedd16",
   "metadata": {},
   "outputs": [
    {
     "data": {
      "text/plain": [
       "{'seed': 42,\n",
       " 'model_id': 'FacebookAI/roberta-base',\n",
       " 'LoRA_params_dict': {'r': 512,\n",
       "  'target_modules': ['query',\n",
       "   'key',\n",
       "   'value',\n",
       "   'query_proj',\n",
       "   'key_proj',\n",
       "   'value_proj'],\n",
       "  'bias': 'all',\n",
       "  'use_rslora': True,\n",
       "  'task_type': <TaskType.TOKEN_CLS: 'TOKEN_CLS'>,\n",
       "  'lora_dropout': 0.2},\n",
       " 'LoraConfig': \"LoraConfig(peft_type=<PeftType.LORA: 'LORA'>, auto_mapping=None, base_model_name_or_path=None, revision=None, task_type=<TaskType.TOKEN_CLS: 'TOKEN_CLS'>, inference_mode=False, r=512, target_modules={'query', 'value_proj', 'query_proj', 'key_proj', 'key', 'value'}, lora_alpha=8, lora_dropout=0.2, fan_in_fan_out=False, bias='all', use_rslora=True, modules_to_save=None, init_lora_weights=True, layers_to_transform=None, layers_pattern=None, rank_pattern={}, alpha_pattern={}, megatron_config=None, megatron_core='megatron.core', loftq_config={})\",\n",
       " 'LoRA_model_trainable_params': 28420617,\n",
       " 'LoRA_model_all_params': 152380434,\n",
       " 'LoRA_model_trainable_fraction': 0.18651,\n",
       " 'tokenizer': 'FacebookAI/roberta-base',\n",
       " 'num_training_steps': 360,\n",
       " 'num_warmup_steps': 18,\n",
       " 'epoch_0_metrics_macro': ['accuracy: 0.6836879432624113',\n",
       "  'precision: 0.07596532702915682',\n",
       "  'recall: 0.1111111111111111',\n",
       "  'f1-score: 0.09023682486193017',\n",
       "  'support: 705'],\n",
       " 'epoch_0_metrics_weighted': ['accuracy: 0.6836879432624113',\n",
       "  'precision: 0.4674292037623862',\n",
       "  'recall: 0.6836879432624113',\n",
       "  'f1-score: 0.5552444627674512',\n",
       "  'support: 705'],\n",
       " 'epoch_1_metrics_macro': ['accuracy: 0.6836879432624113',\n",
       "  'precision: 0.07596532702915682',\n",
       "  'recall: 0.1111111111111111',\n",
       "  'f1-score: 0.09023682486193017',\n",
       "  'support: 705'],\n",
       " 'epoch_1_metrics_weighted': ['accuracy: 0.6836879432624113',\n",
       "  'precision: 0.4674292037623862',\n",
       "  'recall: 0.6836879432624113',\n",
       "  'f1-score: 0.5552444627674512',\n",
       "  'support: 705'],\n",
       " 'epoch_2_metrics_macro': ['accuracy: 0.6836879432624113',\n",
       "  'precision: 0.07596532702915682',\n",
       "  'recall: 0.1111111111111111',\n",
       "  'f1-score: 0.09023682486193017',\n",
       "  'support: 705'],\n",
       " 'epoch_2_metrics_weighted': ['accuracy: 0.6836879432624113',\n",
       "  'precision: 0.4674292037623862',\n",
       "  'recall: 0.6836879432624113',\n",
       "  'f1-score: 0.5552444627674512',\n",
       "  'support: 705'],\n",
       " 'training_loop_time': '0:01:20',\n",
       " 'flops_list': [4096730400, 3718422528, 1145600640]}"
      ]
     },
     "execution_count": 20,
     "metadata": {},
     "output_type": "execute_result"
    }
   ],
   "source": [
    "with open(f\"{output_dir}/logs_dict.json\", \"w\") as outfile: \n",
    "\tjson.dump(logs_dict, outfile, indent=2)\n",
    "logs_dict"
   ]
  },
  {
   "cell_type": "code",
   "execution_count": 21,
   "id": "50068c2d-f2b5-44f9-9e7e-a258292e4332",
   "metadata": {},
   "outputs": [
    {
     "name": "stderr",
     "output_type": "stream",
     "text": [
      "Some weights of RobertaForTokenClassification were not initialized from the model checkpoint at FacebookAI/roberta-base and are newly initialized: ['classifier.weight', 'classifier.bias']\n",
      "You should probably TRAIN this model on a down-stream task to be able to use it for predictions and inference.\n"
     ]
    },
    {
     "name": "stdout",
     "output_type": "stream",
     "text": [
      "type(inference_model):\n",
      "<class 'transformers.models.roberta.modeling_roberta.RobertaForTokenClassification'>\n",
      "\n"
     ]
    },
    {
     "name": "stderr",
     "output_type": "stream",
     "text": [
      "/home/matthias/.local/lib/python3.10/site-packages/peft/tuners/lora/bnb.py:71: UserWarning: Merge lora module to 8-bit linear may get different generations due to rounding errors.\n",
      "  warnings.warn(\n"
     ]
    },
    {
     "data": {
      "text/plain": [
       "{'input_ids': tensor([[    0, 11272, 22398,   329,    21,     5, 32357,     9, 12440, 28855,\n",
       "          5689, 10915, 38042,     6, 47073,     9,     5,  3395, 10915, 38042,\n",
       "           935, 31404,     4,     2]]), 'attention_mask': tensor([[1, 1, 1, 1, 1, 1, 1, 1, 1, 1, 1, 1, 1, 1, 1, 1, 1, 1, 1, 1, 1, 1, 1, 1]])}"
      ]
     },
     "execution_count": 21,
     "metadata": {},
     "output_type": "execute_result"
    }
   ],
   "source": [
    "# load inference model\n",
    "config = PeftConfig.from_pretrained(output_dir)\n",
    "tokenizer = AutoTokenizer.from_pretrained(output_dir)\n",
    "inference_model = AutoModelForTokenClassification.from_pretrained(\n",
    "    model_id,\n",
    "    id2label=id2label,\n",
    "    label2id=label2id,\n",
    "    device_map=\"auto\",\n",
    "    load_in_8bit=True\n",
    ")\n",
    "inference_model = PeftModel.from_pretrained(inference_model, output_dir).merge_and_unload()\n",
    "print(f\"type(inference_model):\\n{type(inference_model)}\\n\")\n",
    "# get inputs from text (source: https://en.wikipedia.org/wiki/Konstanz#History)\n",
    "text = \"Konstanz was the birthplace of Count Ferdinand von Zeppelin, constructor of the famous Zeppelin airships.\"\n",
    "inputs = tokenizer(text, return_tensors=\"pt\")\n",
    "inputs"
   ]
  },
  {
   "cell_type": "code",
   "execution_count": 22,
   "id": "5f987d0b-c576-4487-ab74-03c86d9ddf74",
   "metadata": {},
   "outputs": [
    {
     "name": "stdout",
     "output_type": "stream",
     "text": [
      "token (prediction)\n",
      "\n",
      "<s> (O)\n",
      "ĠKon (O)\n",
      "stan (O)\n",
      "z (O)\n",
      "Ġwas (O)\n",
      "Ġthe (O)\n",
      "Ġbirthplace (O)\n",
      "Ġof (O)\n",
      "ĠCount (O)\n",
      "ĠFerdinand (O)\n",
      "Ġvon (O)\n",
      "ĠZe (O)\n",
      "ppelin (O)\n",
      ", (O)\n",
      "Ġconstructor (O)\n",
      "Ġof (O)\n",
      "Ġthe (O)\n",
      "Ġfamous (O)\n",
      "ĠZe (O)\n",
      "ppelin (O)\n",
      "Ġair (O)\n",
      "ships (O)\n",
      ". (O)\n",
      "</s> (O)\n"
     ]
    }
   ],
   "source": [
    "# inference\n",
    "with torch.no_grad():\n",
    "    logits = inference_model(**inputs).logits\n",
    "tokens = inputs.tokens()\n",
    "predictions = torch.argmax(logits, dim=2)\n",
    "print(f\"token (prediction)\\n\")\n",
    "for token, prediction in zip(tokens, predictions[0].numpy()):\n",
    "    print(f\"{token} ({id2label[str(prediction)]})\")"
   ]
  },
  {
   "cell_type": "markdown",
   "id": "8f39b0ad-1be7-4b81-9d3e-933dab612028",
   "metadata": {},
   "source": [
    "$\\checkmark$"
   ]
  }
 ],
 "metadata": {
  "kernelspec": {
   "display_name": "Python 3 (ipykernel)",
   "language": "python",
   "name": "python3"
  },
  "language_info": {
   "codemirror_mode": {
    "name": "ipython",
    "version": 3
   },
   "file_extension": ".py",
   "mimetype": "text/x-python",
   "name": "python",
   "nbconvert_exporter": "python",
   "pygments_lexer": "ipython3",
   "version": "3.10.12"
  }
 },
 "nbformat": 4,
 "nbformat_minor": 5
}
