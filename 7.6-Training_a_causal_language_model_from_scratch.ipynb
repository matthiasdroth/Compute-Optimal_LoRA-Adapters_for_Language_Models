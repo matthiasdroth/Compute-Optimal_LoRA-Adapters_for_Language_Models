{
 "cells": [
  {
   "cell_type": "markdown",
   "id": "fdf82a00",
   "metadata": {},
   "source": [
    "## [Training a causal language model from scratch](https://huggingface.co/course/chapter7/6?fw=pt)\n",
    "Up until now, we've mostly been using pretrained models and fine-tuning them for new use cases by reusing the weights from pretraining. As we saw in [Chapter 1](https://huggingface.co/course/chapter1), this is commonly referred to as *transfer learning*, and it's a very successful strategy for applying Transformer models to most real-world use cases where labeled data is sparse. In this chapter, we'll take a different approach and train a completely new model from scratch. This is a good approach to take if you have a lot of data and it is very different from the pretraining data used for the available models. However, it also requires considerably more compute resources to pretrain a language model than just to fine-tune an existing one. Examples where it can make sense to train a new model include for datasets consisting of musical notes, molecular sequences such as DNA, or programming languages. The latter have recently gained traction thanks to tools such as TabNine and GitHub's Copilot, powered by OpenAI's Codex model, that can generate long sequences of code. This task of text generation is best addressed with auto-regressive or causal language models such as GPT-2.\n",
    "\n",
    "In this section we will build a scaled-down version of a code generation model: we'll focus on one-line completions instead of full functions or classes, using a subset of Python code. When working with data in Python you are in frequent contact with the Python data science stack, consisting of the `matplotlib`, `seaborn`, `pandas`, and `scikit-learn` libraries. When using those frameworks it's common to need to look up specific commands, so it would be nice if we could use a model to complete these calls for us."
   ]
  },
  {
   "cell_type": "code",
   "execution_count": 1,
   "id": "a9e431c7",
   "metadata": {},
   "outputs": [
    {
     "name": "stderr",
     "output_type": "stream",
     "text": [
      "/home/matthias/.local/lib/python3.10/site-packages/IPython/core/display.py:431: UserWarning: Consider using IPython.display.IFrame instead\n",
      "  warnings.warn(\"Consider using IPython.display.IFrame instead\")\n"
     ]
    },
    {
     "data": {
      "text/html": [
       "<iframe width=\"640\" height=\"360\" src=\"https://www.youtube.com/embed/Vpjb1lu0MDk\" allowfullscreen></iframe>"
      ],
      "text/plain": [
       "<IPython.core.display.HTML object>"
      ]
     },
     "execution_count": 1,
     "metadata": {},
     "output_type": "execute_result"
    }
   ],
   "source": [
    "from IPython.display import HTML\n",
    "HTML('<iframe width=\"640\" height=\"360\" src=\"https://www.youtube.com/embed/Vpjb1lu0MDk\" allowfullscreen></iframe>')"
   ]
  },
  {
   "cell_type": "markdown",
   "id": "56471000",
   "metadata": {},
   "source": [
    "In [Chapter 6](https://huggingface.co/course/chapter6) we created an efficient tokenizer to process Python source code, but what we still need is a large-scale dataset to pretrain a model on. Here, we'll apply our tokenizer to a corpus of Python code derived from GitHub repositories. We will then use the `Trainer` API and 🤗 Accelerate to train the model. Let's get to it!\n",
    "\n",
    "<img style=\"float=center;\" src=\"sections/section_7/images/gradio_clear_submit.png\" width=\"80%\">\n",
    "\n",
    "This is actually showcasing the model that was trained and uploaded to the Hub using the code shown in this section. You can find it [here](https://huggingface.co/huggingface-course/codeparrot-ds?text=plt.imshow%28). Note that since there is some randomization happening in the text generation, you will probably get a slightly different result.\n",
    "\n",
    "### Gathering the data\n",
    "Python code is abundantly available from code repositories such as GitHub, which we can use to create a dataset by scraping for every Python repository. This was the approach taken in the [Transformers textbook](https://learning.oreilly.com/library/view/natural-language-processing/9781098136789/) to pretrain a large GPT-2 model. Using a GitHub dump of about 180 GB containing roughly 20 million Python files called `codeparrot`, the authors built a dataset that they then shared on the [Hugging Face Hub](https://huggingface.co/datasets/transformersbook/codeparrot).\n",
    "\n",
    "However, training on the full corpus is time- and compute-consuming, and we only need the subset of the dataset concerned with the Python data science stack. So, let's start by filtering the `codeparrot` dataset for all files that include any of the libraries in this stack. Because of the dataset's size, we want to avoid downloading it; instead, we'll use the streaming feature to filter it on the fly. To help us filter the code samples using the libraries we mentioned earlier, we'll use the following function:"
   ]
  },
  {
   "cell_type": "code",
   "execution_count": 2,
   "id": "6c35e1d3",
   "metadata": {},
   "outputs": [],
   "source": [
    "def any_keyword_in_string(string, keywords):\n",
    "    for keyword in keywords:\n",
    "        if keyword in string:\n",
    "            return True \n",
    "    return False"
   ]
  },
  {
   "cell_type": "markdown",
   "id": "cc1c6368",
   "metadata": {},
   "source": [
    "Let's test it on two examples:"
   ]
  },
  {
   "cell_type": "code",
   "execution_count": 3,
   "id": "f2925d05",
   "metadata": {},
   "outputs": [
    {
     "data": {
      "text/plain": [
       "(False, True)"
      ]
     },
     "execution_count": 3,
     "metadata": {},
     "output_type": "execute_result"
    }
   ],
   "source": [
    "filters = [\"pandas\", \"sklearn\", \"matplotlib\", \"seaborn\"]\n",
    "example_1 = \"import numpy as np\"\n",
    "example_2 = \"import pandas as pd\"\n",
    "any_keyword_in_string(example_1, filters), any_keyword_in_string(example_2, filters)"
   ]
  },
  {
   "cell_type": "markdown",
   "id": "1d220257",
   "metadata": {},
   "source": [
    "We can use this to create a function that will stream the dataset and filter the elements we want:"
   ]
  },
  {
   "cell_type": "code",
   "execution_count": 4,
   "id": "8f99260c",
   "metadata": {},
   "outputs": [],
   "source": [
    "from collections import defaultdict\n",
    "from tqdm import tqdm\n",
    "from datasets import DatasetDict, Dataset, load_dataset\n",
    "def filter_streaming_dataset(dataset, filters):\n",
    "    filtered_dict = defaultdict(list)\n",
    "    print(filtered_dict)\n",
    "    total = 0\n",
    "    for sample in tqdm(iter(dataset)):\n",
    "        total += 1\n",
    "        if any_keyword_in_string(sample[\"content\"], filters):\n",
    "            for k, v in sample.items():\n",
    "                filtered_dict[k].append(v)\n",
    "    print(f\"{len(filtered_dict['content'])/total:.2%} of data after filtering.\")\n",
    "    return Dataset.from_dict(filtered_dict)"
   ]
  },
  {
   "cell_type": "markdown",
   "id": "4ca0493b-60a5-4a55-8428-14134cbbf593",
   "metadata": {},
   "source": [
    "Then we can simply apply this function to the streaming dataset:\n",
    "\n",
    "```python\n",
    "%%time\n",
    "# This cell will take a very long time to execute, so you should skip it and go to the next one!\n",
    "split = \"train\" # \"valid\"\n",
    "filters = [\"pandas\", \"sklearn\", \"matplotlib\", \"seaborn\"]\n",
    "data = load_dataset(f\"transformersbook/codeparrot-{split}\", split=split, streaming=True)\n",
    "filtered_data = filter_streaming_dataset(data, filters)\n",
    "# 3.26% of data after filtering.\n",
    "# CPU times: user 34min 49s, sys: 2min 54s, total: 37min 43s\n",
    "# Wall time: 3h 58min 3s\n",
    "```\n",
    "\n",
    "As of July 2024, this leaves us with 3.26% (606720/18593791) of the original dataset, which is still quite sizable — the resulting dataset is 6 GB and consists of 18.6 million Python scripts!\n",
    "\n",
    "Filtering the full dataset can take 2-4h depending on your machine and bandwidth. If you don't want to go through this lengthy process yourself, we provide the filtered dataset on the Hub for you to download:"
   ]
  },
  {
   "cell_type": "code",
   "execution_count": 5,
   "id": "a3048f0f",
   "metadata": {},
   "outputs": [
    {
     "data": {
      "text/plain": [
       "DatasetDict({\n",
       "    train: Dataset({\n",
       "        features: ['repo_name', 'path', 'copies', 'size', 'content', 'license'],\n",
       "        num_rows: 80000\n",
       "    })\n",
       "    valid: Dataset({\n",
       "        features: ['repo_name', 'path', 'copies', 'size', 'content', 'license'],\n",
       "        num_rows: 1000\n",
       "    })\n",
       "})"
      ]
     },
     "execution_count": 5,
     "metadata": {},
     "output_type": "execute_result"
    }
   ],
   "source": [
    "ds_train = load_dataset(\"huggingface-course/codeparrot-ds-train\", split=\"train\")\n",
    "ds_valid = load_dataset(\"huggingface-course/codeparrot-ds-valid\", split=\"validation\")\n",
    "raw_datasets = DatasetDict(\n",
    "    {\n",
    "        \"train\": ds_train.shuffle().select(range(80000)), # originally .select(range(50000))\n",
    "        \"valid\": ds_valid.shuffle().select(range(1000))   # originally .select(range(500))\n",
    "    }\n",
    ")\n",
    "raw_datasets"
   ]
  },
  {
   "cell_type": "markdown",
   "id": "1c80b0f1",
   "metadata": {},
   "source": [
    "> <font color=\"darkgreen\">Pretraining the language model will take a while. We suggest that you first run the training loop on a sample of the data by uncommenting the two partial lines above, and make sure that the training successfully completes and the models are stored. Nothing is more frustrating than a training run failing at the last step because you forgot to create a folder or because there’s a typo at the end of the training loop!</font>\n",
    "\n",
    "Let's look at an example from the dataset. We'll just show the first 200 characters of each field:"
   ]
  },
  {
   "cell_type": "code",
   "execution_count": 6,
   "id": "1e4ca576",
   "metadata": {},
   "outputs": [
    {
     "name": "stdout",
     "output_type": "stream",
     "text": [
      "REPO_NAME: MER-GROUP/intellij-community\n",
      "PATH: python/helpers/pydev/pydev_ipython/inputhook.py\n",
      "COPIES: 52\n",
      "SIZE: 18411\n",
      "CONTENT: # coding: utf-8\n",
      "\"\"\"\n",
      "Inputhook management for GUI event loop integration.\n",
      "\"\"\"\n",
      "\n",
      "#-----------------------------------------------------------------------------\n",
      "#  Copyright (C) 2008-2011  The IPython Dev\n",
      "LICENSE: apache-2.0\n"
     ]
    }
   ],
   "source": [
    "for key in raw_datasets[\"train\"][0]:\n",
    "    print(f\"{key.upper()}: {raw_datasets['train'][0][key][:200]}\")"
   ]
  },
  {
   "cell_type": "markdown",
   "id": "f17fedc9",
   "metadata": {},
   "source": [
    "We can see that the content field contains the code that we want our model to train on. Now that we have a dataset, we need to prepare the texts so they're in a format suitable for pretraining.\n",
    "\n",
    "### Preparing the dataset"
   ]
  },
  {
   "cell_type": "code",
   "execution_count": 7,
   "id": "27d5c892",
   "metadata": {},
   "outputs": [
    {
     "name": "stderr",
     "output_type": "stream",
     "text": [
      "/home/matthias/.local/lib/python3.10/site-packages/IPython/core/display.py:431: UserWarning: Consider using IPython.display.IFrame instead\n",
      "  warnings.warn(\"Consider using IPython.display.IFrame instead\")\n"
     ]
    },
    {
     "data": {
      "text/html": [
       "<iframe width=\"640\" height=\"360\" src=\"https://www.youtube.com/embed/ma1TrR7gE7I\" allowfullscreen></iframe>"
      ],
      "text/plain": [
       "<IPython.core.display.HTML object>"
      ]
     },
     "execution_count": 7,
     "metadata": {},
     "output_type": "execute_result"
    }
   ],
   "source": [
    "HTML('<iframe width=\"640\" height=\"360\" src=\"https://www.youtube.com/embed/ma1TrR7gE7I\" allowfullscreen></iframe>')"
   ]
  },
  {
   "cell_type": "markdown",
   "id": "21bb9da5",
   "metadata": {},
   "source": [
    "The first step will be to tokenize the data, so we can use it for training. Since our goal is to mainly autocomplete short function calls, we can keep the context size relatively small. This has the benefit that we can train the model much faster and it requires significantly less memory. If it is important for your application to have more context (for example, if you want the model to write unit tests based on a file with the function definition), make sure you increase that number, but also keep in mind that this comes with a greater GPU memory footprint. For now, let's fix the context size at 128 tokens, as opposed to the 1024 or 2048 used in GPT-2 or GPT-3, respectively.\n",
    "\n",
    "Most documents contain many more than 128 tokens, so simply truncating the inputs to the maximum length would eliminate a large fraction of our dataset. Instead, we'll use the `return_overflowing_tokens` option to tokenize the whole input and split it into several chunks, as we did in [Chapter 6](https://huggingface.co/course/chapter6/4). We'll also use the `return_length` option to return the length of each created chunk automatically. Often the last chunk will be smaller than the context size, and we'll get rid of these pieces to avoid padding issues; we don't really need them as we have plenty of data anyway.\n",
    "\n",
    "<img style=\"float=center;\" src=\"sections/section_7/images/tokenized_text.svg\" width=\"90%\">\n",
    "\n",
    "Let's see exactly how this works by looking at the first two examples:"
   ]
  },
  {
   "cell_type": "code",
   "execution_count": 8,
   "id": "30bd4968",
   "metadata": {},
   "outputs": [
    {
     "name": "stderr",
     "output_type": "stream",
     "text": [
      "/home/matthias/.local/lib/python3.10/site-packages/huggingface_hub/file_download.py:1150: FutureWarning: `resume_download` is deprecated and will be removed in version 1.0.0. Downloads always resume when possible. If you want to force a new download, use `force_download=True`.\n",
      "  warnings.warn(\n"
     ]
    },
    {
     "name": "stdout",
     "output_type": "stream",
     "text": [
      "Input IDs length: 56\n",
      "Input chunk lengths: [128, 128, 128, 128, 128, 128, 128, 128, 128, 128, 128, 128, 128, 128, 128, 128, 128, 128, 128, 128, 128, 128, 128, 128, 128, 128, 128, 128, 128, 128, 128, 128, 128, 56, 128, 128, 128, 128, 128, 128, 128, 128, 128, 128, 128, 128, 128, 128, 128, 128, 128, 128, 128, 128, 128, 111]\n",
      "Chunk mapping: [0, 0, 0, 0, 0, 0, 0, 0, 0, 0, 0, 0, 0, 0, 0, 0, 0, 0, 0, 0, 0, 0, 0, 0, 0, 0, 0, 0, 0, 0, 0, 0, 0, 0, 1, 1, 1, 1, 1, 1, 1, 1, 1, 1, 1, 1, 1, 1, 1, 1, 1, 1, 1, 1, 1, 1]\n"
     ]
    }
   ],
   "source": [
    "from transformers import AutoTokenizer\n",
    "context_length = 128\n",
    "tokenizer = AutoTokenizer.from_pretrained(\"huggingface-course/code-search-net-tokenizer\")\n",
    "outputs = tokenizer(\n",
    "    raw_datasets[\"train\"][:2][\"content\"],\n",
    "    truncation=True,\n",
    "    max_length=context_length,\n",
    "    return_overflowing_tokens=True,\n",
    "    return_length=True,\n",
    ")\n",
    "print(f\"Input IDs length: {len(outputs['input_ids'])}\")\n",
    "print(f\"Input chunk lengths: {(outputs['length'])}\")\n",
    "print(f\"Chunk mapping: {outputs['overflow_to_sample_mapping']}\")"
   ]
  },
  {
   "cell_type": "markdown",
   "id": "5cc266e3",
   "metadata": {},
   "source": [
    "We can see that we get 34 segments in total from those two examples. Looking at the chunk lengths, we can see that the chunks at the ends of both documents have less than 128 tokens (117 and 41, respectively). These represent just a small fraction of the total chunks that we have, so we can safely throw them away. With the `overflow_to_sample_mapping` field, we can also reconstruct which chunks belonged to which input samples.\n",
    "\n",
    "With this operation we're using a handy feature of the `Dataset.map()` function in 🤗 Datasets, which is that it does not require one-to-one maps; as we saw in [section 3](https://huggingface.co/course/chapter7/3), we can create batches with more or fewer elements than the input batch. This is useful when doing operations like data augmentation or data filtering that change the number of elements. In our case, when tokenizing each element into chunks of the specified context size, we create many samples from each document. We just need to make sure to delete the existing columns, since they have a conflicting size. If we wanted to keep them, we could repeat them appropriately and return them within the `Dataset.map()` call:"
   ]
  },
  {
   "cell_type": "code",
   "execution_count": 9,
   "id": "18274ea6",
   "metadata": {},
   "outputs": [
    {
     "data": {
      "application/vnd.jupyter.widget-view+json": {
       "model_id": "26fda8dbd82b42bc80cb2f190a6f6aad",
       "version_major": 2,
       "version_minor": 0
      },
      "text/plain": [
       "Map:   0%|          | 0/80000 [00:00<?, ? examples/s]"
      ]
     },
     "metadata": {},
     "output_type": "display_data"
    },
    {
     "data": {
      "application/vnd.jupyter.widget-view+json": {
       "model_id": "2e5fe068dc5649e696cacb0738cb5875",
       "version_major": 2,
       "version_minor": 0
      },
      "text/plain": [
       "Map:   0%|          | 0/1000 [00:00<?, ? examples/s]"
      ]
     },
     "metadata": {},
     "output_type": "display_data"
    },
    {
     "name": "stdout",
     "output_type": "stream",
     "text": [
      "CPU times: user 10min 48s, sys: 6.38 s, total: 10min 54s\n",
      "Wall time: 4min 17s\n"
     ]
    },
    {
     "data": {
      "text/plain": [
       "DatasetDict({\n",
       "    train: Dataset({\n",
       "        features: ['input_ids'],\n",
       "        num_rows: 2201553\n",
       "    })\n",
       "    valid: Dataset({\n",
       "        features: ['input_ids'],\n",
       "        num_rows: 29328\n",
       "    })\n",
       "})"
      ]
     },
     "execution_count": 9,
     "metadata": {},
     "output_type": "execute_result"
    }
   ],
   "source": [
    "%%time\n",
    "def tokenize(element):\n",
    "    outputs = tokenizer(\n",
    "        element[\"content\"],\n",
    "        truncation=True,\n",
    "        max_length=context_length,\n",
    "        return_overflowing_tokens=True,\n",
    "        return_length=True,\n",
    "    )\n",
    "    input_batch = []\n",
    "    for length, input_ids in zip(outputs[\"length\"], outputs[\"input_ids\"]):\n",
    "        if length == context_length:\n",
    "            input_batch.append(input_ids)\n",
    "    return {\"input_ids\": input_batch}\n",
    "\n",
    "tokenized_datasets = raw_datasets.map(\n",
    "    tokenize, batched=True, remove_columns=raw_datasets[\"train\"].column_names\n",
    ")\n",
    "tokenized_datasets"
   ]
  },
  {
   "cell_type": "markdown",
   "id": "cd1e67c4",
   "metadata": {},
   "source": [
    "We now have 16.7 million examples with 128 tokens each, which corresponds to about 2.1 billion tokens in total. For reference, OpenAI's GPT-3 and Codex models are trained on 300 and 100 billion tokens, respectively, where the Codex models are initialized from the GPT-3 checkpoints. Our goal in this section is not to compete with these models, which can generate long, coherent texts, but to create a scaled-down version providing a quick autocomplete function for data scientists.\n",
    "\n",
    "Now that we have the dataset ready, let's set up the model!\n",
    "\n",
    "> ✏️ Try it out! <font color=\"darkgreen\">Getting rid of all the chunks that are smaller than the context size wasn't a big issue here because we're using small context windows. As you increase the context size (or if you have a corpus of short documents), the fraction of chunks that are thrown away will also grow. A more efficient way to prepare the data is to join all the tokenized samples in a batch with an `eos_token_id` token in between, and then perform the chunking on the concatenated sequences. As an exercise, modify the `tokenize()` function to make use of that approach. Note that you'll want to set `truncation=False` and remove the other arguments from the tokenizer to get the full sequence of token IDs.\n",
    "</font>"
   ]
  },
  {
   "cell_type": "code",
   "execution_count": 10,
   "id": "4fbd61d2-0724-4037-b9de-7251c6d9b661",
   "metadata": {},
   "outputs": [
    {
     "data": {
      "application/vnd.jupyter.widget-view+json": {
       "model_id": "7907c01813e14f40a57394d54289f32e",
       "version_major": 2,
       "version_minor": 0
      },
      "text/plain": [
       "Map:   0%|          | 0/80000 [00:00<?, ? examples/s]"
      ]
     },
     "metadata": {},
     "output_type": "display_data"
    },
    {
     "name": "stderr",
     "output_type": "stream",
     "text": [
      "Token indices sequence length is longer than the specified maximum sequence length for this model (4280 > 1024). Running this sequence through the model will result in indexing errors\n"
     ]
    },
    {
     "data": {
      "application/vnd.jupyter.widget-view+json": {
       "model_id": "e8ff91fe4b5849748a390e01656e9457",
       "version_major": 2,
       "version_minor": 0
      },
      "text/plain": [
       "Map:   0%|          | 0/1000 [00:00<?, ? examples/s]"
      ]
     },
     "metadata": {},
     "output_type": "display_data"
    },
    {
     "name": "stdout",
     "output_type": "stream",
     "text": [
      "CPU times: user 10min 58s, sys: 2.72 s, total: 11min\n",
      "Wall time: 3min 39s\n"
     ]
    },
    {
     "data": {
      "text/plain": [
       "DatasetDict({\n",
       "    train: Dataset({\n",
       "        features: ['input_ids'],\n",
       "        num_rows: 80000\n",
       "    })\n",
       "    valid: Dataset({\n",
       "        features: ['input_ids'],\n",
       "        num_rows: 1000\n",
       "    })\n",
       "})"
      ]
     },
     "execution_count": 10,
     "metadata": {},
     "output_type": "execute_result"
    }
   ],
   "source": [
    "%%time\n",
    "# trying it out 1\n",
    "from more_itertools import chunked\n",
    "\n",
    "def try_it_tokenize(element):\n",
    "    # 1. get batch\n",
    "    outputs = tokenizer(\n",
    "        element[\"content\"],\n",
    "        truncation=False\n",
    "    )\n",
    "    eos_token_id = tokenizer.eos_token_id\n",
    "    input_ids_batch = outputs[\"input_ids\"]\n",
    "    batch_length = len(input_ids_batch) # get length of batch (required for return value)\n",
    "    input_ids_batch_flat = []\n",
    "    # 2. for each item_i in batch, get input_ids_i\n",
    "    for input_ids_i in input_ids_batch:\n",
    "        # 3. make sure each input_ids_i ends with eos_token_id (use a loop and assert)\n",
    "        if input_ids_i[-1]!=eos_token_id:\n",
    "            input_ids_i += [eos_token_id]\n",
    "        # 4. concatenate all input_ids_i into non-nested list variable input_ids_batch_flat\n",
    "        input_ids_batch_flat += input_ids_i\n",
    "    # 5. use \"chunked\" to turn input_ids_batch_flat into a list of chunks ...\n",
    "    # ... where each chunk (but maybe the last one) has length=context_length-1\n",
    "    input_ids_chunks = []\n",
    "    for input_ids_chunk in list(chunked(input_ids_batch_flat, context_length-1)):\n",
    "        input_ids_chunk = list(input_ids_chunk)\n",
    "        # 6. add eos_token to the end of each chunk\n",
    "        input_ids_chunk.append(eos_token_id)\n",
    "        input_ids_chunks.append(input_ids_chunk)\n",
    "    # 7. return the list of chunks (=batch) with the correct length (=batch_length)\n",
    "    return {\"input_ids\": input_ids_chunks[:batch_length]}\n",
    "    \n",
    "tokenized_datasets_try = (\n",
    "    raw_datasets\n",
    "    .map(try_it_tokenize, batched=True)\n",
    "    .remove_columns([\"repo_name\", \"path\", \"copies\", \"size\", \"content\", \"license\"])\n",
    ")\n",
    "tokenized_datasets_try"
   ]
  },
  {
   "cell_type": "markdown",
   "id": "450a40a9-fc2d-4643-b7ad-88e4280aa387",
   "metadata": {},
   "source": [
    "Now, let's demonstrate that the `try_it_tokenize` function does indeed *concatenate sequences* to make better use of the model's context length!"
   ]
  },
  {
   "cell_type": "code",
   "execution_count": 11,
   "id": "b8515bda-d5b3-4079-a9f9-95c1afe978af",
   "metadata": {},
   "outputs": [
    {
     "name": "stdout",
     "output_type": "stream",
     "text": [
      "split train, instance 33, positions [89, 127]\n",
      "split valid, instance 72, positions [115, 127]\n",
      "CPU times: user 1min 48s, sys: 1.58 s, total: 1min 50s\n",
      "Wall time: 1min 50s\n"
     ]
    }
   ],
   "source": [
    "%%time\n",
    "# still trying it out (confirm success)\n",
    "for split in [\"train\", \"valid\"]:\n",
    "    for j in range(len(tokenized_datasets_try[split])):\n",
    "        input_ids_j = tokenized_datasets_try[split][\"input_ids\"][j]\n",
    "        eos_token_positions = [i for i, input_id in enumerate(input_ids_j) if input_id==tokenizer.eos_token_id]\n",
    "        if len(eos_token_positions)>1:\n",
    "            print(f\"split {split}, instance {j}, positions {eos_token_positions}\")\n",
    "            break"
   ]
  },
  {
   "cell_type": "markdown",
   "id": "298edd5e",
   "metadata": {},
   "source": [
    "### Initializing a new model\n",
    "Our first step is to freshly initialize a GPT-2 model. We'll use the same configuration for our model as for the small GPT-2 model, so we load the pretrained configuration, make sure that the tokenizer size matches the model vocabulary size and pass the bos and eos (beginning and end of sequence) token IDs:"
   ]
  },
  {
   "cell_type": "code",
   "execution_count": 12,
   "id": "56ca95ae",
   "metadata": {},
   "outputs": [
    {
     "name": "stderr",
     "output_type": "stream",
     "text": [
      "/home/matthias/.local/lib/python3.10/site-packages/huggingface_hub/file_download.py:1150: FutureWarning: `resume_download` is deprecated and will be removed in version 1.0.0. Downloads always resume when possible. If you want to force a new download, use `force_download=True`.\n",
      "  warnings.warn(\n"
     ]
    }
   ],
   "source": [
    "from transformers import AutoTokenizer, GPT2LMHeadModel, AutoConfig\n",
    "config = AutoConfig.from_pretrained(\n",
    "    \"gpt2\",\n",
    "    vocab_size=len(tokenizer),\n",
    "    n_ctx=context_length,\n",
    "    bos_token_id=tokenizer.bos_token_id,\n",
    "    eos_token_id=tokenizer.eos_token_id\n",
    ")"
   ]
  },
  {
   "cell_type": "markdown",
   "id": "32f33798",
   "metadata": {},
   "source": [
    "With that configuration, we can load a new model. Note that this is the first time we don't use the `from_pretrained()` function, since we're actually initializing a model ourself:"
   ]
  },
  {
   "cell_type": "code",
   "execution_count": 13,
   "id": "47fa71d6",
   "metadata": {},
   "outputs": [
    {
     "name": "stdout",
     "output_type": "stream",
     "text": [
      "GPT-2 size: 124.2M parameters\n"
     ]
    }
   ],
   "source": [
    "model = GPT2LMHeadModel(config)\n",
    "model_size = sum(t.numel() for t in model.parameters())\n",
    "print(f\"GPT-2 size: {model_size/1000**2:.1f}M parameters\")"
   ]
  },
  {
   "cell_type": "markdown",
   "id": "6ded0292",
   "metadata": {},
   "source": [
    "Our model has 124M parameters that we'll have to tune. Before we can start training, we need to set up a data collator that will take care of creating the batches. We can use the `DataCollatorForLanguageModeling` collator, which is designed specifically for language modeling (as the name subtly suggests). Besides stacking and padding batches, it also takes care of creating the language model labels — in causal language modeling the inputs serve as labels too (just shifted by one element), and this data collator creates them on the fly during training so we don't need to duplicate the `input_ids`.\n",
    "\n",
    "Note that `DataCollatorForLanguageModeling` supports both masked language modeling (MLM) and causal language modeling (CLM). By default it prepares data for MLM, but we can switch to CLM by setting the argument `mlm=False`:"
   ]
  },
  {
   "cell_type": "code",
   "execution_count": 14,
   "id": "3decf059",
   "metadata": {},
   "outputs": [],
   "source": [
    "from transformers import DataCollatorForLanguageModeling\n",
    "tokenizer.pad_token = tokenizer.eos_token\n",
    "data_collator = DataCollatorForLanguageModeling(tokenizer, mlm=False)"
   ]
  },
  {
   "cell_type": "markdown",
   "id": "d65abfea",
   "metadata": {},
   "source": [
    "Let's have a look at an example:"
   ]
  },
  {
   "cell_type": "code",
   "execution_count": 15,
   "id": "89100dba",
   "metadata": {},
   "outputs": [
    {
     "name": "stderr",
     "output_type": "stream",
     "text": [
      "You're using a GPT2TokenizerFast tokenizer. Please note that with a fast tokenizer, using the `__call__` method is faster than using a method to encode the text followed by a call to the `pad` method to get a padded encoding.\n"
     ]
    },
    {
     "name": "stdout",
     "output_type": "stream",
     "text": [
      "input_ids shape: torch.Size([5, 128])\n",
      "attention_mask shape: torch.Size([5, 128])\n",
      "labels shape: torch.Size([5, 128])\n"
     ]
    }
   ],
   "source": [
    "out = data_collator([tokenized_datasets[\"train\"][i] for i in range(5)])\n",
    "for key in out:\n",
    "    print(f\"{key} shape: {out[key].shape}\")"
   ]
  },
  {
   "cell_type": "markdown",
   "id": "3cbeb281",
   "metadata": {},
   "source": [
    "We can see that the examples have been stacked and all the tensors have the same shape.\n",
    "\n",
    "> <font color=\"darkred\">⚠️ Shifting the inputs and labels to align them happens inside the model, so the data collator just copies the inputs to create the labels.</font>\n",
    "\n",
    "Now we have everything in place to actually train our model — that wasn't so much work after all! Before we start training we should log in to Hugging Face. If you're working in a notebook, you can do so with the following utility function:"
   ]
  },
  {
   "cell_type": "code",
   "execution_count": 17,
   "id": "ebb5817a",
   "metadata": {},
   "outputs": [
    {
     "data": {
      "application/vnd.jupyter.widget-view+json": {
       "model_id": "21a7db6cbde44b4eb1ce2162ef3f864a",
       "version_major": 2,
       "version_minor": 0
      },
      "text/plain": [
       "VBox(children=(HTML(value='<center> <img\\nsrc=https://huggingface.co/front/assets/huggingface_logo-noborder.sv…"
      ]
     },
     "metadata": {},
     "output_type": "display_data"
    }
   ],
   "source": [
    "from huggingface_hub import notebook_login\n",
    "notebook_login() # see .env file for huggingface_token"
   ]
  },
  {
   "cell_type": "markdown",
   "id": "120fb1bc",
   "metadata": {},
   "source": [
    "This will display a widget where you can enter your Hugging Face login credentials.\n",
    "\n",
    "If you aren't working in a notebook, just type the following line in your terminal:\n",
    "\n",
    "```zsh\n",
    "huggingface-cli login\n",
    "```\n",
    "\n",
    "All that's left to do is configure the training arguments and fire up the `Trainer`. We'll use a cosine learning rate schedule with some warmup and an effective batch size of 256 (`per_device_train_batch_size * gradient_accumulation_steps`). Gradient accumulation is used when a single batch does not fit into memory, and incrementally builds up the gradient through several forward/backward passes. We'll see this in action when we create the training loop with 🤗 Accelerate."
   ]
  },
  {
   "cell_type": "code",
   "execution_count": 18,
   "id": "bc36f1ad-c852-48cc-be6e-71040a9d909a",
   "metadata": {},
   "outputs": [
    {
     "name": "stderr",
     "output_type": "stream",
     "text": [
      "/home/matthias/.local/lib/python3.10/site-packages/accelerate/accelerator.py:447: FutureWarning: Passing the following arguments to `Accelerator` is deprecated and will be removed in version 1.0 of Accelerate: dict_keys(['dispatch_batches', 'split_batches']). Please pass an `accelerate.DataLoaderConfiguration` instead: \n",
      "dataloader_config = DataLoaderConfiguration(dispatch_batches=None, split_batches=False)\n",
      "  warnings.warn(\n"
     ]
    }
   ],
   "source": [
    "from transformers import Trainer, TrainingArguments\n",
    "from huggingface_hub import create_repo\n",
    "username = \"mdroth\"\n",
    "reponame = \"codeparrot-model\"\n",
    "try:\n",
    "    create_repo(repo_name)\n",
    "except:\n",
    "    print(f\"Repository exists already:\\n{username}/{reponame}\")\n",
    "args = TrainingArguments(\n",
    "    output_dir=\"sections/section_7/logs/codeparrot-model\",\n",
    "    per_device_train_batch_size=8,\n",
    "    per_device_eval_batch_size=8,\n",
    "    evaluation_strategy=\"steps\",\n",
    "    eval_steps=4000,\n",
    "    logging_steps=4000,\n",
    "    gradient_accumulation_steps=8,\n",
    "    num_train_epochs=1,\n",
    "    weight_decay=0.1,\n",
    "    warmup_steps=1000,\n",
    "    lr_scheduler_type=\"cosine\",\n",
    "    learning_rate=5e-4,\n",
    "    save_steps=4000,\n",
    "    fp16=True,\n",
    "    # push_to_hub=True, # not required since we will run trainer.push_to_hub(), anyway\n",
    "    hub_model_id=f\"{username}/{reponame}\"\n",
    ")\n",
    "trainer = Trainer(\n",
    "    model=model,\n",
    "    tokenizer=tokenizer,\n",
    "    args=args,\n",
    "    data_collator=data_collator,\n",
    "    train_dataset=tokenized_datasets[\"train\"].select(range(5000)),\n",
    "    #train_dataset=tokenized_datasets[\"train\"],\n",
    "    eval_dataset=tokenized_datasets[\"valid\"]\n",
    ")"
   ]
  },
  {
   "cell_type": "markdown",
   "id": "eb94186f-a411-44db-a70d-1837443f5ebd",
   "metadata": {},
   "source": [
    "Now we can just start the `Trainer` and wait for training to finish. Depending on whether you run it on the full or a subset of the training set this will take 20 or 2 hours, respectively, so grab a few coffees and a good book to read!"
   ]
  },
  {
   "cell_type": "code",
   "execution_count": 19,
   "id": "7c7cf455-a612-42de-a73d-9923566705e9",
   "metadata": {},
   "outputs": [
    {
     "data": {
      "text/html": [
       "\n",
       "    <div>\n",
       "      \n",
       "      <progress value='78' max='78' style='width:300px; height:20px; vertical-align: middle;'></progress>\n",
       "      [78/78 01:02, Epoch 0/1]\n",
       "    </div>\n",
       "    <table border=\"1\" class=\"dataframe\">\n",
       "  <thead>\n",
       " <tr style=\"text-align: left;\">\n",
       "      <th>Step</th>\n",
       "      <th>Training Loss</th>\n",
       "      <th>Validation Loss</th>\n",
       "    </tr>\n",
       "  </thead>\n",
       "  <tbody>\n",
       "  </tbody>\n",
       "</table><p>"
      ],
      "text/plain": [
       "<IPython.core.display.HTML object>"
      ]
     },
     "metadata": {},
     "output_type": "display_data"
    },
    {
     "data": {
      "text/plain": [
       "TrainOutput(global_step=78, training_loss=9.070992494240786, metrics={'train_runtime': 65.3956, 'train_samples_per_second': 76.458, 'train_steps_per_second': 1.193, 'total_flos': 326092455936000.0, 'train_loss': 9.070992494240786, 'epoch': 1.0})"
      ]
     },
     "execution_count": 19,
     "metadata": {},
     "output_type": "execute_result"
    }
   ],
   "source": [
    "trainer.train()"
   ]
  },
  {
   "cell_type": "markdown",
   "id": "9082788b-e4bd-4198-b669-231f96499db1",
   "metadata": {},
   "source": [
    "After training completes, we can push the model and tokenizer to the Hub:"
   ]
  },
  {
   "cell_type": "code",
   "execution_count": 20,
   "id": "49bb9924-9e0d-4c00-a179-8e7aa781e1b6",
   "metadata": {},
   "outputs": [
    {
     "data": {
      "application/vnd.jupyter.widget-view+json": {
       "model_id": "5c1ec9cda60e4a62a506478ed6c75b23",
       "version_major": 2,
       "version_minor": 0
      },
      "text/plain": [
       "Upload 2 LFS files:   0%|          | 0/2 [00:00<?, ?it/s]"
      ]
     },
     "metadata": {},
     "output_type": "display_data"
    },
    {
     "data": {
      "application/vnd.jupyter.widget-view+json": {
       "model_id": "f09e04a412464fd0be634cf917714dd5",
       "version_major": 2,
       "version_minor": 0
      },
      "text/plain": [
       "training_args.bin:   0%|          | 0.00/4.60k [00:00<?, ?B/s]"
      ]
     },
     "metadata": {},
     "output_type": "display_data"
    },
    {
     "data": {
      "application/vnd.jupyter.widget-view+json": {
       "model_id": "95c2afe7c2fc4be68f5ce5cfe68c35f8",
       "version_major": 2,
       "version_minor": 0
      },
      "text/plain": [
       "model.safetensors:   0%|          | 0.00/497M [00:00<?, ?B/s]"
      ]
     },
     "metadata": {},
     "output_type": "display_data"
    },
    {
     "data": {
      "text/plain": [
       "CommitInfo(commit_url='https://huggingface.co/mdroth/codeparrot-model/commit/04b2b5be39047045e2464c35897f89a9d63327cf', commit_message='End of training', commit_description='', oid='04b2b5be39047045e2464c35897f89a9d63327cf', pr_url=None, pr_revision=None, pr_num=None)"
      ]
     },
     "execution_count": 20,
     "metadata": {},
     "output_type": "execute_result"
    }
   ],
   "source": [
    "trainer.push_to_hub()"
   ]
  },
  {
   "cell_type": "markdown",
   "id": "5cc39cc7-bf1e-4374-befc-7030a55cdb35",
   "metadata": {},
   "source": [
    "> ✏️ Try it out! <font color=\"darkgreen\">It only took us about 30 lines of code in addition to the `TrainingArguments` to get from raw texts to training GPT-2. Try it out with your own dataset and see if you can get good results!</font>"
   ]
  },
  {
   "cell_type": "code",
   "execution_count": 21,
   "id": "b57c698a-2798-4fb4-a987-4e44b3829cfa",
   "metadata": {},
   "outputs": [
    {
     "name": "stderr",
     "output_type": "stream",
     "text": [
      "/home/matthias/.local/lib/python3.10/site-packages/accelerate/accelerator.py:447: FutureWarning: Passing the following arguments to `Accelerator` is deprecated and will be removed in version 1.0 of Accelerate: dict_keys(['dispatch_batches', 'split_batches']). Please pass an `accelerate.DataLoaderConfiguration` instead: \n",
      "dataloader_config = DataLoaderConfiguration(dispatch_batches=None, split_batches=False)\n",
      "  warnings.warn(\n"
     ]
    },
    {
     "data": {
      "text/html": [
       "\n",
       "    <div>\n",
       "      \n",
       "      <progress value='2186' max='2186' style='width:300px; height:20px; vertical-align: middle;'></progress>\n",
       "      [2186/2186 18:49, Epoch 1/1]\n",
       "    </div>\n",
       "    <table border=\"1\" class=\"dataframe\">\n",
       "  <thead>\n",
       " <tr style=\"text-align: left;\">\n",
       "      <th>Step</th>\n",
       "      <th>Training Loss</th>\n",
       "      <th>Validation Loss</th>\n",
       "    </tr>\n",
       "  </thead>\n",
       "  <tbody>\n",
       "    <tr>\n",
       "      <td>1000</td>\n",
       "      <td>5.424900</td>\n",
       "      <td>4.284650</td>\n",
       "    </tr>\n",
       "    <tr>\n",
       "      <td>2000</td>\n",
       "      <td>4.035300</td>\n",
       "      <td>3.761167</td>\n",
       "    </tr>\n",
       "  </tbody>\n",
       "</table><p>"
      ],
      "text/plain": [
       "<IPython.core.display.HTML object>"
      ]
     },
     "metadata": {},
     "output_type": "display_data"
    },
    {
     "data": {
      "text/plain": [
       "TrainOutput(global_step=2186, training_loss=4.656807301792658, metrics={'train_runtime': 1129.4836, 'train_samples_per_second': 61.929, 'train_steps_per_second': 1.935, 'total_flos': 4553025905664000.0, 'train_loss': 4.656807301792658, 'epoch': 1.0})"
      ]
     },
     "execution_count": 21,
     "metadata": {},
     "output_type": "execute_result"
    }
   ],
   "source": [
    "# trying it out 2\n",
    "def tokenize2(element):\n",
    "    outputs = tokenizer(\n",
    "        element[\"question\"],\n",
    "        padding=True,\n",
    "        truncation=True,\n",
    "        max_length=128,\n",
    "        return_overflowing_tokens=True,\n",
    "        return_length=True,\n",
    "    )\n",
    "    return outputs\n",
    "try2_dataset = (\n",
    "    load_dataset(\"Open-Orca/OpenOrca\")[\"train\"]\n",
    "    .select(range(100000)) # use subset of data\n",
    "    .filter(lambda item: isinstance(item[\"response\"], str)) # ensure the response is a string\n",
    "    .filter(lambda item: item[\"response\"][0].isdigit() or item[\"response\"][0].isalpha()) # .isdigit => digit, .isalpha => letter\n",
    "    .map(tokenize2) # tokenize\n",
    "    .map(lambda item: {\"input_ids\": item[\"input_ids\"][0]}) # remove nesting\n",
    "    .remove_columns([\"id\", \"system_prompt\", \"length\", \"overflow_to_sample_mapping\", \"attention_mask\", \"question\", \"response\"])\n",
    ")\n",
    "print(try2_dataset)\n",
    "try2_train_valid_split = try2_dataset.train_test_split(test_size=0.25)\n",
    "try2_train_split = try2_train_valid_split[\"train\"]\n",
    "try2_valid_split = try2_train_valid_split[\"test\"]\n",
    "try2_model = GPT2LMHeadModel(config)\n",
    "try2_datacollator = DataCollatorForLanguageModeling(tokenizer, mlm=False)\n",
    "#\n",
    "try2_args = TrainingArguments(\n",
    "    output_dir=\"sections/section_7/logs/try2_model\",\n",
    "    per_device_train_batch_size=8,\n",
    "    per_device_eval_batch_size=8,\n",
    "    evaluation_strategy=\"steps\",\n",
    "    eval_steps=1000,\n",
    "    logging_steps=1000,\n",
    "    gradient_accumulation_steps=4,\n",
    "    num_train_epochs=1,\n",
    "    weight_decay=0.1,\n",
    "    warmup_steps=250,\n",
    "    lr_scheduler_type=\"cosine\",\n",
    "    learning_rate=5e-4,\n",
    "    save_steps=1000,\n",
    "    fp16=True\n",
    ")\n",
    "try2_trainer = Trainer(\n",
    "    model=try2_model,\n",
    "    tokenizer=tokenizer,\n",
    "    args=try2_args,\n",
    "    data_collator=try2_datacollator,\n",
    "    train_dataset=try2_train_split,\n",
    "    eval_dataset=try2_valid_split\n",
    ")\n",
    "try2_trainer.train()"
   ]
  },
  {
   "cell_type": "markdown",
   "id": "c593dd04-2a2d-449e-81d0-cce6c7fa751f",
   "metadata": {},
   "source": [
    "> 💡 <font color=\"darkgreen\">If you have access to a machine with multiple GPUs, try to run the code there. The `Trainer` automatically manages multiple machines, and this can speed up training tremendously.</font>\n",
    "\n",
    "## Code generation with a pipeline\n",
    "Now is the moment of truth: let's see how well the trained model actually works! We can see in the logs that the loss went down steadily, but to put the model to the test let's take a look at how well it works on some prompts. To do that we'll wrap the model in a text generation `pipeline`, and we'll put it on the GPU for fast generations if there is one available:"
   ]
  },
  {
   "cell_type": "code",
   "execution_count": 22,
   "id": "64f86e4f-02aa-494f-b0bc-1844e5767acb",
   "metadata": {},
   "outputs": [
    {
     "name": "stderr",
     "output_type": "stream",
     "text": [
      "/home/matthias/.local/lib/python3.10/site-packages/huggingface_hub/file_download.py:1150: FutureWarning: `resume_download` is deprecated and will be removed in version 1.0.0. Downloads always resume when possible. If you want to force a new download, use `force_download=True`.\n",
      "  warnings.warn(\n"
     ]
    },
    {
     "data": {
      "application/vnd.jupyter.widget-view+json": {
       "model_id": "1b18aba948f14c5cbc21224f5b4bd9ce",
       "version_major": 2,
       "version_minor": 0
      },
      "text/plain": [
       "model.safetensors:   0%|          | 0.00/497M [00:00<?, ?B/s]"
      ]
     },
     "metadata": {},
     "output_type": "display_data"
    },
    {
     "data": {
      "text/plain": [
       "<transformers.pipelines.text_generation.TextGenerationPipeline at 0x74a7f21bafb0>"
      ]
     },
     "execution_count": 22,
     "metadata": {},
     "output_type": "execute_result"
    }
   ],
   "source": [
    "import torch\n",
    "from transformers import pipeline\n",
    "device = torch.device(\"cuda\") if torch.cuda.is_available() else torch.device(\"cpu\")\n",
    "pipe = pipeline(\n",
    "    \"text-generation\",\n",
    "    model=f\"{username}/{reponame}\",\n",
    "    device=device\n",
    ")\n",
    "pipe"
   ]
  },
  {
   "cell_type": "markdown",
   "id": "7f4952ce-b475-4b9f-a5d8-0c03434454ce",
   "metadata": {},
   "source": [
    "Let's start with the simple task of creating a scatter plot:"
   ]
  },
  {
   "cell_type": "code",
   "execution_count": 23,
   "id": "b9413dc5-d137-440c-89d7-8ef1a28c2540",
   "metadata": {},
   "outputs": [
    {
     "name": "stderr",
     "output_type": "stream",
     "text": [
      "Setting `pad_token_id` to `eos_token_id`:0 for open-end generation.\n"
     ]
    }
   ],
   "source": [
    "import numpy as np\n",
    "import matplotlib.pyplot as plt\n",
    "txt = \"\"\"\\\n",
    "# create some data\n",
    "x = np.random.randn(100)\n",
    "y = np.random.randn(100)\n",
    "\n",
    "# create scatter plot with (x, y)\n",
    "\"\"\"\n",
    "print(pipe(txt, num_return_sequences=1)[0][\"generated_text\"])"
   ]
  },
  {
   "cell_type": "markdown",
   "id": "009cad4e-1ce8-4073-9b1e-cec9151f3649",
   "metadata": {},
   "source": [
    "After several tries, the above cell output the following working code:"
   ]
  },
  {
   "cell_type": "code",
   "execution_count": 24,
   "id": "e093ca8f-4917-42ef-9ef6-95be2c4bdde9",
   "metadata": {},
   "outputs": [
    {
     "data": {
      "image/png": "[encoded data removed]",
      "text/plain": [
       "<Figure size 640x480 with 1 Axes>"
      ]
     },
     "metadata": {},
     "output_type": "display_data"
    }
   ],
   "source": [
    "# create some data\n",
    "x = np.random.randn(100)\n",
    "y = np.random.randn(100)\n",
    "\n",
    "# create scatter plot with (x, y)\n",
    "p = plt.scatter(x, y)"
   ]
  },
  {
   "cell_type": "markdown",
   "id": "7949c7ff-2f69-4177-9aca-c71df3b619fd",
   "metadata": {},
   "source": [
    "Does it also work for a `pandas` operation? Let's see if we can create a `DataFrame` from two arrays:"
   ]
  },
  {
   "cell_type": "code",
   "execution_count": 25,
   "id": "0ba3b05c-f5f6-4e89-865d-3905e398ac60",
   "metadata": {},
   "outputs": [
    {
     "name": "stderr",
     "output_type": "stream",
     "text": [
      "Setting `pad_token_id` to `eos_token_id`:0 for open-end generation.\n"
     ]
    }
   ],
   "source": [
    "txt = \"\"\"\\\n",
    "# create some data\n",
    "x = np.random.randn(100)\n",
    "y = np.random.randn(100)\n",
    "\n",
    "# create dataframe from x and y\n",
    "\"\"\"\n",
    "print(pipe(txt, num_return_sequences=1)[0][\"generated_text\"])"
   ]
  },
  {
   "cell_type": "markdown",
   "id": "645ad4b7-42f0-44a1-befb-caa53fcefc8b",
   "metadata": {},
   "source": [
    "xxx Nice, that's the correct answer — although it then inserts the column `x` again. Since the number of generated tokens is limited, the following `for` loop is cut off. Let's see if we can do something a bit more complex and have the model help us use the `groupby` operation: xxx"
   ]
  },
  {
   "cell_type": "code",
   "execution_count": 26,
   "id": "04e2caae-9a28-432d-b0fd-8ab2b1cc491a",
   "metadata": {},
   "outputs": [
    {
     "name": "stderr",
     "output_type": "stream",
     "text": [
      "Setting `pad_token_id` to `eos_token_id`:0 for open-end generation.\n"
     ]
    }
   ],
   "source": [
    "txt = \"\"\"\\\n",
    "# dataframe with profession, income and name\n",
    "df = pd.DataFrame({'profession': x, 'income':y, 'name': z})\n",
    "\n",
    "# calculate the mean income per profession\n",
    "\"\"\"\n",
    "print(pipe(txt, num_return_sequences=1)[0][\"generated_text\"])"
   ]
  },
  {
   "cell_type": "markdown",
   "id": "02446c1f-6f57-4eac-9f1c-0493afec8103",
   "metadata": {},
   "source": [
    "xxx Not bad; that's the right way to do it. Finally, let's see if we can also use it for `scikit-learn` and set up a Random Forest model: xxx"
   ]
  },
  {
   "cell_type": "code",
   "execution_count": 27,
   "id": "796c6340-ab08-47d3-a3a5-e1ee51aa323a",
   "metadata": {},
   "outputs": [
    {
     "name": "stderr",
     "output_type": "stream",
     "text": [
      "Setting `pad_token_id` to `eos_token_id`:0 for open-end generation.\n"
     ]
    }
   ],
   "source": [
    "txt = \"\"\"\n",
    "# import random forest regressor from scikit-learn\n",
    "from sklearn.ensemble import RandomForestRegressor\n",
    "\n",
    "# fit random forest model with 300 estimators on X, y:\n",
    "\"\"\"\n",
    "print(pipe(txt, num_return_sequences=1)[0][\"generated_text\"])"
   ]
  },
  {
   "cell_type": "markdown",
   "id": "fdfdf1e4-06ce-4d1c-90e5-142f78358843",
   "metadata": {},
   "source": [
    "xxx Looking at these few examples, it seems that the model has learned some of the syntax of the Python data science stack (of course, we would need to evaluate it more thoroughly before deploying the model in the real world). xxx\n",
    "\n",
    "Sometimes it requires more customization of the model training to achieve the necessary performance for a given use case, however. For example, what if we would like to dynamically update the batch size or have a conditional training loop that skips bad examples on the fly? One option would be to subclass the `Trainer` and add the necessary changes, but sometimes it's simpler to write the training loop from scratch. That's where 🤗 Accelerate comes in.\n",
    "\n",
    "## Training with 🤗 Accelerate\n",
    "We've seen how to train a model with the `Trainer`, which can allow for some customization. However, sometimes we want full control over the training loop, or we want to make some exotic changes. In this case 🤗 Accelerate is a great choice, and in this section we'll go through the steps to use it to train our model. To make things more interesting, we’ll also add a twist to the training loop."
   ]
  },
  {
   "cell_type": "code",
   "execution_count": 28,
   "id": "3030a100-fb75-41de-b295-6074bb0f3ef9",
   "metadata": {},
   "outputs": [
    {
     "name": "stderr",
     "output_type": "stream",
     "text": [
      "/home/matthias/.local/lib/python3.10/site-packages/IPython/core/display.py:431: UserWarning: Consider using IPython.display.IFrame instead\n",
      "  warnings.warn(\"Consider using IPython.display.IFrame instead\")\n"
     ]
    },
    {
     "data": {
      "text/html": [
       "<iframe width=\"640\" height=\"360\" src=\"https://www.youtube.com/embed/Hm8_PgVTFuc\" allowfullscreen></iframe>"
      ],
      "text/plain": [
       "<IPython.core.display.HTML object>"
      ]
     },
     "execution_count": 28,
     "metadata": {},
     "output_type": "execute_result"
    }
   ],
   "source": [
    "HTML('<iframe width=\"640\" height=\"360\" src=\"https://www.youtube.com/embed/Hm8_PgVTFuc\" allowfullscreen></iframe>')"
   ]
  },
  {
   "cell_type": "markdown",
   "id": "82fd913f-6c92-463e-b9ec-7c6067be5c43",
   "metadata": {},
   "source": [
    "Since we are mainly interested in sensible autocompletion for the the data science libraries, it makes sense to give more weight to training samples that make more use of these libraries. We can easily identify these examples through the use of keywords such as `plt`, `pd`, `sk`, `fit`, and `predict`, which are the most frequent import names for `matplotlib.pyplot`, `pandas`, and `sklearn` as well as the fit/predict pattern of the latter. If these are each represented as a single token, we can easily check if they occur in the input sequence. Tokens can have a whitespace prefix, so we’ll also check for those versions in the tokenizer vocabulary. To verify that it works, we’ll add one test token which should be split into multiple tokens:"
   ]
  },
  {
   "cell_type": "code",
   "execution_count": 29,
   "id": "800eb927-5fde-422b-8a76-433e342f3f60",
   "metadata": {},
   "outputs": [],
   "source": [
    "keytoken_ids = []\n",
    "for keyword in [\"plt\", \"pd\", \"sk\", \"fit\", \"predict\", \"accelerate\"]:\n",
    "    ids = tokenizer([keyword]).input_ids[0]\n",
    "    if len(ids) == 1:\n",
    "        keytoken_ids.append(ids[0])\n",
    "    else:\n",
    "        print(f\"Keyword has number of tokens ≠ 1:\\n{keyword}\")"
   ]
  },
  {
   "cell_type": "markdown",
   "id": "1e4e3631-6e62-41e2-b876-07ff3d723fa4",
   "metadata": {},
   "source": [
    "Great, that seems to work nicely! We can now write a custom loss function that takes the input sequence, the logits, and the key tokens we just selected as inputs. First, we need to align the logits and inputs: the input sequence shifted by one to the right forms the labels, since the next token is the label for the current token. We can achieve this by starting the labels from the second token of the input sequence, since the model does not make a prediction for the first token anyway. Then we cut off the last logit, as we don't have a label for the token that follows the full input sequence. With that we can compute the loss per sample and count the occurrences of all keywords in each sample. Finally, we calculate the weighted average over all samples using the occurrences as weights. Since we don't want to throw away all the samples that have no keywords, we add `1` to the weights:"
   ]
  },
  {
   "cell_type": "code",
   "execution_count": 30,
   "id": "ea63a3fa",
   "metadata": {},
   "outputs": [
    {
     "data": {
      "text/plain": [
       "<function __main__.keytoken_weighted_loss(inputs, logits, keytoken_ids, alpha=1.0)>"
      ]
     },
     "execution_count": 30,
     "metadata": {},
     "output_type": "execute_result"
    }
   ],
   "source": [
    "from torch.nn import CrossEntropyLoss\n",
    "import torch\n",
    "#\n",
    "def keytoken_weighted_loss(inputs, logits, keytoken_ids, alpha=1.0):\n",
    "    # Shift so that tokens < n predict n\n",
    "    shift_labels = inputs[..., 1:].contiguous()\n",
    "    shift_logits = logits[..., :-1, :].contiguous()\n",
    "    # Calculate per-token loss\n",
    "    loss_fct = CrossEntropyLoss(reduce=False)\n",
    "    loss = loss_fct(shift_logits.view(-1, shift_logits.size(-1)), shift_labels.view(-1))\n",
    "    # Resize and average loss per sample\n",
    "    loss_per_sample = loss.view(shift_logits.size(0), shift_logits.size(1)).mean(axis=1)\n",
    "    # Calculate and scale weighting\n",
    "    weights = torch.stack([(inputs == kt).float() for kt in keytoken_ids]).sum(\n",
    "        axis=[0, 2]\n",
    "    )\n",
    "    weights = alpha * (1.0 + weights)\n",
    "    # Calculate weighted average\n",
    "    weighted_loss = (loss_per_sample * weights).mean()\n",
    "    return weighted_loss\n",
    "\n",
    "keytoken_weighted_loss"
   ]
  },
  {
   "cell_type": "markdown",
   "id": "253cbd79-49dd-4cf5-a3ee-cd967758902b",
   "metadata": {},
   "source": [
    "Before we can start training with this awesome new loss function, we need to prepare a few things:\n",
    "- We need dataloaders to load the data in batches.\n",
    "- We need to set up weight decay parameters.\n",
    "- From time to time we want to evaluate, so it makes sense to wrap the evaluation code in a function.\n",
    "\n",
    "Let's start with the dataloaders. We only need to set the dataset's format to `\"torch\"`, and then we can pass it to a PyTorch `DataLoader` with the appropriate batch size:"
   ]
  },
  {
   "cell_type": "code",
   "execution_count": 31,
   "id": "905a6fef-da6d-40bc-9c9e-41095ff18b45",
   "metadata": {},
   "outputs": [],
   "source": [
    "from torch.utils.data.dataloader import DataLoader\n",
    "tokenized_datasets.set_format(\"torch\") # tokenized_datasets[\"train\"].select(range(5000))\n",
    "train_dataloader = DataLoader(tokenized_datasets[\"train\"].select(range(5000)), batch_size=8, shuffle=True)\n",
    "eval_dataloader = DataLoader(tokenized_datasets[\"valid\"], batch_size=8)"
   ]
  },
  {
   "cell_type": "markdown",
   "id": "013b84ca-6d4c-4eba-bbb5-e5d07b509e01",
   "metadata": {},
   "source": [
    "Next, we group the parameters so that the `optimizer` knows which ones will get an additional weight decay. Usually, all `bias` and `LayerNorm` weights terms are exempt from this; here's how we can do this:"
   ]
  },
  {
   "cell_type": "code",
   "execution_count": 32,
   "id": "0105d3b3-9732-4b23-b628-35dece6fa51c",
   "metadata": {},
   "outputs": [
    {
     "data": {
      "text/plain": [
       "<function __main__.get_grouped_params(model, no_decay=['bias', 'LayerNorm.weight'])>"
      ]
     },
     "execution_count": 32,
     "metadata": {},
     "output_type": "execute_result"
    }
   ],
   "source": [
    "weight_decay = 0.1\n",
    "def get_grouped_params(model, no_decay=[\"bias\", \"LayerNorm.weight\"]):\n",
    "    params_with_wd, params_without_wd = [], []\n",
    "    for n, p in model.named_parameters():\n",
    "        if any(nd in n for nd in no_decay):\n",
    "            params_without_wd.append(p)\n",
    "        else:\n",
    "            params_with_wd.append(p)\n",
    "    return [\n",
    "        {\"params\": params_with_wd, \"weight_decay\": weight_decay},\n",
    "        {\"params\": params_without_wd, \"weight_decay\": 0.0},\n",
    "    ]\n",
    "#\n",
    "get_grouped_params"
   ]
  },
  {
   "cell_type": "markdown",
   "id": "9d9e5f1f-cd8f-43b1-818e-78b59fcf9d58",
   "metadata": {},
   "source": [
    "Since we want to evaluate the model regularly on the validation set during training, let's write a function for that as well. It just runs through the evaluation dataloader and gathers all the losses across processes:"
   ]
  },
  {
   "cell_type": "code",
   "execution_count": 33,
   "id": "bfbb4d18-d6eb-4162-9e2f-c7f6a254aa6f",
   "metadata": {},
   "outputs": [
    {
     "data": {
      "text/plain": [
       "<function __main__.evaluate(model)>"
      ]
     },
     "execution_count": 33,
     "metadata": {},
     "output_type": "execute_result"
    }
   ],
   "source": [
    "def evaluate(model): # default version: evaluate():\n",
    "    model.eval()\n",
    "    losses = []\n",
    "    for step, batch in enumerate(eval_dataloader):\n",
    "        with torch.no_grad():\n",
    "            # https://stackoverflow.com/questions/63302534/how-to-write-torch-devicecuda-if-torch-cuda-is-available-else-cpu-as-a-f\n",
    "            device = torch.device(\"cuda\" if torch.cuda.is_available() else \"cpu\")\n",
    "            outputs = model(batch[\"input_ids\"].to(device), labels=batch[\"input_ids\"].to(device))\n",
    "        loss = outputs.loss\n",
    "        losses.append(accelerator.gather(outputs.loss))\n",
    "    # convert losses (=list) to tensor: https://discuss.pytorch.org/t/best-way-to-convert-a-list-to-a-tensor/59949/8\n",
    "    losses = torch.FloatTensor(losses)\n",
    "    loss = torch.mean(losses)\n",
    "    try:\n",
    "        perplexity = torch.exp(loss)\n",
    "    except OverflowError:\n",
    "        print(\"OverflowError!\")\n",
    "        perplexity = float(\"inf\")\n",
    "    return loss.item(), perplexity.item()\n",
    "\n",
    "evaluate"
   ]
  },
  {
   "cell_type": "markdown",
   "id": "413f2322-4bd9-406c-9703-4b42ad1cbfb2",
   "metadata": {},
   "source": [
    "With the `evaluate()` function we can report loss and [perplexity](https://huggingface.co/course/chapter7/3) at regular intervals. Next, we redefine our model to make sure we train from scratch again:"
   ]
  },
  {
   "cell_type": "code",
   "execution_count": 34,
   "id": "0f504568-e55d-466a-b7b0-c310fdb8e848",
   "metadata": {},
   "outputs": [
    {
     "data": {
      "text/plain": [
       "transformers.models.gpt2.modeling_gpt2.GPT2LMHeadModel"
      ]
     },
     "execution_count": 34,
     "metadata": {},
     "output_type": "execute_result"
    }
   ],
   "source": [
    "model = GPT2LMHeadModel(config)\n",
    "type(model)"
   ]
  },
  {
   "cell_type": "markdown",
   "id": "f792c30c-8b96-426c-b358-cf5e0f9cfcb1",
   "metadata": {},
   "source": [
    "We can then define our optimizer, using the function from before to split the parameters for weight decay:"
   ]
  },
  {
   "cell_type": "code",
   "execution_count": 35,
   "id": "b09baebb-2fa9-4b63-a323-5a87ac4fdbc5",
   "metadata": {},
   "outputs": [
    {
     "data": {
      "text/plain": [
       "AdamW (\n",
       "Parameter Group 0\n",
       "    amsgrad: False\n",
       "    betas: (0.9, 0.999)\n",
       "    capturable: False\n",
       "    differentiable: False\n",
       "    eps: 1e-08\n",
       "    foreach: None\n",
       "    fused: None\n",
       "    lr: 0.0005\n",
       "    maximize: False\n",
       "    weight_decay: 0.1\n",
       "\n",
       "Parameter Group 1\n",
       "    amsgrad: False\n",
       "    betas: (0.9, 0.999)\n",
       "    capturable: False\n",
       "    differentiable: False\n",
       "    eps: 1e-08\n",
       "    foreach: None\n",
       "    fused: None\n",
       "    lr: 0.0005\n",
       "    maximize: False\n",
       "    weight_decay: 0.0\n",
       ")"
      ]
     },
     "execution_count": 35,
     "metadata": {},
     "output_type": "execute_result"
    }
   ],
   "source": [
    "from torch.optim import AdamW\n",
    "optimizer = AdamW(get_grouped_params(model), lr=5e-4)\n",
    "optimizer"
   ]
  },
  {
   "cell_type": "markdown",
   "id": "cdff238f-f52a-4445-99ca-9af44af8b6f5",
   "metadata": {},
   "source": [
    "Now let's prepare the model, optimizer, and dataloaders so we can start training:"
   ]
  },
  {
   "cell_type": "code",
   "execution_count": 36,
   "id": "5cb52394-fe9e-41eb-88fd-371733a9b7a9",
   "metadata": {},
   "outputs": [
    {
     "data": {
      "text/plain": [
       "AcceleratedOptimizer (\n",
       "Parameter Group 0\n",
       "    amsgrad: False\n",
       "    betas: (0.9, 0.999)\n",
       "    capturable: False\n",
       "    differentiable: False\n",
       "    eps: 1e-08\n",
       "    foreach: None\n",
       "    fused: None\n",
       "    lr: 0.0005\n",
       "    maximize: False\n",
       "    weight_decay: 0.1\n",
       "\n",
       "Parameter Group 1\n",
       "    amsgrad: False\n",
       "    betas: (0.9, 0.999)\n",
       "    capturable: False\n",
       "    differentiable: False\n",
       "    eps: 1e-08\n",
       "    foreach: None\n",
       "    fused: None\n",
       "    lr: 0.0005\n",
       "    maximize: False\n",
       "    weight_decay: 0.0\n",
       ")"
      ]
     },
     "execution_count": 36,
     "metadata": {},
     "output_type": "execute_result"
    }
   ],
   "source": [
    "from accelerate import Accelerator\n",
    "accelerator = Accelerator() # removed fp16=True argument\n",
    "model, optimizer, train_dataloader, eval_dataloader = accelerator.prepare(\n",
    "    model, optimizer, train_dataloader, eval_dataloader\n",
    ")\n",
    "optimizer"
   ]
  },
  {
   "cell_type": "markdown",
   "id": "30e1caf2-3716-4d55-af79-0614af890de6",
   "metadata": {},
   "source": [
    "> 🚨 <font color=\"darkgreen\">If you're training on a TPU, you'll need to move all the code starting at the cell above into a dedicated training function. See [Chapter 3](https://huggingface.co/course/chapter3) for more details.</font>\n",
    "\n",
    "Now that we have sent our `train_dataloader` to `accelerator.prepare()`, we can use its length to compute the number of training steps. Remember that we should always do this after preparing the dataloader, as that method will change its length. We use a classic linear schedule from the learning rate to 0:"
   ]
  },
  {
   "cell_type": "code",
   "execution_count": 37,
   "id": "d04919db-e9d2-453a-9fbd-363db281e1ce",
   "metadata": {},
   "outputs": [
    {
     "data": {
      "text/plain": [
       "<torch.optim.lr_scheduler.LambdaLR at 0x74a6256b87f0>"
      ]
     },
     "execution_count": 37,
     "metadata": {},
     "output_type": "execute_result"
    }
   ],
   "source": [
    "from transformers import get_scheduler\n",
    "num_train_epochs = 1\n",
    "num_update_steps_per_epoch = len(train_dataloader)\n",
    "num_training_steps = num_train_epochs * num_update_steps_per_epoch\n",
    "lr_scheduler = get_scheduler(\n",
    "    name=\"linear\",\n",
    "    optimizer=optimizer,\n",
    "    num_warmup_steps=1_000,\n",
    "    num_training_steps=num_training_steps,\n",
    ")\n",
    "lr_scheduler"
   ]
  },
  {
   "cell_type": "markdown",
   "id": "490e80fe-7ffc-442b-bce1-5bff114d899c",
   "metadata": {},
   "source": [
    "Lastly, to push our model to the Hub, we will need to create a `Repository` object in a working folder. First log in to the Hugging Face Hub, if you aren't logged in already. We'll determine the repository name from the model ID we want to give our model (feel free to replace the `repo_name` with your own choice; it just needs to contain your username, which is what the function `get_full_repo_name()` does):"
   ]
  },
  {
   "cell_type": "code",
   "execution_count": 38,
   "id": "d9410b34-013a-4a07-b0e4-d398ff07fea3",
   "metadata": {},
   "outputs": [
    {
     "data": {
      "text/plain": [
       "'mdroth/codeparrot-ds-accelerate'"
      ]
     },
     "execution_count": 38,
     "metadata": {},
     "output_type": "execute_result"
    }
   ],
   "source": [
    "from huggingface_hub import Repository, get_full_repo_name, create_repo\n",
    "model_name = \"codeparrot-ds-accelerate\"\n",
    "repo_name = get_full_repo_name(model_name)\n",
    "repo_name"
   ]
  },
  {
   "cell_type": "markdown",
   "id": "31118a3b-f3cc-4646-8be7-d44410334358",
   "metadata": {},
   "source": [
    "Then we can clone that repository in a local folder. If it already exists, this local folder should be an existing clone of the repository we are working with:"
   ]
  },
  {
   "cell_type": "code",
   "execution_count": 39,
   "id": "a42d6acc-33bc-4f71-b9d7-3895ef431608",
   "metadata": {},
   "outputs": [
    {
     "name": "stderr",
     "output_type": "stream",
     "text": [
      "/home/matthias/.local/lib/python3.10/site-packages/huggingface_hub/utils/_deprecation.py:131: FutureWarning: 'Repository' (from 'huggingface_hub.repository') is deprecated and will be removed from version '1.0'. Please prefer the http-based alternatives instead. Given its large adoption in legacy code, the complete removal is only planned on next major release.\n",
      "For more details, please read https://huggingface.co/docs/huggingface_hub/concepts/git_vs_http.\n",
      "  warnings.warn(warning_message, FutureWarning)\n",
      "/home/matthias/Desktop/MachineLearning/Huggingface-course/sections/section_7/logs/codeparrot-ds-accelerate is already a clone of https://huggingface.co/mdroth/codeparrot-ds-accelerate. Make sure you pull the latest changes with `repo.git_pull()`.\n"
     ]
    }
   ],
   "source": [
    "output_dir = \"sections/section_7/logs/codeparrot-ds-accelerate\"\n",
    "# try to get repo\n",
    "try:\n",
    "    repo = Repository(output_dir, clone_from=repo_name)\n",
    "    repo_message = f\"The '{repo_name}' repo was created earlier.\"\n",
    "# otherwise, create repo\n",
    "except:\n",
    "    repo = create_repo(repo_name)\n",
    "    repo_message = f\"The '{repo_name}' repo has just been created.\"\n",
    "print(repo_message)"
   ]
  },
  {
   "cell_type": "markdown",
   "id": "9918a3c4-a384-48bf-84e3-5c076de746b2",
   "metadata": {},
   "source": [
    "We can now upload anything we save in `output_dir` by calling the `repo.push_to_hub()` method. This will help us upload the intermediate models at the end of each epoch.\n",
    "\n",
    "Before we train, let's run a quick test to see if the evaluation function works properly:"
   ]
  },
  {
   "cell_type": "code",
   "execution_count": 40,
   "id": "63d39e9e-c190-402d-a0f4-7787e8046114",
   "metadata": {},
   "outputs": [
    {
     "data": {
      "text/plain": [
       "(10.927971839904785, 55713.16796875)"
      ]
     },
     "execution_count": 40,
     "metadata": {},
     "output_type": "execute_result"
    }
   ],
   "source": [
    "evaluate(model=model)"
   ]
  },
  {
   "cell_type": "markdown",
   "id": "ab33b0f6-ff97-4ba8-8a2a-e2108fedba15",
   "metadata": {},
   "source": [
    "Those are very high values for loss and perplexity, but that's not surprising as we haven't trained the model yet. With that, we have everything prepared to write the core part of the training script: the training loop. In the training loop we iterate over the dataloader and pass the batches to the model. With the logits, we can then evaluate our custom loss function. We scale the loss by the number of gradient accumulation steps so as not to create larger losses when aggregating more steps. Before we optimize, we also clip the gradients for better convergence. Finally, every few steps we evaluate the model on the evaluation set with our new `evaluate()` function:"
   ]
  },
  {
   "cell_type": "code",
   "execution_count": 41,
   "id": "f1158dd0-d177-40db-8f49-eec5299159ad",
   "metadata": {},
   "outputs": [
    {
     "data": {
      "application/vnd.jupyter.widget-view+json": {
       "model_id": "f2623eda0d7c4a88aaaccc0362d29f22",
       "version_major": 2,
       "version_minor": 0
      },
      "text/plain": [
       "  0%|          | 0/625 [00:00<?, ?it/s]"
      ]
     },
     "metadata": {},
     "output_type": "display_data"
    },
    {
     "name": "stderr",
     "output_type": "stream",
     "text": [
      "/home/matthias/.local/lib/python3.10/site-packages/torch/nn/_reduction.py:42: UserWarning: size_average and reduce args will be deprecated, please use reduction='none' instead.\n",
      "  warnings.warn(warning.format(ret))\n"
     ]
    }
   ],
   "source": [
    "from tqdm.notebook import tqdm\n",
    "eval_steps = 5_000\n",
    "model.train()\n",
    "samples_per_step = 1\n",
    "completed_steps = 0\n",
    "gradient_accumulation_steps = 8\n",
    "for epoch in range(num_train_epochs):\n",
    "    for step, batch in tqdm(enumerate(train_dataloader, start=1), total=num_training_steps):\n",
    "        logits = model(batch[\"input_ids\"]).logits\n",
    "        loss = keytoken_weighted_loss(batch[\"input_ids\"], logits, keytoken_ids)\n",
    "        if step % 45_000 == 0:\n",
    "            accelerator.print(\n",
    "                {\n",
    "                    \"samples\": step * samples_per_step,\n",
    "                    \"steps\": completed_steps,\n",
    "                    \"loss/train\": loss.item() * gradient_accumulation_steps,\n",
    "                }\n",
    "            )\n",
    "        loss = loss / gradient_accumulation_steps\n",
    "        accelerator.backward(loss)\n",
    "        if step % gradient_accumulation_steps == 0:\n",
    "            accelerator.clip_grad_norm_(model.parameters(), 1.0)\n",
    "            optimizer.step()\n",
    "            lr_scheduler.step()\n",
    "            optimizer.zero_grad()\n",
    "            completed_steps += 1\n",
    "        if (step % (eval_steps * gradient_accumulation_steps)) == 0:\n",
    "            eval_loss, perplexity = evaluate(model=model) # evaluate() contains model.eval()\n",
    "            accelerator.print({\"loss/eval\": eval_loss, \"perplexity\": perplexity})\n",
    "            model.train()\n",
    "            accelerator.wait_for_everyone()\n",
    "            unwrapped_model = accelerator.unwrap_model(model)\n",
    "            unwrapped_model.save_pretrained(output_dir, save_function=accelerator.save)\n",
    "            if accelerator.is_main_process:\n",
    "                tokenizer.save_pretrained(output_dir)\n",
    "                repo.push_to_hub(commit_message=f\"Training in progress step {step}\", blocking=False)"
   ]
  },
  {
   "cell_type": "markdown",
   "id": "68b158fb-0fd0-468a-a1fa-60971851ede4",
   "metadata": {},
   "source": [
    "And that's it — you now have your own custom training loop for causal language models such as GPT-2 that you can further customize to your needs.\n",
    "\n",
    "> ✏️ Try it out! <font color=\"darkgreen\">Either create your own custom loss function tailored to your use case, or add another custom step into the training loop.</font>"
   ]
  },
  {
   "cell_type": "code",
   "execution_count": 42,
   "id": "85ee911a-06fc-453e-8266-f545b1ebe004",
   "metadata": {},
   "outputs": [
    {
     "data": {
      "application/vnd.jupyter.widget-view+json": {
       "model_id": "48260d5b629e41a5b0eb8b31f03ddcca",
       "version_major": 2,
       "version_minor": 0
      },
      "text/plain": [
       "  0%|          | 0/625 [00:00<?, ?it/s]"
      ]
     },
     "metadata": {},
     "output_type": "display_data"
    }
   ],
   "source": [
    "###########################################################################################\n",
    "# trying it out 3                                                                         #\n",
    "# - Use a dataset subset and a custom loss function: cross entropy!                       #\n",
    "# - Also check the article on cost functions for causal language models at ...            #\n",
    "# - ... \"Huggingface-course/sections/section_7/CrossEntropy_NLL_Perplexity_Tutorial.pdf\"! #\n",
    "###########################################################################################\n",
    "from tqdm.notebook import tqdm\n",
    "eval_steps = 5_000\n",
    "model.train()\n",
    "samples_per_step = 1\n",
    "completed_steps = 0\n",
    "gradient_accumulation_steps = 8\n",
    "accelerator = Accelerator()\n",
    "for epoch in range(num_train_epochs):\n",
    "    for step, batch in tqdm(enumerate(train_dataloader, start=1), total=num_training_steps):\n",
    "        logits = model(batch[\"input_ids\"]).logits\n",
    "        loss = keytoken_weighted_loss(batch[\"input_ids\"], logits, keytoken_ids)\n",
    "        if step % 45_000 == 0:\n",
    "            accelerator.print(\n",
    "                {\n",
    "                    \"samples\": step * samples_per_step,\n",
    "                    \"steps\": completed_steps,\n",
    "                    \"loss/train\": loss.item() * gradient_accumulation_steps,\n",
    "                }\n",
    "            )\n",
    "        loss = loss / gradient_accumulation_steps\n",
    "        accelerator.backward(loss)\n",
    "        if step % gradient_accumulation_steps == 0:\n",
    "            accelerator.clip_grad_norm_(model.parameters(), 1.0)\n",
    "            optimizer.step()\n",
    "            lr_scheduler.step()\n",
    "            optimizer.zero_grad()\n",
    "            completed_steps += 1\n",
    "        if (step % (eval_steps * gradient_accumulation_steps)) == 0:\n",
    "            eval_loss, perplexity = evaluate(model=model) # evaluate() contains model.eval()\n",
    "            accelerator.print({\"loss/eval\": eval_loss, \"perplexity\": perplexity})\n",
    "            model.train()\n",
    "            accelerator.wait_for_everyone()\n",
    "            unwrapped_model = accelerator.unwrap_model(model)\n",
    "            unwrapped_model.save_pretrained(output_dir, save_function=accelerator.save)\n",
    "            if accelerator.is_main_process:\n",
    "                tokenizer.save_pretrained(output_dir)\n",
    "                repo.push_to_hub(commit_message=f\"Training in progress step {step}\", blocking=False)"
   ]
  },
  {
   "cell_type": "markdown",
   "id": "a7bb8a10-fab1-475c-b0fb-1444ec256d8b",
   "metadata": {},
   "source": [
    "> ✏️ Try it out! <font color=\"darkgreen\">When running long training experiments it's a good idea to log important metrics using tools such as TensorBoard or Weights & Biases. Add proper logging to the training loop so you can always check how the training is going.</font>"
   ]
  },
  {
   "cell_type": "code",
   "execution_count": 43,
   "id": "2a05ab20-a876-4add-8898-441114a561b0",
   "metadata": {},
   "outputs": [
    {
     "data": {
      "application/vnd.jupyter.widget-view+json": {
       "model_id": "260c0516d1d64ddf85a5aedf87fd15fe",
       "version_major": 2,
       "version_minor": 0
      },
      "text/plain": [
       "  0%|          | 0/625 [00:00<?, ?it/s]"
      ]
     },
     "metadata": {},
     "output_type": "display_data"
    }
   ],
   "source": [
    "import os\n",
    "import wandb\n",
    "from tqdm.notebook import tqdm\n",
    "from dotenv import load_dotenv\n",
    "load_dotenv()\n",
    "os.environ[\"WANDB_MODE\"] = \"online\"\n",
    "eval_steps = 5_000\n",
    "model.train()\n",
    "samples_per_step = 1\n",
    "completed_steps = 0\n",
    "gradient_accumulation_steps = 8\n",
    "\n",
    "\n",
    "wandb.login(os.environ[\"WANDB_TOKEN\"])\n",
    "wandb.init(\n",
    "    #reinit=True,\n",
    "    #project=\"HuggingFace-course_7.6_try-4\", # set project name\n",
    "    name=f\"try-4\",         # set run name\n",
    "    config={                                # log training config params\n",
    "        \"learning_rate\": lr_scheduler.get_last_lr()[0],\n",
    "        \"epochs\": num_train_epochs,\n",
    "        \"batch_size\": train_dataloader.batch_size,\n",
    "    }\n",
    ")\n",
    "print(f\"Run URL: {wandb.run.get_url()}\")\n",
    "# https://docs.wandb.ai/ref/python/init?utm_source=wandb_docs&utm_medium=code&utm_campaign=wandb.init\n",
    "accelerator = Accelerator(log_with=\"wandb\")\n",
    "accelerator.init_trackers(\n",
    "    project_name = \"7.6_try-4\", \n",
    "    config = {\n",
    "        \"dropout\": 0.1,\n",
    "        \"learning_rate\": 1e-2\n",
    "    },\n",
    "    init_kwargs={\n",
    "        \"wandb\":\n",
    "        {\n",
    "            \"entity\": \"Matthias Droth\"\n",
    "        }\n",
    "    }\n",
    ")\n",
    "\n",
    "\n",
    "\n",
    "\n",
    "for epoch in range(num_train_epochs):\n",
    "    for step, batch in tqdm(enumerate(train_dataloader, start=1), total=num_training_steps):\n",
    "        logits = model(batch[\"input_ids\"]).logits\n",
    "        loss = keytoken_weighted_loss(batch[\"input_ids\"], logits, keytoken_ids)\n",
    "        if step % 45_000 == 0:\n",
    "            accelerator.print(\n",
    "                {\n",
    "                    \"samples\": step * samples_per_step,\n",
    "                    \"steps\": completed_steps,\n",
    "                    \"loss/train\": loss.item() * gradient_accumulation_steps,\n",
    "                }\n",
    "            )\n",
    "        loss = loss / gradient_accumulation_steps\n",
    "        accelerator.backward(loss)\n",
    "        if step % gradient_accumulation_steps == 0:\n",
    "            accelerator.clip_grad_norm_(model.parameters(), 1.0)\n",
    "            optimizer.step()\n",
    "            lr_scheduler.step()\n",
    "            optimizer.zero_grad()\n",
    "            completed_steps += 1\n",
    "        if (step % (eval_steps * gradient_accumulation_steps)) == 0:\n",
    "            eval_loss, perplexity = evaluate(model=model) # evaluate() contains model.eval()\n",
    "            #\n",
    "            #accelerator.print({\"loss/eval\": eval_loss, \"perplexity\": perplexity})\n",
    "            accelerator.log({\"train_loss\": loss, \"valid_loss\": eval_loss}, step=step)\n",
    "            #\n",
    "            model.train()\n",
    "            accelerator.wait_for_everyone()\n",
    "            unwrapped_model = accelerator.unwrap_model(model)\n",
    "            unwrapped_model.save_pretrained(output_dir, save_function=accelerator.save)\n",
    "            if accelerator.is_main_process:\n",
    "                tokenizer.save_pretrained(output_dir)\n",
    "                repo.push_to_hub(commit_message=f\"Training in progress step {step}\", blocking=False)\n",
    "#\n",
    "accelerator.end_training()\n",
    "#wandb.finish()\n",
    "#os.environ[\"WANDB_MODE\"] = \"disabled\""
   ]
  },
  {
   "cell_type": "code",
   "execution_count": 44,
   "id": "03639554-be77-4f5a-b1a6-c1ee9cce52f0",
   "metadata": {},
   "outputs": [
    {
     "data": {
      "text/html": [
       "Changes to your `wandb` environment variables will be ignored because your `wandb` session has already started. For more information on how to modify your settings with `wandb.init()` arguments, please refer to <a href='https://wandb.me/wandb-init' target=\"_blank\">the W&B docs</a>."
      ],
      "text/plain": [
       "<IPython.core.display.HTML object>"
      ]
     },
     "metadata": {},
     "output_type": "display_data"
    },
    {
     "data": {
      "text/html": [
       "Changes to your `wandb` environment variables will be ignored because your `wandb` session has already started. For more information on how to modify your settings with `wandb.init()` arguments, please refer to <a href='https://wandb.me/wandb-init' target=\"_blank\">the W&B docs</a>."
      ],
      "text/plain": [
       "<IPython.core.display.HTML object>"
      ]
     },
     "metadata": {},
     "output_type": "display_data"
    },
    {
     "data": {
      "text/html": [
       "Changes to your `wandb` environment variables will be ignored because your `wandb` session has already started. For more information on how to modify your settings with `wandb.init()` arguments, please refer to <a href='https://wandb.me/wandb-init' target=\"_blank\">the W&B docs</a>."
      ],
      "text/plain": [
       "<IPython.core.display.HTML object>"
      ]
     },
     "metadata": {},
     "output_type": "display_data"
    },
    {
     "data": {
      "text/html": [
       "Changes to your `wandb` environment variables will be ignored because your `wandb` session has already started. For more information on how to modify your settings with `wandb.init()` arguments, please refer to <a href='https://wandb.me/wandb-init' target=\"_blank\">the W&B docs</a>."
      ],
      "text/plain": [
       "<IPython.core.display.HTML object>"
      ]
     },
     "metadata": {},
     "output_type": "display_data"
    },
    {
     "data": {
      "text/html": [
       "Changes to your `wandb` environment variables will be ignored because your `wandb` session has already started. For more information on how to modify your settings with `wandb.init()` arguments, please refer to <a href='https://wandb.me/wandb-init' target=\"_blank\">the W&B docs</a>."
      ],
      "text/plain": [
       "<IPython.core.display.HTML object>"
      ]
     },
     "metadata": {},
     "output_type": "display_data"
    }
   ],
   "source": [
    "# Launch 5 simulated experiments\n",
    "import random # remove this afterwards\n",
    "total_runs = 5\n",
    "for run in range(total_runs):\n",
    "    # 1️⃣ Start and track a new training run\n",
    "    wandb.init(\n",
    "        # Set the project where this run will be logged\n",
    "        project=\"basic-intro\",\n",
    "        # We pass a run name (otherwise it’ll be randomly assigned, like sunshine-lollypop-10)\n",
    "        name=f\"experiment_{run}\",\n",
    "        # Track hyperparameters and run metadata\n",
    "        config={\n",
    "            \"learning_rate\": 0.02,\n",
    "            \"architecture\": \"CNN\",\n",
    "            \"dataset\": \"CIFAR-100\",\n",
    "            \"epochs\": 10\n",
    "        }\n",
    "    )\n",
    "    # This simple block simulates a training loop logging metrics\n",
    "    epochs = 10\n",
    "    offset = random.random() / 5\n",
    "    for epoch in range(2, epochs):\n",
    "        acc = 1 - 2 ** -epoch - random.random() / epoch - offset\n",
    "        loss = 2 ** -epoch + random.random() / epoch + offset\n",
    "        # 2️⃣ Log W&B metrics\n",
    "        wandb.log({\"acc\": acc, \"loss\": loss})\n",
    "    # Mark the run as finished\n",
    "    wandb.finish()"
   ]
  },
  {
   "cell_type": "code",
   "execution_count": 45,
   "id": "ae3cd579-9bfc-4a65-a53d-760ec08bfd0c",
   "metadata": {},
   "outputs": [
    {
     "data": {
      "text/html": [
       "Changes to your `wandb` environment variables will be ignored because your `wandb` session has already started. For more information on how to modify your settings with `wandb.init()` arguments, please refer to <a href='https://wandb.me/wandb-init' target=\"_blank\">the W&B docs</a>."
      ],
      "text/plain": [
       "<IPython.core.display.HTML object>"
      ]
     },
     "metadata": {},
     "output_type": "display_data"
    },
    {
     "data": {
      "text/html": [
       "Changes to your `wandb` environment variables will be ignored because your `wandb` session has already started. For more information on how to modify your settings with `wandb.init()` arguments, please refer to <a href='https://wandb.me/wandb-init' target=\"_blank\">the W&B docs</a>."
      ],
      "text/plain": [
       "<IPython.core.display.HTML object>"
      ]
     },
     "metadata": {},
     "output_type": "display_data"
    },
    {
     "data": {
      "text/html": [
       "Changes to your `wandb` environment variables will be ignored because your `wandb` session has already started. For more information on how to modify your settings with `wandb.init()` arguments, please refer to <a href='https://wandb.me/wandb-init' target=\"_blank\">the W&B docs</a>."
      ],
      "text/plain": [
       "<IPython.core.display.HTML object>"
      ]
     },
     "metadata": {},
     "output_type": "display_data"
    },
    {
     "data": {
      "text/html": [
       "Changes to your `wandb` environment variables will be ignored because your `wandb` session has already started. For more information on how to modify your settings with `wandb.init()` arguments, please refer to <a href='https://wandb.me/wandb-init' target=\"_blank\">the W&B docs</a>."
      ],
      "text/plain": [
       "<IPython.core.display.HTML object>"
      ]
     },
     "metadata": {},
     "output_type": "display_data"
    },
    {
     "data": {
      "text/html": [
       "Changes to your `wandb` environment variables will be ignored because your `wandb` session has already started. For more information on how to modify your settings with `wandb.init()` arguments, please refer to <a href='https://wandb.me/wandb-init' target=\"_blank\">the W&B docs</a>."
      ],
      "text/plain": [
       "<IPython.core.display.HTML object>"
      ]
     },
     "metadata": {},
     "output_type": "display_data"
    }
   ],
   "source": [
    "# Launch 5 simulated experiments\n",
    "import os\n",
    "import math\n",
    "import wandb\n",
    "import random\n",
    "from dotenv import load_dotenv\n",
    "print(wandb.__version__)\n",
    "load_dotenv()\n",
    "wandb.login(\"true\", os.environ[\"WANDB_TOKEN\"])\n",
    "total_runs = 5\n",
    "for run in range(total_runs):\n",
    "    # 1️⃣ Start and track a new training run\n",
    "    wandb.init(\n",
    "        # Set the project where this run will be logged\n",
    "        project=\"basic-intro\",\n",
    "        # We pass a run name (otherwise it’ll be randomly assigned, like sunshine-lollypop-10)\n",
    "        name=f\"experiment_{run}\",\n",
    "        # Track hyperparameters and run metadata\n",
    "        config={\n",
    "            \"learning_rate\": 0.02,\n",
    "            \"architecture\": \"CNN\",\n",
    "            \"dataset\": \"CIFAR-100\",\n",
    "            \"epochs\": 10\n",
    "        }\n",
    "    )\n",
    "    # This simple block simulates a training loop logging metrics\n",
    "    epochs = 10\n",
    "    offset = random.random() / 5\n",
    "    for epoch in range(2, epochs):\n",
    "        acc = 1 - 2 ** -epoch - random.random() / epoch - offset\n",
    "        loss = 2 ** -epoch + random.random() / epoch + offset\n",
    "        # 2️⃣ Log W&B metrics\n",
    "        wandb.log({\"acc\": acc, \"loss\": loss})\n",
    "    # Mark the run as finished\n",
    "    wandb.finish()"
   ]
  },
  {
   "cell_type": "code",
   "execution_count": 46,
   "id": "ab062b71-43b0-431a-8b39-f6c0ac1ca055",
   "metadata": {},
   "outputs": [
    {
     "data": {
      "text/html": [
       "Changes to your `wandb` environment variables will be ignored because your `wandb` session has already started. For more information on how to modify your settings with `wandb.init()` arguments, please refer to <a href='https://wandb.me/wandb-init' target=\"_blank\">the W&B docs</a>."
      ],
      "text/plain": [
       "<IPython.core.display.HTML object>"
      ]
     },
     "metadata": {},
     "output_type": "display_data"
    },
    {
     "data": {
      "application/vnd.jupyter.widget-view+json": {
       "model_id": "7a1431a05f434d6db81d1a27c30eff58",
       "version_major": 2,
       "version_minor": 0
      },
      "text/plain": [
       "  0%|          | 0/625 [00:00<?, ?it/s]"
      ]
     },
     "metadata": {},
     "output_type": "display_data"
    }
   ],
   "source": [
    "# trying it out 4 (with wandb logging and logout; https://docs.wandb.ai/guides/track/environment-variables)\n",
    "import os\n",
    "import pytz\n",
    "import wandb\n",
    "from datetime import datetime\n",
    "from dotenv import load_dotenv\n",
    "load_dotenv()\n",
    "germany_tz = pytz.timezone(\"Europe/Berlin\")                 # get timezone\n",
    "current_time = datetime.now(germany_tz)                     # get current time (in timezone)\n",
    "formatted_time = current_time.strftime(\"%Y-%m-%d_%H:%M:%S\") # format current time\n",
    "print(formatted_time)\n",
    "#wandb.login(\"true\", os.environ[\"WANDB_TOKEN\"])\n",
    "wandb.login(os.environ[\"WANDB_TOKEN\"])\n",
    "wandb.init(\n",
    "    project=\"HuggingFace-course_7.6_try-4\", # set project name\n",
    "    name=f\"try-4_{formatted_time}\",         # set run name\n",
    "    config={                                # log training config params\n",
    "        \"learning_rate\": lr_scheduler.get_last_lr()[0],\n",
    "        \"epochs\": num_train_epochs,\n",
    "        \"batch_size\": train_dataloader.batch_size,\n",
    "    }\n",
    ")\n",
    "run_url = wandb.run.get_url()\n",
    "print(f\"Run URL: {run_url}\")\n",
    "accelerator = Accelerator()\n",
    "# train the model\n",
    "eval_steps = 5_000\n",
    "model.train()\n",
    "samples_per_step = 1\n",
    "completed_steps = 0\n",
    "gradient_accumulation_steps = 8\n",
    "for epoch in range(num_train_epochs):\n",
    "    for step, batch in tqdm(enumerate(train_dataloader, start=1), total=num_training_steps):\n",
    "        logits = model(batch[\"input_ids\"]).logits\n",
    "        loss = keytoken_weighted_loss(batch[\"input_ids\"], logits, keytoken_ids)\n",
    "        if step % 45_000 == 0:\n",
    "            accelerator.print(\n",
    "                {\n",
    "                    \"samples\": step * samples_per_step,\n",
    "                    \"steps\": completed_steps,\n",
    "                    \"loss/train\": loss.item() * gradient_accumulation_steps,\n",
    "                }\n",
    "            )\n",
    "        loss = loss / gradient_accumulation_steps\n",
    "        accelerator.backward(loss)\n",
    "        if step % gradient_accumulation_steps == 0:\n",
    "            accelerator.clip_grad_norm_(model.parameters(), 1.0)\n",
    "            optimizer.step()\n",
    "            lr_scheduler.step()\n",
    "            optimizer.zero_grad()\n",
    "            completed_steps += 1\n",
    "        if (step % (eval_steps * gradient_accumulation_steps)) == 0:\n",
    "            # evaluate_with_cross_entropy() contains model.eval()\n",
    "            eval_loss, cross_entropy = evaluate_with_cross_entropy(model=model)\n",
    "            accelerator.print({\"loss/eval\": eval_loss, \"cross_entropy\": cross_entropy})\n",
    "            model.train()\n",
    "            accelerator.wait_for_everyone()\n",
    "            unwrapped_model = accelerator.unwrap_model(model)\n",
    "            unwrapped_model.save_pretrained(output_dir, save_function=accelerator.save)\n",
    "# finish run and disable further tracking\n",
    "wandb.finish()\n",
    "#os.environ[\"WANDB_MODE\"] = \"disabled\""
   ]
  },
  {
   "cell_type": "code",
   "execution_count": 48,
   "id": "41e722f3-8367-4793-bbc1-20311441db28",
   "metadata": {},
   "outputs": [
    {
     "data": {
      "text/plain": [
       "'0.17.2'"
      ]
     },
     "execution_count": 48,
     "metadata": {},
     "output_type": "execute_result"
    }
   ],
   "source": [
    "wandb.__version__"
   ]
  },
  {
   "cell_type": "markdown",
   "id": "4b5134d9",
   "metadata": {},
   "source": [
    "$\\checkmark$"
   ]
  }
 ],
 "metadata": {
  "kernelspec": {
   "display_name": "Python 3 (ipykernel)",
   "language": "python",
   "name": "python3"
  },
  "language_info": {
   "codemirror_mode": {
    "name": "ipython",
    "version": 3
   },
   "file_extension": ".py",
   "mimetype": "text/x-python",
   "name": "python",
   "nbconvert_exporter": "python",
   "pygments_lexer": "ipython3",
   "version": "3.10.12"
  }
 },
 "nbformat": 4,
 "nbformat_minor": 5
}
