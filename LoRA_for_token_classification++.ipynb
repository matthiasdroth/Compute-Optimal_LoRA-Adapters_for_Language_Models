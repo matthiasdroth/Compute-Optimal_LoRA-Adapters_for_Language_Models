{
 "cells": [
  {
   "cell_type": "markdown",
   "id": "406e4345-3bdb-45aa-bd69-da2cb12f4332",
   "metadata": {},
   "source": [
    "For details, see the original notebook on `LoRA_for_token_classifcation` [[link](https://github.com/matthiasdroth/Compute-Optimal_LoRA-Adapters_for_Language_Models/blob/main/LoRA_for_token_classification.ipynb)].\n",
    "\n",
    "ToDo:\n",
    "- change model to `FacebookAI/roberta-large`\n",
    "- change dataset to `ai4privacy/pii-masking-200k`\n",
    "- change training to `accelerate`\n",
    "- count FLOPs via `einops` in training loop\n",
    "- add logic to find maximum batch size\n",
    "- add basic sweep and log to wandb"
   ]
  },
  {
   "cell_type": "code",
   "execution_count": 1,
   "id": "3caa633f-c618-42be-bb43-693c089d7fcd",
   "metadata": {},
   "outputs": [],
   "source": [
    "from datasets import load_dataset\n",
    "from transformers import (\n",
    "    AutoModelForTokenClassification,\n",
    "    AutoTokenizer,\n",
    "    DataCollatorForTokenClassification,\n",
    "    TrainingArguments,\n",
    "    Trainer,\n",
    ")\n",
    "from peft import get_peft_config, PeftModel, PeftConfig, get_peft_model, LoraConfig, TaskType\n",
    "import evaluate\n",
    "import torch\n",
    "import numpy as np\n",
    "\n",
    "model_checkpoint = \"FacebookAI/roberta-large\"\n",
    "lr = 1e-3\n",
    "batch_size = 16\n",
    "num_epochs = 10"
   ]
  },
  {
   "cell_type": "markdown",
   "id": "03b1a822-fbda-45c9-ab38-f9a6a3583542",
   "metadata": {},
   "source": [
    "## Load dataset and metric\n",
    "The [BioNLP2004](https://huggingface.co/datasets/tner/bionlp2004) dataset includes tokens and tags for biological structures like DNA, RNA and proteins. Load the dataset:"
   ]
  },
  {
   "cell_type": "code",
   "execution_count": 2,
   "id": "5416e0fd-e46a-4b7f-9a97-0c93e8f82c2f",
   "metadata": {},
   "outputs": [
    {
     "name": "stderr",
     "output_type": "stream",
     "text": [
      "Using the latest cached version of the dataset since tner/bionlp2004 couldn't be found on the Hugging Face Hub\n",
      "Found the latest cached dataset configuration 'bionlp2004' at /home/matthias/.cache/huggingface/datasets/tner___bionlp2004/bionlp2004/1.0.0/8d75081cb3dae70b3f59db7e8d851dbc42f9275d (last modified on Sat Feb 10 04:51:59 2024).\n"
     ]
    },
    {
     "data": {
      "text/plain": [
       "{'tokens': ['Since',\n",
       "  'HUVECs',\n",
       "  'released',\n",
       "  'superoxide',\n",
       "  'anions',\n",
       "  'in',\n",
       "  'response',\n",
       "  'to',\n",
       "  'TNF',\n",
       "  ',',\n",
       "  'and',\n",
       "  'H2O2',\n",
       "  'induces',\n",
       "  'VCAM-1',\n",
       "  ',',\n",
       "  'PDTC',\n",
       "  'may',\n",
       "  'act',\n",
       "  'as',\n",
       "  'a',\n",
       "  'radical',\n",
       "  'scavenger',\n",
       "  '.'],\n",
       " 'tags': [0, 7, 0, 0, 0, 0, 0, 0, 0, 0, 0, 0, 0, 3, 0, 0, 0, 0, 0, 0, 0, 0, 0]}"
      ]
     },
     "execution_count": 2,
     "metadata": {},
     "output_type": "execute_result"
    }
   ],
   "source": [
    "bionlp = load_dataset(\"tner/bionlp2004\")\n",
    "bionlp[\"train\"][0]"
   ]
  },
  {
   "cell_type": "markdown",
   "id": "7b6bf286-b78c-48d6-bbac-c52e3ec8ea63",
   "metadata": {},
   "source": [
    "The `tags` values are defined in the label ids [dictionary](https://huggingface.co/datasets/tner/bionlp2004#label-id). The letter that prefixes each label indicates the token position: `B` is for the first token of an entity, `I` is for a token inside the entity, and `0` is for a token that is not part of an entity.\n",
    "\n",
    "```\n",
    "{\n",
    "    \"O\": 0,\n",
    "    \"B-DNA\": 1,\n",
    "    \"I-DNA\": 2,\n",
    "    \"B-protein\": 3,\n",
    "    \"I-protein\": 4,\n",
    "    \"B-cell_type\": 5,\n",
    "    \"I-cell_type\": 6,\n",
    "    \"B-cell_line\": 7,\n",
    "    \"I-cell_line\": 8,\n",
    "    \"B-RNA\": 9,\n",
    "    \"I-RNA\": 10,\n",
    "}\n",
    "```\n",
    "\n",
    "Then load the [`seqeval`](https://huggingface.co/spaces/evaluate-metric/seqeval) framework which includes several metrics - precision, accuracy, F1, and recall - for evaluating sequence labeling tasks."
   ]
  },
  {
   "cell_type": "code",
   "execution_count": 3,
   "id": "24d087ed-ece3-430a-9733-9437b240d9d3",
   "metadata": {},
   "outputs": [],
   "source": [
    "seqeval = evaluate.load(\"seqeval\")"
   ]
  },
  {
   "cell_type": "markdown",
   "id": "86813f06-fd0a-405a-bba1-258750f272e9",
   "metadata": {},
   "source": [
    "Now you can write an evaluation function to compute the metrics from the model predictions and labels, and return the precision, recall, $F_1$, and accuracy scores:"
   ]
  },
  {
   "cell_type": "code",
   "execution_count": 4,
   "id": "4e4e1eb7-fda8-42d8-b9bf-47157340bd9c",
   "metadata": {},
   "outputs": [],
   "source": [
    "label_list = [\n",
    "    \"O\",\n",
    "    \"B-DNA\",\n",
    "    \"I-DNA\",\n",
    "    \"B-protein\",\n",
    "    \"I-protein\",\n",
    "    \"B-cell_type\",\n",
    "    \"I-cell_type\",\n",
    "    \"B-cell_line\",\n",
    "    \"I-cell_line\",\n",
    "    \"B-RNA\",\n",
    "    \"I-RNA\",\n",
    "]\n",
    "\n",
    "def compute_metrics(p):\n",
    "    predictions, labels = p\n",
    "    predictions = np.argmax(predictions, axis=2)\n",
    "    true_predictions = [\n",
    "        [label_list[p] for (p, l) in zip(prediction, label) if l != -100]\n",
    "        for prediction, label in zip(predictions, labels)\n",
    "    ]\n",
    "    true_labels = [\n",
    "        [label_list[l] for (p, l) in zip(prediction, label) if l != -100]\n",
    "        for prediction, label in zip(predictions, labels)\n",
    "    ]\n",
    "    results = seqeval.compute(predictions=true_predictions, references=true_labels)\n",
    "    return {\n",
    "        \"precision\": results[\"overall_precision\"],\n",
    "        \"recall\": results[\"overall_recall\"],\n",
    "        \"f1\": results[\"overall_f1\"],\n",
    "        \"accuracy\": results[\"overall_accuracy\"],\n",
    "    }"
   ]
  },
  {
   "cell_type": "markdown",
   "id": "ed5339a0-7ed6-4969-a03b-12593df8e5a5",
   "metadata": {},
   "source": [
    "## Preprocess dataset\n",
    "Initialize a tokenizer and make sure you set `is_split_into_words=True` because the text sequence has already been split into words. However, this doesn't mean it is tokenized yet (even though it may look like it!), and you'll need to further tokenize the words into subwords."
   ]
  },
  {
   "cell_type": "code",
   "execution_count": 5,
   "id": "976802dd-73cc-4a02-b5c8-89e5ac54792e",
   "metadata": {},
   "outputs": [],
   "source": [
    "tokenizer = AutoTokenizer.from_pretrained(model_checkpoint, add_prefix_space=True)"
   ]
  },
  {
   "cell_type": "markdown",
   "id": "17848124-ca64-4659-81c3-03a1e2d14ac4",
   "metadata": {},
   "source": [
    "You’ll also need to write a function to:\n",
    "1. Map each token to their respective word with the [`word_ids`](https://huggingface.co/docs/transformers/v4.37.2/en/main_classes/tokenizer#transformers.BatchEncoding.word_ids) method.\n",
    "1. Ignore the special tokens by setting them to `-100`.\n",
    "1.  Label the first token of a given entity."
   ]
  },
  {
   "cell_type": "code",
   "execution_count": 6,
   "id": "d0532539-3b19-477c-ac5e-bb94492b1b28",
   "metadata": {},
   "outputs": [],
   "source": [
    "def tokenize_and_align_labels(examples):\n",
    "    tokenized_inputs = tokenizer(examples[\"tokens\"], truncation=True, is_split_into_words=True)\n",
    "    labels = []\n",
    "    for i, label in enumerate(examples[f\"tags\"]):\n",
    "        word_ids = tokenized_inputs.word_ids(batch_index=i)\n",
    "        previous_word_idx = None\n",
    "        label_ids = []\n",
    "        for word_idx in word_ids:\n",
    "            if word_idx is None:\n",
    "                label_ids.append(-100)\n",
    "            elif word_idx != previous_word_idx:\n",
    "                label_ids.append(label[word_idx])\n",
    "            else:\n",
    "                label_ids.append(-100)\n",
    "            previous_word_idx = word_idx\n",
    "        labels.append(label_ids)\n",
    "    tokenized_inputs[\"labels\"] = labels\n",
    "    return tokenized_inputs"
   ]
  },
  {
   "cell_type": "markdown",
   "id": "a789cbf4-494d-474e-aa75-ea551482334c",
   "metadata": {},
   "source": [
    "Use [`map`](https://huggingface.co/docs/datasets/v2.16.1/en/package_reference/main_classes#datasets.Dataset.map) to apply the `tokenize_and_align_labels` function to the dataset:"
   ]
  },
  {
   "cell_type": "code",
   "execution_count": 7,
   "id": "3cda53bd-e439-4f5d-b769-888abafd2d80",
   "metadata": {},
   "outputs": [
    {
     "data": {
      "application/vnd.jupyter.widget-view+json": {
       "model_id": "52293d3406b14e598529860fdc436942",
       "version_major": 2,
       "version_minor": 0
      },
      "text/plain": [
       "Map:   0%|          | 0/1927 [00:00<?, ? examples/s]"
      ]
     },
     "metadata": {},
     "output_type": "display_data"
    },
    {
     "data": {
      "text/plain": [
       "DatasetDict({\n",
       "    train: Dataset({\n",
       "        features: ['tokens', 'tags', 'input_ids', 'attention_mask', 'labels'],\n",
       "        num_rows: 16619\n",
       "    })\n",
       "    validation: Dataset({\n",
       "        features: ['tokens', 'tags', 'input_ids', 'attention_mask', 'labels'],\n",
       "        num_rows: 1927\n",
       "    })\n",
       "    test: Dataset({\n",
       "        features: ['tokens', 'tags', 'input_ids', 'attention_mask', 'labels'],\n",
       "        num_rows: 3856\n",
       "    })\n",
       "})"
      ]
     },
     "execution_count": 7,
     "metadata": {},
     "output_type": "execute_result"
    }
   ],
   "source": [
    "tokenized_bionlp = bionlp.map(tokenize_and_align_labels, batched=True)\n",
    "tokenized_bionlp"
   ]
  },
  {
   "cell_type": "markdown",
   "id": "695fbfae-8c48-43df-ab53-d5ae96569905",
   "metadata": {},
   "source": [
    "Finally, create a data collator to pad the examples to the longest length in a batch:"
   ]
  },
  {
   "cell_type": "code",
   "execution_count": 8,
   "id": "04568fe9-bfd6-423f-827e-6b7160863ed9",
   "metadata": {},
   "outputs": [
    {
     "data": {
      "text/plain": [
       "DataCollatorForTokenClassification(tokenizer=RobertaTokenizerFast(name_or_path='roberta-large', vocab_size=50265, model_max_length=512, is_fast=True, padding_side='right', truncation_side='right', special_tokens={'bos_token': '<s>', 'eos_token': '</s>', 'unk_token': '<unk>', 'sep_token': '</s>', 'pad_token': '<pad>', 'cls_token': '<s>', 'mask_token': '<mask>'}, clean_up_tokenization_spaces=True),  added_tokens_decoder={\n",
       "\t0: AddedToken(\"<s>\", rstrip=False, lstrip=False, single_word=False, normalized=True, special=True),\n",
       "\t1: AddedToken(\"<pad>\", rstrip=False, lstrip=False, single_word=False, normalized=True, special=True),\n",
       "\t2: AddedToken(\"</s>\", rstrip=False, lstrip=False, single_word=False, normalized=True, special=True),\n",
       "\t3: AddedToken(\"<unk>\", rstrip=False, lstrip=False, single_word=False, normalized=True, special=True),\n",
       "\t50264: AddedToken(\"<mask>\", rstrip=False, lstrip=True, single_word=False, normalized=False, special=True),\n",
       "}, padding=True, max_length=None, pad_to_multiple_of=None, label_pad_token_id=-100, return_tensors='pt')"
      ]
     },
     "execution_count": 8,
     "metadata": {},
     "output_type": "execute_result"
    }
   ],
   "source": [
    "data_collator = DataCollatorForTokenClassification(tokenizer=tokenizer)\n",
    "data_collator"
   ]
  },
  {
   "cell_type": "markdown",
   "id": "d37211f5-f563-4c32-b2cf-0a5634e39bc4",
   "metadata": {},
   "source": [
    "## Train\n",
    "Now you're ready to create a [PeftModel](https://huggingface.co/docs/peft/v0.8.2/en/package_reference/peft_model#peft.PeftModel). Start by loading the base `roberta-large` model, the number of expected labels, and the `id2label` and `label2id` dictionaries:"
   ]
  },
  {
   "cell_type": "code",
   "execution_count": 9,
   "id": "0899ea47-a002-4d05-ad8c-48526a26cd8e",
   "metadata": {},
   "outputs": [
    {
     "name": "stderr",
     "output_type": "stream",
     "text": [
      "Some weights of RobertaForTokenClassification were not initialized from the model checkpoint at roberta-large and are newly initialized: ['classifier.bias', 'classifier.weight']\n",
      "You should probably TRAIN this model on a down-stream task to be able to use it for predictions and inference.\n"
     ]
    }
   ],
   "source": [
    "id2label = {\n",
    "    0: \"O\",\n",
    "    1: \"B-DNA\",\n",
    "    2: \"I-DNA\",\n",
    "    3: \"B-protein\",\n",
    "    4: \"I-protein\",\n",
    "    5: \"B-cell_type\",\n",
    "    6: \"I-cell_type\",\n",
    "    7: \"B-cell_line\",\n",
    "    8: \"I-cell_line\",\n",
    "    9: \"B-RNA\",\n",
    "    10: \"I-RNA\",\n",
    "}\n",
    "label2id = {\n",
    "    \"O\": 0,\n",
    "    \"B-DNA\": 1,\n",
    "    \"I-DNA\": 2,\n",
    "    \"B-protein\": 3,\n",
    "    \"I-protein\": 4,\n",
    "    \"B-cell_type\": 5,\n",
    "    \"I-cell_type\": 6,\n",
    "    \"B-cell_line\": 7,\n",
    "    \"I-cell_line\": 8,\n",
    "    \"B-RNA\": 9,\n",
    "    \"I-RNA\": 10,\n",
    "}\n",
    "\n",
    "model = AutoModelForTokenClassification.from_pretrained(\n",
    "    model_checkpoint,\n",
    "    num_labels=11,\n",
    "    id2label=id2label,\n",
    "    label2id=label2id\n",
    ")"
   ]
  },
  {
   "cell_type": "markdown",
   "id": "2bba790b-69cb-4075-9226-cf42e42d30e5",
   "metadata": {},
   "source": [
    "Define the [LoraConfig](https://huggingface.co/docs/peft/v0.8.2/en/package_reference/lora#peft.LoraConfig) with:\n",
    "- `task_type`, token classification (`TaskType.TOKEN_CLS`)\n",
    "- `r`, the dimension of the low-rank matrices\n",
    "- `lora_alpha`, scaling factor for the weight matrices\n",
    "- `lora_dropout`, dropout probability of the LoRA layers\n",
    "- `bias`, set to `all` to train all bias parameters\n",
    "\n",
    "> <font style=\"color:darkgreen\">💡 The weight matrix is scaled by `lora_alpha/r`, and a higher `lora_alpha` value assigns more weight to the LoRA activations. For performance, we recommend setting `bias` to `None` first, and then `lora_only`, before trying `all`.</font>"
   ]
  },
  {
   "cell_type": "code",
   "execution_count": 10,
   "id": "c6420299-f3f9-41c6-91a7-173dca5df6bc",
   "metadata": {},
   "outputs": [],
   "source": [
    "peft_config = LoraConfig(\n",
    "    task_type=TaskType.TOKEN_CLS,\n",
    "    inference_mode=False,\n",
    "    r=16,\n",
    "    lora_alpha=16,\n",
    "    lora_dropout=0.1,\n",
    "    bias=\"all\"\n",
    ")"
   ]
  },
  {
   "cell_type": "markdown",
   "id": "55ae30a9-9dbf-4bf7-b4e8-9b9b3ef278bd",
   "metadata": {},
   "source": [
    "Pass the base model and `peft_config` to the [`get_peft_model()`](https://huggingface.co/docs/peft/v0.8.2/en/package_reference/peft_model#peft.get_peft_model) function to create a [PeftModel](https://huggingface.co/docs/peft/v0.8.2/en/package_reference/peft_model#peft.PeftModel). You can check out how much more efficient training the PeftModel is compared to fully training the base model by printing out the trainable parameters:"
   ]
  },
  {
   "cell_type": "code",
   "execution_count": 11,
   "id": "1ae5ac5e-9e82-4159-8cff-9cafc719a50f",
   "metadata": {},
   "outputs": [
    {
     "name": "stdout",
     "output_type": "stream",
     "text": [
      "trainable params: 1,855,499 || all params: 355,905,558 || trainable%: 0.521345890304978\n"
     ]
    }
   ],
   "source": [
    "model = get_peft_model(model, peft_config)\n",
    "model.print_trainable_parameters()"
   ]
  },
  {
   "cell_type": "markdown",
   "id": "9a9c5873-b7c9-420c-a939-1f297f5457d0",
   "metadata": {},
   "source": [
    "From the 🤗 Transformers library, create a [TrainingArguments](https://huggingface.co/docs/transformers/v4.37.2/en/main_classes/trainer#transformers.TrainingArguments) class and specify where you want to save the model to, the training hyperparameters, how to evaluate the model, and when to save the checkpoints:"
   ]
  },
  {
   "cell_type": "code",
   "execution_count": 12,
   "id": "7f4126a3-9a0c-4199-b4c8-1df3a0f01409",
   "metadata": {},
   "outputs": [],
   "source": [
    "training_args = TrainingArguments(\n",
    "    output_dir=\"ner/logs/roberta-large-lora-token-classification\",\n",
    "    learning_rate=lr,\n",
    "    per_device_train_batch_size=batch_size,\n",
    "    per_device_eval_batch_size=batch_size,\n",
    "    num_train_epochs=num_epochs,\n",
    "    weight_decay=0.01,\n",
    "    evaluation_strategy=\"epoch\",\n",
    "    save_strategy=\"epoch\",\n",
    "    load_best_model_at_end=True,\n",
    ")"
   ]
  },
  {
   "cell_type": "markdown",
   "id": "a6d3adf7-af1d-4baa-a03f-39815d509bde",
   "metadata": {},
   "source": [
    "Pass the model, `TrainingArguments`, datasets, tokenizer, data collator and evaluation function to the [Trainer](https://huggingface.co/docs/transformers/v4.37.2/en/main_classes/trainer#transformers.Trainer) class. The `Trainer` handles the training loop for you, and when you're ready, call [`train`](https://huggingface.co/docs/transformers/v4.37.2/en/main_classes/trainer#transformers.Trainer.train) to begin!"
   ]
  },
  {
   "cell_type": "code",
   "execution_count": 13,
   "id": "f7939a17-eb40-4d16-8933-fb9eea344f5d",
   "metadata": {},
   "outputs": [
    {
     "name": "stderr",
     "output_type": "stream",
     "text": [
      "\u001b[34m\u001b[1mwandb\u001b[0m: Currently logged in as: \u001b[33mmdroth\u001b[0m. Use \u001b[1m`wandb login --relogin`\u001b[0m to force relogin\n"
     ]
    },
    {
     "data": {
      "text/html": [
       "wandb version 0.16.3 is available!  To upgrade, please run:\n",
       " $ pip install wandb --upgrade"
      ],
      "text/plain": [
       "<IPython.core.display.HTML object>"
      ]
     },
     "metadata": {},
     "output_type": "display_data"
    },
    {
     "data": {
      "text/html": [
       "Tracking run with wandb version 0.16.2"
      ],
      "text/plain": [
       "<IPython.core.display.HTML object>"
      ]
     },
     "metadata": {},
     "output_type": "display_data"
    },
    {
     "data": {
      "text/html": [
       "Run data is saved locally in <code>/home/matthias/Desktop/Compute-Optimal_LoRA_Adapters_for_Causal-LM/wandb/run-20240210_045205-69ra78hm</code>"
      ],
      "text/plain": [
       "<IPython.core.display.HTML object>"
      ]
     },
     "metadata": {},
     "output_type": "display_data"
    },
    {
     "data": {
      "text/html": [
       "Syncing run <strong><a href='https://wandb.ai/mdroth/huggingface/runs/69ra78hm' target=\"_blank\">sparkling-tiger-36</a></strong> to <a href='https://wandb.ai/mdroth/huggingface' target=\"_blank\">Weights & Biases</a> (<a href='https://wandb.me/run' target=\"_blank\">docs</a>)<br/>"
      ],
      "text/plain": [
       "<IPython.core.display.HTML object>"
      ]
     },
     "metadata": {},
     "output_type": "display_data"
    },
    {
     "data": {
      "text/html": [
       " View project at <a href='https://wandb.ai/mdroth/huggingface' target=\"_blank\">https://wandb.ai/mdroth/huggingface</a>"
      ],
      "text/plain": [
       "<IPython.core.display.HTML object>"
      ]
     },
     "metadata": {},
     "output_type": "display_data"
    },
    {
     "data": {
      "text/html": [
       " View run at <a href='https://wandb.ai/mdroth/huggingface/runs/69ra78hm' target=\"_blank\">https://wandb.ai/mdroth/huggingface/runs/69ra78hm</a>"
      ],
      "text/plain": [
       "<IPython.core.display.HTML object>"
      ]
     },
     "metadata": {},
     "output_type": "display_data"
    },
    {
     "data": {
      "text/html": [
       "\n",
       "    <div>\n",
       "      \n",
       "      <progress value='10390' max='10390' style='width:300px; height:20px; vertical-align: middle;'></progress>\n",
       "      [10390/10390 57:58, Epoch 10/10]\n",
       "    </div>\n",
       "    <table border=\"1\" class=\"dataframe\">\n",
       "  <thead>\n",
       " <tr style=\"text-align: left;\">\n",
       "      <th>Epoch</th>\n",
       "      <th>Training Loss</th>\n",
       "      <th>Validation Loss</th>\n",
       "      <th>Precision</th>\n",
       "      <th>Recall</th>\n",
       "      <th>F1</th>\n",
       "      <th>Accuracy</th>\n",
       "    </tr>\n",
       "  </thead>\n",
       "  <tbody>\n",
       "    <tr>\n",
       "      <td>1</td>\n",
       "      <td>0.226500</td>\n",
       "      <td>0.238021</td>\n",
       "      <td>0.647840</td>\n",
       "      <td>0.755988</td>\n",
       "      <td>0.697748</td>\n",
       "      <td>0.926590</td>\n",
       "    </tr>\n",
       "    <tr>\n",
       "      <td>2</td>\n",
       "      <td>0.191900</td>\n",
       "      <td>0.180658</td>\n",
       "      <td>0.738479</td>\n",
       "      <td>0.816676</td>\n",
       "      <td>0.775611</td>\n",
       "      <td>0.942075</td>\n",
       "    </tr>\n",
       "    <tr>\n",
       "      <td>3</td>\n",
       "      <td>0.179300</td>\n",
       "      <td>0.171411</td>\n",
       "      <td>0.729761</td>\n",
       "      <td>0.797047</td>\n",
       "      <td>0.761921</td>\n",
       "      <td>0.941720</td>\n",
       "    </tr>\n",
       "    <tr>\n",
       "      <td>4</td>\n",
       "      <td>0.165700</td>\n",
       "      <td>0.159875</td>\n",
       "      <td>0.771921</td>\n",
       "      <td>0.830722</td>\n",
       "      <td>0.800243</td>\n",
       "      <td>0.947210</td>\n",
       "    </tr>\n",
       "    <tr>\n",
       "      <td>5</td>\n",
       "      <td>0.152600</td>\n",
       "      <td>0.164807</td>\n",
       "      <td>0.770861</td>\n",
       "      <td>0.831803</td>\n",
       "      <td>0.800173</td>\n",
       "      <td>0.946659</td>\n",
       "    </tr>\n",
       "    <tr>\n",
       "      <td>6</td>\n",
       "      <td>0.143000</td>\n",
       "      <td>0.165204</td>\n",
       "      <td>0.773084</td>\n",
       "      <td>0.833784</td>\n",
       "      <td>0.802287</td>\n",
       "      <td>0.947367</td>\n",
       "    </tr>\n",
       "    <tr>\n",
       "      <td>7</td>\n",
       "      <td>0.128500</td>\n",
       "      <td>0.156880</td>\n",
       "      <td>0.798391</td>\n",
       "      <td>0.822258</td>\n",
       "      <td>0.810149</td>\n",
       "      <td>0.949453</td>\n",
       "    </tr>\n",
       "    <tr>\n",
       "      <td>8</td>\n",
       "      <td>0.117000</td>\n",
       "      <td>0.160195</td>\n",
       "      <td>0.790733</td>\n",
       "      <td>0.839006</td>\n",
       "      <td>0.814155</td>\n",
       "      <td>0.950220</td>\n",
       "    </tr>\n",
       "    <tr>\n",
       "      <td>9</td>\n",
       "      <td>0.104800</td>\n",
       "      <td>0.160320</td>\n",
       "      <td>0.800000</td>\n",
       "      <td>0.826940</td>\n",
       "      <td>0.813247</td>\n",
       "      <td>0.950614</td>\n",
       "    </tr>\n",
       "    <tr>\n",
       "      <td>10</td>\n",
       "      <td>0.095000</td>\n",
       "      <td>0.163106</td>\n",
       "      <td>0.796488</td>\n",
       "      <td>0.833063</td>\n",
       "      <td>0.814365</td>\n",
       "      <td>0.950575</td>\n",
       "    </tr>\n",
       "  </tbody>\n",
       "</table><p>"
      ],
      "text/plain": [
       "<IPython.core.display.HTML object>"
      ]
     },
     "metadata": {},
     "output_type": "display_data"
    },
    {
     "data": {
      "text/plain": [
       "TrainOutput(global_step=10390, training_loss=0.15525742495025546, metrics={'train_runtime': 3483.4532, 'train_samples_per_second': 47.708, 'train_steps_per_second': 2.983, 'total_flos': 2.356355526584813e+16, 'train_loss': 0.15525742495025546, 'epoch': 10.0})"
      ]
     },
     "execution_count": 13,
     "metadata": {},
     "output_type": "execute_result"
    }
   ],
   "source": [
    "trainer = Trainer(\n",
    "    model=model,\n",
    "    args=training_args,\n",
    "    #report_to=None,\n",
    "    train_dataset=tokenized_bionlp[\"train\"],\n",
    "    eval_dataset=tokenized_bionlp[\"validation\"],\n",
    "    tokenizer=tokenizer,\n",
    "    data_collator=data_collator,\n",
    "    compute_metrics=compute_metrics,\n",
    ")\n",
    "trainer.train()"
   ]
  },
  {
   "cell_type": "markdown",
   "id": "fa722ea6-7262-49d8-84e9-a5234358471f",
   "metadata": {},
   "source": [
    "## Share model\n",
    "Once training is complete, you can store and share your model on the Hub if you'd like. Log in to your HuggingFace account and enter your token when prompted:"
   ]
  },
  {
   "cell_type": "code",
   "execution_count": 14,
   "id": "7932264d-c9c9-49d3-92ad-80a3f2247e14",
   "metadata": {},
   "outputs": [
    {
     "data": {
      "application/vnd.jupyter.widget-view+json": {
       "model_id": "97e0c441df864bf4bbd27f08ba2db333",
       "version_major": 2,
       "version_minor": 0
      },
      "text/plain": [
       "VBox(children=(HTML(value='<center> <img\\nsrc=https://huggingface.co/front/assets/huggingface_logo-noborder.sv…"
      ]
     },
     "metadata": {},
     "output_type": "display_data"
    }
   ],
   "source": [
    "from huggingface_hub import notebook_login\n",
    "notebook_login()"
   ]
  },
  {
   "cell_type": "markdown",
   "id": "072ea915-496d-4c41-89c9-60aee466e894",
   "metadata": {},
   "source": [
    "Upload the model to a specific model repository on the Hub with the [`push_to_hub`](https://huggingface.co/docs/transformers/v4.37.2/en/main_classes/model#transformers.PreTrainedModel.push_to_hub) method:"
   ]
  },
  {
   "cell_type": "code",
   "execution_count": 15,
   "id": "44e336c1-4c28-4737-b552-3e9c293843f5",
   "metadata": {},
   "outputs": [
    {
     "data": {
      "application/vnd.jupyter.widget-view+json": {
       "model_id": "4744d60ebb6040ae81be53515f30d653",
       "version_major": 2,
       "version_minor": 0
      },
      "text/plain": [
       "adapter_model.safetensors:   0%|          | 0.00/7.46M [00:00<?, ?B/s]"
      ]
     },
     "metadata": {},
     "output_type": "display_data"
    },
    {
     "data": {
      "text/plain": [
       "CommitInfo(commit_url='https://huggingface.co/mdroth/roberta-large-lora-token-classification/commit/2831891f93a6449cb9f35e5195c0a67edbf7b9c1', commit_message='Upload model', commit_description='', oid='2831891f93a6449cb9f35e5195c0a67edbf7b9c1', pr_url=None, pr_revision=None, pr_num=None)"
      ]
     },
     "execution_count": 15,
     "metadata": {},
     "output_type": "execute_result"
    }
   ],
   "source": [
    "model.push_to_hub(\"mdroth/roberta-large-lora-token-classification\")"
   ]
  },
  {
   "cell_type": "markdown",
   "id": "142a72a4-51c7-4df9-951c-cfb5fee2cf0e",
   "metadata": {},
   "source": [
    "##  Inference\n",
    "To use your model for inference, load the configuration and model: $1+1=2$."
   ]
  },
  {
   "cell_type": "code",
   "execution_count": 16,
   "id": "96c229ee-c214-41f4-88e5-67f892dae927",
   "metadata": {},
   "outputs": [
    {
     "name": "stderr",
     "output_type": "stream",
     "text": [
      "Some weights of RobertaForTokenClassification were not initialized from the model checkpoint at roberta-large and are newly initialized: ['classifier.bias', 'classifier.weight']\n",
      "You should probably TRAIN this model on a down-stream task to be able to use it for predictions and inference.\n"
     ]
    },
    {
     "data": {
      "application/vnd.jupyter.widget-view+json": {
       "model_id": "57bb4f4d7dc843e49a9b0d6b67d74c0a",
       "version_major": 2,
       "version_minor": 0
      },
      "text/plain": [
       "adapter_model.safetensors:   0%|          | 0.00/7.46M [00:00<?, ?B/s]"
      ]
     },
     "metadata": {},
     "output_type": "display_data"
    }
   ],
   "source": [
    "peft_model_id = \"mdroth/roberta-large-lora-token-classification\"\n",
    "config = PeftConfig.from_pretrained(peft_model_id)\n",
    "inference_model = AutoModelForTokenClassification.from_pretrained(\n",
    "    config.base_model_name_or_path, num_labels=11, id2label=id2label, label2id=label2id\n",
    ")\n",
    "tokenizer = AutoTokenizer.from_pretrained(config.base_model_name_or_path)\n",
    "model = PeftModel.from_pretrained(inference_model, peft_model_id)"
   ]
  },
  {
   "cell_type": "markdown",
   "id": "95df9220-a86d-4856-82ef-1d702412e6c2",
   "metadata": {},
   "source": [
    "Get some text to tokenize:"
   ]
  },
  {
   "cell_type": "code",
   "execution_count": 17,
   "id": "e8236f66-2bd6-4d21-99e0-eaeba0fa57e5",
   "metadata": {},
   "outputs": [
    {
     "data": {
      "text/plain": [
       "{'input_ids': tensor([[    0,   133, 29997,     9, 11935,    12,   176, 10596,  8151,     8,\n",
       "         33861,    12,   330, 22181,   163,   149,  7522,  2517,  3441, 34729,\n",
       "         11747,   931,    30,   195,    12, 33330, 25456,  4138,  3175,     4,\n",
       "             2]]), 'attention_mask': tensor([[1, 1, 1, 1, 1, 1, 1, 1, 1, 1, 1, 1, 1, 1, 1, 1, 1, 1, 1, 1, 1, 1, 1, 1,\n",
       "         1, 1, 1, 1, 1, 1, 1]])}"
      ]
     },
     "execution_count": 17,
     "metadata": {},
     "output_type": "execute_result"
    }
   ],
   "source": [
    "text = \"The activation of IL-2 gene expression and NF-kappa B through CD28 requires reactive oxygen production by 5-lipoxygenase.\"\n",
    "inputs = tokenizer(text, return_tensors=\"pt\")\n",
    "inputs"
   ]
  },
  {
   "cell_type": "markdown",
   "id": "96545b9e-0200-422d-a9f8-8ce703d836f0",
   "metadata": {},
   "source": [
    "Pass the inputs to the model, and print out the model prediction for each token:"
   ]
  },
  {
   "cell_type": "code",
   "execution_count": 18,
   "id": "cf92b2ac-7f30-457b-a401-129c03390e0d",
   "metadata": {},
   "outputs": [
    {
     "name": "stdout",
     "output_type": "stream",
     "text": [
      "('<s>', 'O')\n",
      "('The', 'O')\n",
      "('Ġactivation', 'O')\n",
      "('Ġof', 'O')\n",
      "('ĠIL', 'B-DNA')\n",
      "('-', 'I-DNA')\n",
      "('2', 'I-DNA')\n",
      "('Ġgene', 'O')\n",
      "('Ġexpression', 'O')\n",
      "('Ġand', 'O')\n",
      "('ĠNF', 'B-protein')\n",
      "('-', 'O')\n",
      "('k', 'I-protein')\n",
      "('appa', 'I-protein')\n",
      "('ĠB', 'I-protein')\n",
      "('Ġthrough', 'O')\n",
      "('ĠCD', 'B-protein')\n",
      "('28', 'I-protein')\n",
      "('Ġrequires', 'O')\n",
      "('Ġreactive', 'O')\n",
      "('Ġoxygen', 'O')\n",
      "('Ġproduction', 'O')\n",
      "('Ġby', 'O')\n",
      "('Ġ5', 'B-protein')\n",
      "('-', 'I-protein')\n",
      "('lip', 'I-protein')\n",
      "('oxy', 'I-protein')\n",
      "('gen', 'I-protein')\n",
      "('ase', 'I-protein')\n",
      "('.', 'O')\n",
      "('</s>', 'O')\n"
     ]
    }
   ],
   "source": [
    "with torch.no_grad():\n",
    "    logits = model(**inputs).logits\n",
    "tokens = inputs.tokens()\n",
    "predictions = torch.argmax(logits, dim=2)\n",
    "for token, prediction in zip(tokens, predictions[0].numpy()):\n",
    "    print((token, model.config.id2label[prediction]))"
   ]
  },
  {
   "cell_type": "markdown",
   "id": "5dbaa5e4-323f-4bc3-a033-441b265ca943",
   "metadata": {},
   "source": [
    "<font style=\"font-weight:300\">✔</font>"
   ]
  }
 ],
 "metadata": {
  "kernelspec": {
   "display_name": "Python 3 (ipykernel)",
   "language": "python",
   "name": "python3"
  },
  "language_info": {
   "codemirror_mode": {
    "name": "ipython",
    "version": 3
   },
   "file_extension": ".py",
   "mimetype": "text/x-python",
   "name": "python",
   "nbconvert_exporter": "python",
   "pygments_lexer": "ipython3",
   "version": "3.11.3"
  }
 },
 "nbformat": 4,
 "nbformat_minor": 5
}
