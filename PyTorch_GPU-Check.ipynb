{
 "cells": [
  {
   "cell_type": "markdown",
   "id": "e04cc1b6",
   "metadata": {},
   "source": [
    "# Checking GPU Support for PyTorch\n",
    "\n",
    "Command for installing pytorch 2.1.2 with CUDA 11.8 support on a system with Nvidia driver 470.223.02:<br>\n",
    "`$ pip3 install torch torchvision torchaudio --index-url https://download.pytorch.org/whl/cu118`<br><br>\n",
    "See also https://pytorch.org/get-started/previous-versions."
   ]
  },
  {
   "cell_type": "code",
   "execution_count": 1,
   "id": "94cab709-8f29-41a3-8dfe-9e9cfea3b58b",
   "metadata": {},
   "outputs": [
    {
     "name": "stdout",
     "output_type": "stream",
     "text": [
      "/home/matthias/Desktop/Compute-Optimal_LoRA_Adapters_for_Causal-LM\n",
      "env  PyTorch_GPU-Check.ipynb  README.md\n"
     ]
    }
   ],
   "source": [
    "!pwd\n",
    "!ls"
   ]
  },
  {
   "cell_type": "code",
   "execution_count": 2,
   "id": "a032998d",
   "metadata": {},
   "outputs": [
    {
     "name": "stdout",
     "output_type": "stream",
     "text": [
      "# conda environments:\n",
      "#\n",
      "base                     /home/matthias/anaconda3\n",
      "\n"
     ]
    }
   ],
   "source": [
    "%%bash\n",
    "conda env list"
   ]
  },
  {
   "cell_type": "code",
   "execution_count": 3,
   "id": "010c0c5a",
   "metadata": {},
   "outputs": [
    {
     "name": "stdout",
     "output_type": "stream",
     "text": [
      "2.1.2+cu118\n",
      "0\n"
     ]
    },
    {
     "data": {
      "text/plain": [
       "'NVIDIA GeForce RTX 3060'"
      ]
     },
     "execution_count": 3,
     "metadata": {},
     "output_type": "execute_result"
    }
   ],
   "source": [
    "import torch\n",
    "print(torch.__version__)\n",
    "print(torch.cuda.current_device())\n",
    "torch.cuda.get_device_name(torch.cuda.current_device())"
   ]
  },
  {
   "cell_type": "markdown",
   "id": "a05d850c",
   "metadata": {},
   "source": [
    "GeForce RTX rules!"
   ]
  }
 ],
 "metadata": {
  "kernelspec": {
   "display_name": "Python 3 (ipykernel)",
   "language": "python",
   "name": "python3"
  },
  "language_info": {
   "codemirror_mode": {
    "name": "ipython",
    "version": 3
   },
   "file_extension": ".py",
   "mimetype": "text/x-python",
   "name": "python",
   "nbconvert_exporter": "python",
   "pygments_lexer": "ipython3",
   "version": "3.11.3"
  }
 },
 "nbformat": 4,
 "nbformat_minor": 5
}
